{
 "cells": [
  {
   "cell_type": "code",
   "execution_count": 41,
   "metadata": {},
   "outputs": [],
   "source": [
    "import pandas as pd \n",
    "import numpy as np\n",
    "import seaborn as sns\n",
    "import matplotlib.pyplot as plt\n",
    "import plotly.express as px\n",
    "\n",
    "pd.set_option('display.max_columns', None)\n",
    "pd.set_option('display.max_rows', None)"
   ]
  },
  {
   "cell_type": "markdown",
   "metadata": {},
   "source": [
    "## Vragen\n",
    "\n",
    "1. Noem een voorbeeld uit de praktijk waarin jullie algoritme wordt gebruikt.\n",
    "Het Random forest model wordt gebruikt in de Finaciele sector voor fraudedetecite. Het kan patronen identificeren die wijzen op verdachte activiteiten, zoals ongebruikelijke transacties of creditcardfraude. \n",
    "\n",
    "2. Hoe werkt het algoritme conceptueel? Wat zijn de belangrijkste stappen?\n",
    "- Bootstrapping:\n",
    "Maakt willekeurige subsets van de trainingsgegevens door exemplaren met vervanging te selecteren.\n",
    "- Kenmerkselectie:\n",
    "Selecteerd willekeurige kenmerken bij elke knoop in elke boom om overfitting te verminderen.\n",
    "- Opbouwen van Beslissingsbomen:\n",
    "Trained beslissingsbomen op de subsets van gegevens en kenmerken.\n",
    "- Voorspellingen van Elke Boom:\n",
    "Gebruikt elke boom om voorspellingen te doen op nieuwe gegevens.\n",
    "- Aggregatie van Voorspellingen:\n",
    "Combineert de voorspellingen van alle bomen om de uiteindelijke voorspelling van het Random Forest te verkrijgen, bijvoorbeeld door het nemen van gemiddelden (voor regressie) of meerderheid (voor classificatie).\n",
    "\n",
    "3. Wat zijn de voor- en nadelen van jullie algoritme? In welke situaties werkt het heel\n",
    "goed en wanneer juist niet?\n",
    "\n",
    "Voordelen:\n",
    "- Random Forest heeft vaak een hoge voorspellende nauwkeurigheid, zelfs zonder veel afstemming van hyperparameters.\n",
    "- Door het gebruik van meerdere bomen en bootstrapping is Random Forest robuust tegen overfitting, overfitting gebeurt snel bij kleine datasets, wat bij ons het geval is.\n",
    "\n",
    "Nadelen:\n",
    "- Het maken van voorspellingen kan relatief lang duren, vooral bij grote aantallen bomen en kenmerken.\n",
    "\n",
    "Wanneer werkt Random forest wel goed:\n",
    "- Random Forest presteert goed bij complexe taken waarin er veel interacties en niet-lineaire relaties tussen kenmerken zijn.\n",
    "\n",
    "Wanneer werkt Random forest niet goed:\n",
    "- Als snelle voorspellingen cruciaal zijn, kan Random Forest minder geschikt zijn vanwege de aggregatie van resultaten over meerdere bomen.\n"
   ]
  },
  {
   "cell_type": "code",
   "execution_count": 76,
   "metadata": {},
   "outputs": [],
   "source": [
    "data = pd.read_csv('./data/classification/data.csv')"
   ]
  },
  {
   "cell_type": "markdown",
   "metadata": {},
   "source": [
    "## Verkenende analyse"
   ]
  },
  {
   "cell_type": "code",
   "execution_count": 77,
   "metadata": {},
   "outputs": [
    {
     "data": {
      "text/html": [
       "<div>\n",
       "<style scoped>\n",
       "    .dataframe tbody tr th:only-of-type {\n",
       "        vertical-align: middle;\n",
       "    }\n",
       "\n",
       "    .dataframe tbody tr th {\n",
       "        vertical-align: top;\n",
       "    }\n",
       "\n",
       "    .dataframe thead th {\n",
       "        text-align: right;\n",
       "    }\n",
       "</style>\n",
       "<table border=\"1\" class=\"dataframe\">\n",
       "  <thead>\n",
       "    <tr style=\"text-align: right;\">\n",
       "      <th></th>\n",
       "      <th>id</th>\n",
       "      <th>diagnosis</th>\n",
       "      <th>radius_mean</th>\n",
       "      <th>texture_mean</th>\n",
       "      <th>perimeter_mean</th>\n",
       "      <th>area_mean</th>\n",
       "      <th>smoothness_mean</th>\n",
       "      <th>compactness_mean</th>\n",
       "      <th>concavity_mean</th>\n",
       "      <th>concave points_mean</th>\n",
       "      <th>symmetry_mean</th>\n",
       "      <th>fractal_dimension_mean</th>\n",
       "      <th>radius_se</th>\n",
       "      <th>texture_se</th>\n",
       "      <th>perimeter_se</th>\n",
       "      <th>area_se</th>\n",
       "      <th>smoothness_se</th>\n",
       "      <th>compactness_se</th>\n",
       "      <th>concavity_se</th>\n",
       "      <th>concave points_se</th>\n",
       "      <th>symmetry_se</th>\n",
       "      <th>fractal_dimension_se</th>\n",
       "      <th>radius_worst</th>\n",
       "      <th>texture_worst</th>\n",
       "      <th>perimeter_worst</th>\n",
       "      <th>area_worst</th>\n",
       "      <th>smoothness_worst</th>\n",
       "      <th>compactness_worst</th>\n",
       "      <th>concavity_worst</th>\n",
       "      <th>concave points_worst</th>\n",
       "      <th>symmetry_worst</th>\n",
       "      <th>fractal_dimension_worst</th>\n",
       "      <th>Unnamed: 32</th>\n",
       "    </tr>\n",
       "  </thead>\n",
       "  <tbody>\n",
       "    <tr>\n",
       "      <th>0</th>\n",
       "      <td>842302</td>\n",
       "      <td>M</td>\n",
       "      <td>17.99</td>\n",
       "      <td>10.38</td>\n",
       "      <td>122.80</td>\n",
       "      <td>1001.0</td>\n",
       "      <td>0.11840</td>\n",
       "      <td>0.27760</td>\n",
       "      <td>0.3001</td>\n",
       "      <td>0.14710</td>\n",
       "      <td>0.2419</td>\n",
       "      <td>0.07871</td>\n",
       "      <td>1.0950</td>\n",
       "      <td>0.9053</td>\n",
       "      <td>8.589</td>\n",
       "      <td>153.40</td>\n",
       "      <td>0.006399</td>\n",
       "      <td>0.04904</td>\n",
       "      <td>0.05373</td>\n",
       "      <td>0.01587</td>\n",
       "      <td>0.03003</td>\n",
       "      <td>0.006193</td>\n",
       "      <td>25.38</td>\n",
       "      <td>17.33</td>\n",
       "      <td>184.60</td>\n",
       "      <td>2019.0</td>\n",
       "      <td>0.1622</td>\n",
       "      <td>0.6656</td>\n",
       "      <td>0.7119</td>\n",
       "      <td>0.2654</td>\n",
       "      <td>0.4601</td>\n",
       "      <td>0.11890</td>\n",
       "      <td>NaN</td>\n",
       "    </tr>\n",
       "    <tr>\n",
       "      <th>1</th>\n",
       "      <td>842517</td>\n",
       "      <td>M</td>\n",
       "      <td>20.57</td>\n",
       "      <td>17.77</td>\n",
       "      <td>132.90</td>\n",
       "      <td>1326.0</td>\n",
       "      <td>0.08474</td>\n",
       "      <td>0.07864</td>\n",
       "      <td>0.0869</td>\n",
       "      <td>0.07017</td>\n",
       "      <td>0.1812</td>\n",
       "      <td>0.05667</td>\n",
       "      <td>0.5435</td>\n",
       "      <td>0.7339</td>\n",
       "      <td>3.398</td>\n",
       "      <td>74.08</td>\n",
       "      <td>0.005225</td>\n",
       "      <td>0.01308</td>\n",
       "      <td>0.01860</td>\n",
       "      <td>0.01340</td>\n",
       "      <td>0.01389</td>\n",
       "      <td>0.003532</td>\n",
       "      <td>24.99</td>\n",
       "      <td>23.41</td>\n",
       "      <td>158.80</td>\n",
       "      <td>1956.0</td>\n",
       "      <td>0.1238</td>\n",
       "      <td>0.1866</td>\n",
       "      <td>0.2416</td>\n",
       "      <td>0.1860</td>\n",
       "      <td>0.2750</td>\n",
       "      <td>0.08902</td>\n",
       "      <td>NaN</td>\n",
       "    </tr>\n",
       "    <tr>\n",
       "      <th>2</th>\n",
       "      <td>84300903</td>\n",
       "      <td>M</td>\n",
       "      <td>19.69</td>\n",
       "      <td>21.25</td>\n",
       "      <td>130.00</td>\n",
       "      <td>1203.0</td>\n",
       "      <td>0.10960</td>\n",
       "      <td>0.15990</td>\n",
       "      <td>0.1974</td>\n",
       "      <td>0.12790</td>\n",
       "      <td>0.2069</td>\n",
       "      <td>0.05999</td>\n",
       "      <td>0.7456</td>\n",
       "      <td>0.7869</td>\n",
       "      <td>4.585</td>\n",
       "      <td>94.03</td>\n",
       "      <td>0.006150</td>\n",
       "      <td>0.04006</td>\n",
       "      <td>0.03832</td>\n",
       "      <td>0.02058</td>\n",
       "      <td>0.02250</td>\n",
       "      <td>0.004571</td>\n",
       "      <td>23.57</td>\n",
       "      <td>25.53</td>\n",
       "      <td>152.50</td>\n",
       "      <td>1709.0</td>\n",
       "      <td>0.1444</td>\n",
       "      <td>0.4245</td>\n",
       "      <td>0.4504</td>\n",
       "      <td>0.2430</td>\n",
       "      <td>0.3613</td>\n",
       "      <td>0.08758</td>\n",
       "      <td>NaN</td>\n",
       "    </tr>\n",
       "    <tr>\n",
       "      <th>3</th>\n",
       "      <td>84348301</td>\n",
       "      <td>M</td>\n",
       "      <td>11.42</td>\n",
       "      <td>20.38</td>\n",
       "      <td>77.58</td>\n",
       "      <td>386.1</td>\n",
       "      <td>0.14250</td>\n",
       "      <td>0.28390</td>\n",
       "      <td>0.2414</td>\n",
       "      <td>0.10520</td>\n",
       "      <td>0.2597</td>\n",
       "      <td>0.09744</td>\n",
       "      <td>0.4956</td>\n",
       "      <td>1.1560</td>\n",
       "      <td>3.445</td>\n",
       "      <td>27.23</td>\n",
       "      <td>0.009110</td>\n",
       "      <td>0.07458</td>\n",
       "      <td>0.05661</td>\n",
       "      <td>0.01867</td>\n",
       "      <td>0.05963</td>\n",
       "      <td>0.009208</td>\n",
       "      <td>14.91</td>\n",
       "      <td>26.50</td>\n",
       "      <td>98.87</td>\n",
       "      <td>567.7</td>\n",
       "      <td>0.2098</td>\n",
       "      <td>0.8663</td>\n",
       "      <td>0.6869</td>\n",
       "      <td>0.2575</td>\n",
       "      <td>0.6638</td>\n",
       "      <td>0.17300</td>\n",
       "      <td>NaN</td>\n",
       "    </tr>\n",
       "    <tr>\n",
       "      <th>4</th>\n",
       "      <td>84358402</td>\n",
       "      <td>M</td>\n",
       "      <td>20.29</td>\n",
       "      <td>14.34</td>\n",
       "      <td>135.10</td>\n",
       "      <td>1297.0</td>\n",
       "      <td>0.10030</td>\n",
       "      <td>0.13280</td>\n",
       "      <td>0.1980</td>\n",
       "      <td>0.10430</td>\n",
       "      <td>0.1809</td>\n",
       "      <td>0.05883</td>\n",
       "      <td>0.7572</td>\n",
       "      <td>0.7813</td>\n",
       "      <td>5.438</td>\n",
       "      <td>94.44</td>\n",
       "      <td>0.011490</td>\n",
       "      <td>0.02461</td>\n",
       "      <td>0.05688</td>\n",
       "      <td>0.01885</td>\n",
       "      <td>0.01756</td>\n",
       "      <td>0.005115</td>\n",
       "      <td>22.54</td>\n",
       "      <td>16.67</td>\n",
       "      <td>152.20</td>\n",
       "      <td>1575.0</td>\n",
       "      <td>0.1374</td>\n",
       "      <td>0.2050</td>\n",
       "      <td>0.4000</td>\n",
       "      <td>0.1625</td>\n",
       "      <td>0.2364</td>\n",
       "      <td>0.07678</td>\n",
       "      <td>NaN</td>\n",
       "    </tr>\n",
       "  </tbody>\n",
       "</table>\n",
       "</div>"
      ],
      "text/plain": [
       "         id diagnosis  radius_mean  texture_mean  perimeter_mean  area_mean  \\\n",
       "0    842302         M        17.99         10.38          122.80     1001.0   \n",
       "1    842517         M        20.57         17.77          132.90     1326.0   \n",
       "2  84300903         M        19.69         21.25          130.00     1203.0   \n",
       "3  84348301         M        11.42         20.38           77.58      386.1   \n",
       "4  84358402         M        20.29         14.34          135.10     1297.0   \n",
       "\n",
       "   smoothness_mean  compactness_mean  concavity_mean  concave points_mean  \\\n",
       "0          0.11840           0.27760          0.3001              0.14710   \n",
       "1          0.08474           0.07864          0.0869              0.07017   \n",
       "2          0.10960           0.15990          0.1974              0.12790   \n",
       "3          0.14250           0.28390          0.2414              0.10520   \n",
       "4          0.10030           0.13280          0.1980              0.10430   \n",
       "\n",
       "   symmetry_mean  fractal_dimension_mean  radius_se  texture_se  perimeter_se  \\\n",
       "0         0.2419                 0.07871     1.0950      0.9053         8.589   \n",
       "1         0.1812                 0.05667     0.5435      0.7339         3.398   \n",
       "2         0.2069                 0.05999     0.7456      0.7869         4.585   \n",
       "3         0.2597                 0.09744     0.4956      1.1560         3.445   \n",
       "4         0.1809                 0.05883     0.7572      0.7813         5.438   \n",
       "\n",
       "   area_se  smoothness_se  compactness_se  concavity_se  concave points_se  \\\n",
       "0   153.40       0.006399         0.04904       0.05373            0.01587   \n",
       "1    74.08       0.005225         0.01308       0.01860            0.01340   \n",
       "2    94.03       0.006150         0.04006       0.03832            0.02058   \n",
       "3    27.23       0.009110         0.07458       0.05661            0.01867   \n",
       "4    94.44       0.011490         0.02461       0.05688            0.01885   \n",
       "\n",
       "   symmetry_se  fractal_dimension_se  radius_worst  texture_worst  \\\n",
       "0      0.03003              0.006193         25.38          17.33   \n",
       "1      0.01389              0.003532         24.99          23.41   \n",
       "2      0.02250              0.004571         23.57          25.53   \n",
       "3      0.05963              0.009208         14.91          26.50   \n",
       "4      0.01756              0.005115         22.54          16.67   \n",
       "\n",
       "   perimeter_worst  area_worst  smoothness_worst  compactness_worst  \\\n",
       "0           184.60      2019.0            0.1622             0.6656   \n",
       "1           158.80      1956.0            0.1238             0.1866   \n",
       "2           152.50      1709.0            0.1444             0.4245   \n",
       "3            98.87       567.7            0.2098             0.8663   \n",
       "4           152.20      1575.0            0.1374             0.2050   \n",
       "\n",
       "   concavity_worst  concave points_worst  symmetry_worst  \\\n",
       "0           0.7119                0.2654          0.4601   \n",
       "1           0.2416                0.1860          0.2750   \n",
       "2           0.4504                0.2430          0.3613   \n",
       "3           0.6869                0.2575          0.6638   \n",
       "4           0.4000                0.1625          0.2364   \n",
       "\n",
       "   fractal_dimension_worst  Unnamed: 32  \n",
       "0                  0.11890          NaN  \n",
       "1                  0.08902          NaN  \n",
       "2                  0.08758          NaN  \n",
       "3                  0.17300          NaN  \n",
       "4                  0.07678          NaN  "
      ]
     },
     "execution_count": 77,
     "metadata": {},
     "output_type": "execute_result"
    }
   ],
   "source": [
    "# Hier word gekeken hoe het dataframe eruit ziet\n",
    "data.head()"
   ]
  },
  {
   "cell_type": "code",
   "execution_count": 78,
   "metadata": {},
   "outputs": [
    {
     "data": {
      "text/plain": [
       "Index(['id', 'diagnosis', 'radius_mean', 'texture_mean', 'perimeter_mean',\n",
       "       'area_mean', 'smoothness_mean', 'compactness_mean', 'concavity_mean',\n",
       "       'concave points_mean', 'symmetry_mean', 'fractal_dimension_mean',\n",
       "       'radius_se', 'texture_se', 'perimeter_se', 'area_se', 'smoothness_se',\n",
       "       'compactness_se', 'concavity_se', 'concave points_se', 'symmetry_se',\n",
       "       'fractal_dimension_se', 'radius_worst', 'texture_worst',\n",
       "       'perimeter_worst', 'area_worst', 'smoothness_worst',\n",
       "       'compactness_worst', 'concavity_worst', 'concave points_worst',\n",
       "       'symmetry_worst', 'fractal_dimension_worst', 'Unnamed: 32'],\n",
       "      dtype='object')"
      ]
     },
     "execution_count": 78,
     "metadata": {},
     "output_type": "execute_result"
    }
   ],
   "source": [
    "# Hier wordt gekeken welke kolommen er allemaal in de dataframe staan\n",
    "data.columns"
   ]
  },
  {
   "cell_type": "code",
   "execution_count": 79,
   "metadata": {},
   "outputs": [
    {
     "name": "stdout",
     "output_type": "stream",
     "text": [
      "<class 'pandas.core.frame.DataFrame'>\n",
      "RangeIndex: 569 entries, 0 to 568\n",
      "Data columns (total 33 columns):\n",
      " #   Column                   Non-Null Count  Dtype  \n",
      "---  ------                   --------------  -----  \n",
      " 0   id                       569 non-null    int64  \n",
      " 1   diagnosis                569 non-null    object \n",
      " 2   radius_mean              569 non-null    float64\n",
      " 3   texture_mean             569 non-null    float64\n",
      " 4   perimeter_mean           569 non-null    float64\n",
      " 5   area_mean                569 non-null    float64\n",
      " 6   smoothness_mean          569 non-null    float64\n",
      " 7   compactness_mean         569 non-null    float64\n",
      " 8   concavity_mean           569 non-null    float64\n",
      " 9   concave points_mean      569 non-null    float64\n",
      " 10  symmetry_mean            569 non-null    float64\n",
      " 11  fractal_dimension_mean   569 non-null    float64\n",
      " 12  radius_se                569 non-null    float64\n",
      " 13  texture_se               569 non-null    float64\n",
      " 14  perimeter_se             569 non-null    float64\n",
      " 15  area_se                  569 non-null    float64\n",
      " 16  smoothness_se            569 non-null    float64\n",
      " 17  compactness_se           569 non-null    float64\n",
      " 18  concavity_se             569 non-null    float64\n",
      " 19  concave points_se        569 non-null    float64\n",
      " 20  symmetry_se              569 non-null    float64\n",
      " 21  fractal_dimension_se     569 non-null    float64\n",
      " 22  radius_worst             569 non-null    float64\n",
      " 23  texture_worst            569 non-null    float64\n",
      " 24  perimeter_worst          569 non-null    float64\n",
      " 25  area_worst               569 non-null    float64\n",
      " 26  smoothness_worst         569 non-null    float64\n",
      " 27  compactness_worst        569 non-null    float64\n",
      " 28  concavity_worst          569 non-null    float64\n",
      " 29  concave points_worst     569 non-null    float64\n",
      " 30  symmetry_worst           569 non-null    float64\n",
      " 31  fractal_dimension_worst  569 non-null    float64\n",
      " 32  Unnamed: 32              0 non-null      float64\n",
      "dtypes: float64(31), int64(1), object(1)\n",
      "memory usage: 146.8+ KB\n"
     ]
    }
   ],
   "source": [
    "# Wat is het type van de data in het dataframe?\n",
    "# Als het dataframe een kolom heeft met veel Nan waarden of missing values dan kan deze kolom gedropt worden of dan moeten deze waarden ingevuld worden.\n",
    "data.info()"
   ]
  },
  {
   "cell_type": "code",
   "execution_count": 80,
   "metadata": {},
   "outputs": [
    {
     "data": {
      "text/plain": [
       "id                           0\n",
       "diagnosis                    0\n",
       "radius_mean                  0\n",
       "texture_mean                 0\n",
       "perimeter_mean               0\n",
       "area_mean                    0\n",
       "smoothness_mean              0\n",
       "compactness_mean             0\n",
       "concavity_mean               0\n",
       "concave points_mean          0\n",
       "symmetry_mean                0\n",
       "fractal_dimension_mean       0\n",
       "radius_se                    0\n",
       "texture_se                   0\n",
       "perimeter_se                 0\n",
       "area_se                      0\n",
       "smoothness_se                0\n",
       "compactness_se               0\n",
       "concavity_se                 0\n",
       "concave points_se            0\n",
       "symmetry_se                  0\n",
       "fractal_dimension_se         0\n",
       "radius_worst                 0\n",
       "texture_worst                0\n",
       "perimeter_worst              0\n",
       "area_worst                   0\n",
       "smoothness_worst             0\n",
       "compactness_worst            0\n",
       "concavity_worst              0\n",
       "concave points_worst         0\n",
       "symmetry_worst               0\n",
       "fractal_dimension_worst      0\n",
       "Unnamed: 32                569\n",
       "dtype: int64"
      ]
     },
     "execution_count": 80,
     "metadata": {},
     "output_type": "execute_result"
    }
   ],
   "source": [
    "# Zitten er nan values in het dataframe?\n",
    "data.isna().sum()"
   ]
  },
  {
   "cell_type": "code",
   "execution_count": 81,
   "metadata": {},
   "outputs": [],
   "source": [
    "# Unnamed 32 is een kolom met alleen maar nan waardes, deze is dus niet nodig\n",
    "data.drop(columns = ['Unnamed: 32', 'id'], inplace= True)\n"
   ]
  },
  {
   "cell_type": "code",
   "execution_count": 82,
   "metadata": {},
   "outputs": [
    {
     "name": "stdout",
     "output_type": "stream",
     "text": [
      "diagnosis\n",
      "B    357\n",
      "M    212\n",
      "Name: count, dtype: int64\n"
     ]
    },
    {
     "data": {
      "text/plain": [
       "diagnosis\n",
       "B    0.627417\n",
       "M    0.372583\n",
       "Name: proportion, dtype: float64"
      ]
     },
     "execution_count": 82,
     "metadata": {},
     "output_type": "execute_result"
    }
   ],
   "source": [
    "# M = malignant (kwaadaardig) B = begnin (goedaardig)\n",
    "# Wat is ongeveer de verhoding van goedaardig en kwaadaardig\n",
    "print(data.diagnosis.value_counts())\n",
    "data.diagnosis.value_counts(normalize = True)"
   ]
  },
  {
   "cell_type": "code",
   "execution_count": 83,
   "metadata": {},
   "outputs": [],
   "source": [
    "# voor machine learning moet alles een numerieke waarde zijn, dus kwaadaardig = 1 goedaardig  = 0\n",
    "data['diagnosis'] = data['diagnosis'].replace({'M': 1, 'B': 0})"
   ]
  },
  {
   "cell_type": "code",
   "execution_count": 84,
   "metadata": {},
   "outputs": [],
   "source": [
    "# De correlatie maken tussen de verschillende kolommen\n",
    "corr = data.corr()"
   ]
  },
  {
   "cell_type": "code",
   "execution_count": 85,
   "metadata": {},
   "outputs": [
    {
     "data": {
      "text/plain": [
       "diagnosis                  1.000000\n",
       "concave points_worst       0.793566\n",
       "perimeter_worst            0.782914\n",
       "concave points_mean        0.776614\n",
       "radius_worst               0.776454\n",
       "perimeter_mean             0.742636\n",
       "area_worst                 0.733825\n",
       "radius_mean                0.730029\n",
       "area_mean                  0.708984\n",
       "concavity_mean             0.696360\n",
       "concavity_worst            0.659610\n",
       "compactness_mean           0.596534\n",
       "compactness_worst          0.590998\n",
       "radius_se                  0.567134\n",
       "perimeter_se               0.556141\n",
       "area_se                    0.548236\n",
       "texture_worst              0.456903\n",
       "smoothness_worst           0.421465\n",
       "symmetry_worst             0.416294\n",
       "texture_mean               0.415185\n",
       "concave points_se          0.408042\n",
       "smoothness_mean            0.358560\n",
       "symmetry_mean              0.330499\n",
       "fractal_dimension_worst    0.323872\n",
       "compactness_se             0.292999\n",
       "concavity_se               0.253730\n",
       "fractal_dimension_se       0.077972\n",
       "symmetry_se               -0.006522\n",
       "texture_se                -0.008303\n",
       "fractal_dimension_mean    -0.012838\n",
       "smoothness_se             -0.067016\n",
       "Name: diagnosis, dtype: float64"
      ]
     },
     "execution_count": 85,
     "metadata": {},
     "output_type": "execute_result"
    }
   ],
   "source": [
    "# Hier kan gezien worden welke kolommen de hoogste correlatie hebben met de diagnose \n",
    "# Het spreekt voor zich dat de kolom diagnosis precies een correlatie heeft van 1, \n",
    "# concave points_worst heeft dus de hoogste correlatie\n",
    "corr['diagnosis'].sort_values(ascending = False)"
   ]
  },
  {
   "cell_type": "code",
   "execution_count": 86,
   "metadata": {},
   "outputs": [
    {
     "data": {
      "application/vnd.plotly.v1+json": {
       "config": {
        "plotlyServerURL": "https://plot.ly"
       },
       "data": [
        {
         "coloraxis": "coloraxis",
         "hovertemplate": "x: %{x}<br>y: %{y}<br>color: %{z}<extra></extra>",
         "name": "0",
         "type": "heatmap",
         "x": [
          "diagnosis",
          "radius_mean",
          "texture_mean",
          "perimeter_mean",
          "area_mean",
          "smoothness_mean",
          "compactness_mean",
          "concavity_mean",
          "concave points_mean",
          "symmetry_mean",
          "fractal_dimension_mean",
          "radius_se",
          "texture_se",
          "perimeter_se",
          "area_se",
          "smoothness_se",
          "compactness_se",
          "concavity_se",
          "concave points_se",
          "symmetry_se",
          "fractal_dimension_se",
          "radius_worst",
          "texture_worst",
          "perimeter_worst",
          "area_worst",
          "smoothness_worst",
          "compactness_worst",
          "concavity_worst",
          "concave points_worst",
          "symmetry_worst",
          "fractal_dimension_worst"
         ],
         "xaxis": "x",
         "y": [
          "diagnosis",
          "radius_mean",
          "texture_mean",
          "perimeter_mean",
          "area_mean",
          "smoothness_mean",
          "compactness_mean",
          "concavity_mean",
          "concave points_mean",
          "symmetry_mean",
          "fractal_dimension_mean",
          "radius_se",
          "texture_se",
          "perimeter_se",
          "area_se",
          "smoothness_se",
          "compactness_se",
          "concavity_se",
          "concave points_se",
          "symmetry_se",
          "fractal_dimension_se",
          "radius_worst",
          "texture_worst",
          "perimeter_worst",
          "area_worst",
          "smoothness_worst",
          "compactness_worst",
          "concavity_worst",
          "concave points_worst",
          "symmetry_worst",
          "fractal_dimension_worst"
         ],
         "yaxis": "y",
         "z": [
          [
           1,
           0.730028511375456,
           0.4151852998452047,
           0.7426355297258332,
           0.7089838365853902,
           0.35855996508593324,
           0.5965336775082528,
           0.6963597071719052,
           0.7766138400204369,
           0.33049855426254676,
           -0.012837602698431866,
           0.5671338208247173,
           -0.008303332973877087,
           0.556140703431483,
           0.548235940278024,
           -0.0670160105794875,
           0.29299924424885854,
           0.25372976598083063,
           0.40804233271650503,
           -0.006521755870647808,
           0.07797241739025584,
           0.7764537785950396,
           0.4569028213967983,
           0.782914137173759,
           0.7338250349210503,
           0.4214648610664026,
           0.5909982378417917,
           0.6596102103692333,
           0.7935660171412694,
           0.41629431104861975,
           0.3238721887208247
          ],
          [
           0.730028511375456,
           1,
           0.32378189092773324,
           0.9978552814938106,
           0.9873571700566129,
           0.17058118749299458,
           0.506123577526363,
           0.6767635503908105,
           0.8225285223871784,
           0.14774124199260188,
           -0.31163082630928984,
           0.6790903880020744,
           -0.09731744314481315,
           0.6741716157641049,
           0.7358636632128176,
           -0.22260012458211142,
           0.2059999804076987,
           0.1942036227615088,
           0.3761689559399252,
           -0.10432088141786554,
           -0.04264126911445634,
           0.9695389726112049,
           0.2970076439863734,
           0.9651365139559871,
           0.9410824595860461,
           0.11961613992160791,
           0.4134628230608012,
           0.5269114618385446,
           0.7442141978674655,
           0.16395333493630693,
           0.007065885692182385
          ],
          [
           0.4151852998452047,
           0.32378189092773324,
           1,
           0.3295330586865707,
           0.3210856960802071,
           -0.023388515998423332,
           0.23670222207437197,
           0.30241782794389144,
           0.29346405131394276,
           0.07140098048331764,
           -0.0764371834481342,
           0.2758686761737625,
           0.38635762272449065,
           0.28167311478720264,
           0.2598449866100985,
           0.0066137773535855215,
           0.1919746113239669,
           0.14329307656049867,
           0.16385102528521822,
           0.009127167755035892,
           0.05445751956893386,
           0.35257294715029575,
           0.912044588840421,
           0.3580395750532242,
           0.3435459471864695,
           0.07750335882212907,
           0.2778295924789794,
           0.3010252238164912,
           0.2953158433377365,
           0.10500791031597186,
           0.11920535139708566
          ],
          [
           0.7426355297258332,
           0.9978552814938106,
           0.3295330586865707,
           1,
           0.9865068039913908,
           0.20727816369100724,
           0.5569362108795619,
           0.7161356501174047,
           0.8509770412528194,
           0.18302721211685316,
           -0.2614769080663325,
           0.6917650135334819,
           -0.08676107831179455,
           0.6931348895408653,
           0.7449826941190684,
           -0.20269402629832212,
           0.2507436807405881,
           0.22808234539365824,
           0.407216915998619,
           -0.08162932702839933,
           -0.005523391057003878,
           0.9694763634663146,
           0.3030383715571504,
           0.9703868870426395,
           0.9415498080023067,
           0.1505494043170373,
           0.4557742280383272,
           0.5638792634736619,
           0.7712407893605496,
           0.18911504046245772,
           0.051018529723407056
          ],
          [
           0.7089838365853902,
           0.9873571700566129,
           0.3210856960802071,
           0.9865068039913908,
           1,
           0.1770283772540016,
           0.498501682152412,
           0.6859828285519112,
           0.8232688686524342,
           0.1512930790351123,
           -0.28310981169142607,
           0.7325622269972968,
           -0.06628021360457734,
           0.7266283277906844,
           0.8000859212343204,
           -0.16677666660111282,
           0.2125825507792327,
           0.20766006048256924,
           0.37232028233071046,
           -0.07249658821176244,
           -0.019886963235068052,
           0.9627460860470841,
           0.28748862712139706,
           0.9591195743552647,
           0.9592133256498999,
           0.12352293875557081,
           0.3904103092424987,
           0.512605920443324,
           0.722016626260358,
           0.14356991388907164,
           0.003737597351571732
          ],
          [
           0.35855996508593324,
           0.17058118749299458,
           -0.023388515998423332,
           0.20727816369100724,
           0.1770283772540016,
           1,
           0.6591232152159233,
           0.52198376771426,
           0.5536951727437609,
           0.5577747880728878,
           0.5847920019499776,
           0.30146709825316975,
           0.06840644817118247,
           0.29609193289351476,
           0.2465524316657356,
           0.3323754426475921,
           0.31894329670537874,
           0.24839567988255598,
           0.38067569098328613,
           0.20077437592048314,
           0.28360669854688514,
           0.21312014189594916,
           0.03607179878564651,
           0.23885262620915107,
           0.20671836342857694,
           0.805324195494363,
           0.4724684437304437,
           0.4349257147250876,
           0.503053353298951,
           0.39430948181175646,
           0.4993163685937669
          ],
          [
           0.5965336775082528,
           0.506123577526363,
           0.23670222207437197,
           0.5569362108795619,
           0.498501682152412,
           0.6591232152159233,
           1,
           0.8831206701772507,
           0.831135043133698,
           0.6026410484055157,
           0.5653686634145217,
           0.49747344608506183,
           0.046204830716407,
           0.5489052645888236,
           0.45565285198788846,
           0.1352992677004714,
           0.7387217896603929,
           0.5705168714898889,
           0.642261850971647,
           0.22997659080143223,
           0.5073181269004213,
           0.5353153982176662,
           0.24813283327741725,
           0.5902104277312981,
           0.50960380555792,
           0.5655411663750887,
           0.8658090398022626,
           0.8162752498000282,
           0.8155732235690645,
           0.510223429921806,
           0.6873823227538975
          ],
          [
           0.6963597071719052,
           0.6767635503908105,
           0.30241782794389144,
           0.7161356501174047,
           0.6859828285519112,
           0.52198376771426,
           0.8831206701772507,
           1,
           0.921391026378859,
           0.5006666171419607,
           0.336783359421185,
           0.6319248221414899,
           0.07621834813534022,
           0.6603907872419604,
           0.6174268058452413,
           0.09856374579911731,
           0.6702788246430194,
           0.6912702075448504,
           0.6832599165123261,
           0.1780092079208776,
           0.44930074905033784,
           0.6882364076436723,
           0.29987888870969076,
           0.7295649165132017,
           0.6759872313060873,
           0.44882203840476004,
           0.7549680159063961,
           0.8841026390943817,
           0.8613230336379513,
           0.4094641265399857,
           0.5149298906363857
          ],
          [
           0.7766138400204369,
           0.8225285223871784,
           0.29346405131394276,
           0.8509770412528194,
           0.8232688686524342,
           0.5536951727437609,
           0.831135043133698,
           0.921391026378859,
           1,
           0.46249738836735826,
           0.16691738322699232,
           0.6980498335607401,
           0.021479581923401814,
           0.710649871613898,
           0.6902985397595536,
           0.02765330838713596,
           0.49042424959357145,
           0.43916706847426173,
           0.615634130896919,
           0.09535078688667677,
           0.25758374624303265,
           0.8303176311186159,
           0.2927517130015173,
           0.8559231281343123,
           0.8096296199096182,
           0.4527530541790489,
           0.6674536768257124,
           0.7523994975749643,
           0.910155314298592,
           0.3757441454236113,
           0.36866113371677106
          ],
          [
           0.33049855426254676,
           0.14774124199260188,
           0.07140098048331764,
           0.18302721211685316,
           0.1512930790351123,
           0.5577747880728878,
           0.6026410484055157,
           0.5006666171419607,
           0.46249738836735826,
           1,
           0.47992133005096904,
           0.3033792632072624,
           0.12805292634025606,
           0.31389276079651307,
           0.22397021941762962,
           0.18732116526139078,
           0.4216591470050107,
           0.3426270230777206,
           0.39329787208901684,
           0.4491365423934286,
           0.33178614627312375,
           0.18572775349568738,
           0.09065068811664319,
           0.21916855911105815,
           0.17719337737409682,
           0.4266750263849465,
           0.47320001324461847,
           0.433721007590172,
           0.4302966114579542,
           0.6998257976437307,
           0.4384134984446025
          ],
          [
           -0.012837602698431866,
           -0.31163082630928984,
           -0.0764371834481342,
           -0.2614769080663325,
           -0.28310981169142607,
           0.5847920019499776,
           0.5653686634145217,
           0.336783359421185,
           0.16691738322699232,
           0.47992133005096904,
           1,
           0.00011099507262963461,
           0.1641739658717288,
           0.03982993157204734,
           -0.090170247520427,
           0.40196442544841254,
           0.5598366906211326,
           0.44663032169957156,
           0.3411980443971182,
           0.34500739714372797,
           0.6881315774585518,
           -0.2536914948766098,
           -0.051269202036765375,
           -0.2051512112627734,
           -0.23185445116756032,
           0.5049420753517612,
           0.45879815666785945,
           0.3462338763480677,
           0.17532544924324475,
           0.33401868385108374,
           0.7672967792384361
          ],
          [
           0.5671338208247173,
           0.6790903880020744,
           0.2758686761737625,
           0.6917650135334819,
           0.7325622269972968,
           0.30146709825316975,
           0.49747344608506183,
           0.6319248221414899,
           0.6980498335607401,
           0.3033792632072624,
           0.00011099507262963461,
           1,
           0.213247337251158,
           0.9727936770160764,
           0.951830112110991,
           0.16451421981281159,
           0.3560645755322028,
           0.33235753760761044,
           0.5133464414367648,
           0.240567362450071,
           0.22775353267198015,
           0.715065195135185,
           0.19479855683425132,
           0.7196838036650045,
           0.7515484761266198,
           0.14191855291860658,
           0.2871031656007403,
           0.38058463462872183,
           0.5310623278216047,
           0.09454283035438192,
           0.04955943246457313
          ],
          [
           -0.008303332973877087,
           -0.09731744314481315,
           0.38635762272449065,
           -0.08676107831179455,
           -0.06628021360457734,
           0.06840644817118247,
           0.046204830716407,
           0.07621834813534022,
           0.021479581923401814,
           0.12805292634025606,
           0.1641739658717288,
           0.213247337251158,
           1,
           0.2231707286307139,
           0.11156724721803944,
           0.39724285264120995,
           0.2316996989762372,
           0.19499846445881905,
           0.23028339955703386,
           0.41162068019753933,
           0.2797227477191938,
           -0.11169031312493008,
           0.409002766315306,
           -0.10224192188743281,
           -0.0831949885850464,
           -0.07365765910118512,
           -0.09243935361819376,
           -0.06895622054645596,
           -0.11963752313984616,
           -0.12821475779252947,
           -0.04565456859320706
          ],
          [
           0.556140703431483,
           0.6741716157641049,
           0.28167311478720264,
           0.6931348895408653,
           0.7266283277906844,
           0.29609193289351476,
           0.5489052645888236,
           0.6603907872419604,
           0.710649871613898,
           0.31389276079651307,
           0.03982993157204734,
           0.9727936770160764,
           0.2231707286307139,
           1,
           0.9376554069544158,
           0.15107533120841293,
           0.41632236799246164,
           0.3624815822704489,
           0.5562640836543961,
           0.2664870918640224,
           0.24414277341628535,
           0.6972005927206456,
           0.20037085395945106,
           0.7210313099890177,
           0.7307129731302829,
           0.1300543919910096,
           0.34191944537120555,
           0.41889881573057136,
           0.5548972306282104,
           0.10993043423135032,
           0.08543257205665739
          ],
          [
           0.548235940278024,
           0.7358636632128176,
           0.2598449866100985,
           0.7449826941190684,
           0.8000859212343204,
           0.2465524316657356,
           0.45565285198788846,
           0.6174268058452413,
           0.6902985397595536,
           0.22397021941762962,
           -0.090170247520427,
           0.951830112110991,
           0.11156724721803944,
           0.9376554069544158,
           1,
           0.07515033812199375,
           0.2848400565411611,
           0.270894726190632,
           0.4157295683714004,
           0.1341089796924749,
           0.12707090297801246,
           0.7573731889240164,
           0.19649664907281025,
           0.761212636068759,
           0.8114079609317274,
           0.12538943051609122,
           0.28325653753745555,
           0.38510013559852924,
           0.5381663138957359,
           0.07412629159952819,
           0.017539295132385495
          ],
          [
           -0.0670160105794875,
           -0.22260012458211142,
           0.0066137773535855215,
           -0.20269402629832212,
           -0.16677666660111282,
           0.3323754426475921,
           0.1352992677004714,
           0.09856374579911731,
           0.02765330838713596,
           0.18732116526139078,
           0.40196442544841254,
           0.16451421981281159,
           0.39724285264120995,
           0.15107533120841293,
           0.07515033812199375,
           1,
           0.3366960805054452,
           0.2686847598722627,
           0.32842949910967884,
           0.4135061252078973,
           0.42737420672315823,
           -0.23069070984514767,
           -0.07474296487675625,
           -0.21730375458186166,
           -0.18219547805909897,
           0.314457455980828,
           -0.0555581387150509,
           -0.058298386743445514,
           -0.10200679633746536,
           -0.10734209778914475,
           0.10148031504252507
          ],
          [
           0.29299924424885854,
           0.2059999804076987,
           0.1919746113239669,
           0.2507436807405881,
           0.2125825507792327,
           0.31894329670537874,
           0.7387217896603929,
           0.6702788246430194,
           0.49042424959357145,
           0.4216591470050107,
           0.5598366906211326,
           0.3560645755322028,
           0.2316996989762372,
           0.41632236799246164,
           0.2848400565411611,
           0.3366960805054452,
           1,
           0.8012683427383293,
           0.7440826676953254,
           0.39471283476203156,
           0.8032688176617678,
           0.20460716594748166,
           0.14300258329571658,
           0.26051583964720865,
           0.19937132909101388,
           0.22739423230542308,
           0.6787803543724954,
           0.6391466977559191,
           0.4832083268256133,
           0.277878430714635,
           0.5909727625047896
          ],
          [
           0.25372976598083063,
           0.1942036227615088,
           0.14329307656049867,
           0.22808234539365824,
           0.20766006048256924,
           0.24839567988255598,
           0.5705168714898889,
           0.6912702075448504,
           0.43916706847426173,
           0.3426270230777206,
           0.44663032169957156,
           0.33235753760761044,
           0.19499846445881905,
           0.3624815822704489,
           0.270894726190632,
           0.2686847598722627,
           0.8012683427383293,
           1,
           0.7718039949238469,
           0.30942857798445156,
           0.727372183881192,
           0.1869035156858978,
           0.1002409837483462,
           0.22668042559090154,
           0.1883526520895307,
           0.1684813207913676,
           0.48485780068646867,
           0.662564133742741,
           0.44047226304622306,
           0.19778782186141092,
           0.43932926857579074
          ],
          [
           0.40804233271650503,
           0.3761689559399252,
           0.16385102528521822,
           0.407216915998619,
           0.37232028233071046,
           0.38067569098328613,
           0.642261850971647,
           0.6832599165123261,
           0.615634130896919,
           0.39329787208901684,
           0.3411980443971182,
           0.5133464414367648,
           0.23028339955703386,
           0.5562640836543961,
           0.4157295683714004,
           0.32842949910967884,
           0.7440826676953254,
           0.7718039949238469,
           1,
           0.3127802232097334,
           0.6110441393807231,
           0.35812666924104264,
           0.08674120994286842,
           0.3949992517741846,
           0.34227116209268155,
           0.21535059681593355,
           0.45288837736988047,
           0.5495923752351922,
           0.6024496059209876,
           0.14311566863305006,
           0.31065455149383076
          ],
          [
           -0.006521755870647808,
           -0.10432088141786554,
           0.009127167755035892,
           -0.08162932702839933,
           -0.07249658821176244,
           0.20077437592048314,
           0.22997659080143223,
           0.1780092079208776,
           0.09535078688667677,
           0.4491365423934286,
           0.34500739714372797,
           0.240567362450071,
           0.41162068019753933,
           0.2664870918640224,
           0.1341089796924749,
           0.4135061252078973,
           0.39471283476203156,
           0.30942857798445156,
           0.3127802232097334,
           1,
           0.3690780833657291,
           -0.1281207690727424,
           -0.0774734201840788,
           -0.103753043843325,
           -0.11034274289549832,
           -0.01266179956590896,
           0.06025487946536685,
           0.03711904859992837,
           -0.03041339642360093,
           0.38940248488464635,
           0.07807947627266759
          ],
          [
           0.07797241739025584,
           -0.04264126911445634,
           0.05445751956893386,
           -0.005523391057003878,
           -0.019886963235068052,
           0.28360669854688514,
           0.5073181269004213,
           0.44930074905033784,
           0.25758374624303265,
           0.33178614627312375,
           0.6881315774585518,
           0.22775353267198015,
           0.2797227477191938,
           0.24414277341628535,
           0.12707090297801246,
           0.42737420672315823,
           0.8032688176617678,
           0.727372183881192,
           0.6110441393807231,
           0.3690780833657291,
           1,
           -0.03748761786267358,
           -0.0031950288680895737,
           -0.0010003976259669305,
           -0.0227361473089006,
           0.1705683159531418,
           0.39015884208667484,
           0.3799746614570791,
           0.21520401331002892,
           0.11109395575572387,
           0.5913280656608751
          ],
          [
           0.7764537785950396,
           0.9695389726112049,
           0.35257294715029575,
           0.9694763634663146,
           0.9627460860470841,
           0.21312014189594916,
           0.5353153982176662,
           0.6882364076436723,
           0.8303176311186159,
           0.18572775349568738,
           -0.2536914948766098,
           0.715065195135185,
           -0.11169031312493008,
           0.6972005927206456,
           0.7573731889240164,
           -0.23069070984514767,
           0.20460716594748166,
           0.1869035156858978,
           0.35812666924104264,
           -0.1281207690727424,
           -0.03748761786267358,
           1,
           0.35992075422104813,
           0.993707916102949,
           0.9840145644590745,
           0.21657443125969564,
           0.4758200374601465,
           0.5739747080993032,
           0.7874238517122407,
           0.2435292042913139,
           0.0934919786793018
          ],
          [
           0.4569028213967983,
           0.2970076439863734,
           0.912044588840421,
           0.3030383715571504,
           0.28748862712139706,
           0.03607179878564651,
           0.24813283327741725,
           0.29987888870969076,
           0.2927517130015173,
           0.09065068811664319,
           -0.051269202036765375,
           0.19479855683425132,
           0.409002766315306,
           0.20037085395945106,
           0.19649664907281025,
           -0.07474296487675625,
           0.14300258329571658,
           0.1002409837483462,
           0.08674120994286842,
           -0.0774734201840788,
           -0.0031950288680895737,
           0.35992075422104813,
           1,
           0.3650982454086192,
           0.3458422825267967,
           0.2254294149094867,
           0.36083233859797315,
           0.3683656074599455,
           0.3597546095250359,
           0.23302746144531722,
           0.2191224254631588
          ],
          [
           0.782914137173759,
           0.9651365139559871,
           0.3580395750532242,
           0.9703868870426395,
           0.9591195743552647,
           0.23885262620915107,
           0.5902104277312981,
           0.7295649165132017,
           0.8559231281343123,
           0.21916855911105815,
           -0.2051512112627734,
           0.7196838036650045,
           -0.10224192188743281,
           0.7210313099890177,
           0.761212636068759,
           -0.21730375458186166,
           0.26051583964720865,
           0.22668042559090154,
           0.3949992517741846,
           -0.103753043843325,
           -0.0010003976259669305,
           0.993707916102949,
           0.3650982454086192,
           1,
           0.9775780914063873,
           0.2367746038860697,
           0.5294076901641023,
           0.6183440795335158,
           0.8163221016875439,
           0.26949276908381725,
           0.13895686184575765
          ],
          [
           0.7338250349210503,
           0.9410824595860461,
           0.3435459471864695,
           0.9415498080023067,
           0.9592133256498999,
           0.20671836342857694,
           0.50960380555792,
           0.6759872313060873,
           0.8096296199096182,
           0.17719337737409682,
           -0.23185445116756032,
           0.7515484761266198,
           -0.0831949885850464,
           0.7307129731302829,
           0.8114079609317274,
           -0.18219547805909897,
           0.19937132909101388,
           0.1883526520895307,
           0.34227116209268155,
           -0.11034274289549832,
           -0.0227361473089006,
           0.9840145644590745,
           0.3458422825267967,
           0.9775780914063873,
           1,
           0.20914533376028965,
           0.43829628377967406,
           0.5433305254110798,
           0.7474188023228168,
           0.20914550838707907,
           0.07964703402467606
          ],
          [
           0.4214648610664026,
           0.11961613992160791,
           0.07750335882212907,
           0.1505494043170373,
           0.12352293875557081,
           0.805324195494363,
           0.5655411663750887,
           0.44882203840476004,
           0.4527530541790489,
           0.4266750263849465,
           0.5049420753517612,
           0.14191855291860658,
           -0.07365765910118512,
           0.1300543919910096,
           0.12538943051609122,
           0.314457455980828,
           0.22739423230542308,
           0.1684813207913676,
           0.21535059681593355,
           -0.01266179956590896,
           0.1705683159531418,
           0.21657443125969564,
           0.2254294149094867,
           0.2367746038860697,
           0.20914533376028965,
           1,
           0.5681865166856064,
           0.5185232928640013,
           0.5476909029497875,
           0.4938383302357593,
           0.617624191655438
          ],
          [
           0.5909982378417917,
           0.4134628230608012,
           0.2778295924789794,
           0.4557742280383272,
           0.3904103092424987,
           0.4724684437304437,
           0.8658090398022626,
           0.7549680159063961,
           0.6674536768257124,
           0.47320001324461847,
           0.45879815666785945,
           0.2871031656007403,
           -0.09243935361819376,
           0.34191944537120555,
           0.28325653753745555,
           -0.0555581387150509,
           0.6787803543724954,
           0.48485780068646867,
           0.45288837736988047,
           0.06025487946536685,
           0.39015884208667484,
           0.4758200374601465,
           0.36083233859797315,
           0.5294076901641023,
           0.43829628377967406,
           0.5681865166856064,
           1,
           0.8922608987764685,
           0.8010803646352529,
           0.614440501149307,
           0.8104548563116118
          ],
          [
           0.6596102103692333,
           0.5269114618385446,
           0.3010252238164912,
           0.5638792634736619,
           0.512605920443324,
           0.4349257147250876,
           0.8162752498000282,
           0.8841026390943817,
           0.7523994975749643,
           0.433721007590172,
           0.3462338763480677,
           0.38058463462872183,
           -0.06895622054645596,
           0.41889881573057136,
           0.38510013559852924,
           -0.058298386743445514,
           0.6391466977559191,
           0.662564133742741,
           0.5495923752351922,
           0.03711904859992837,
           0.3799746614570791,
           0.5739747080993032,
           0.3683656074599455,
           0.6183440795335158,
           0.5433305254110798,
           0.5185232928640013,
           0.8922608987764685,
           1,
           0.8554338603439983,
           0.5325197291183625,
           0.6865109212448633
          ],
          [
           0.7935660171412694,
           0.7442141978674655,
           0.2953158433377365,
           0.7712407893605496,
           0.722016626260358,
           0.503053353298951,
           0.8155732235690645,
           0.8613230336379513,
           0.910155314298592,
           0.4302966114579542,
           0.17532544924324475,
           0.5310623278216047,
           -0.11963752313984616,
           0.5548972306282104,
           0.5381663138957359,
           -0.10200679633746536,
           0.4832083268256133,
           0.44047226304622306,
           0.6024496059209876,
           -0.03041339642360093,
           0.21520401331002892,
           0.7874238517122407,
           0.3597546095250359,
           0.8163221016875439,
           0.7474188023228168,
           0.5476909029497875,
           0.8010803646352529,
           0.8554338603439983,
           1,
           0.5025284938306982,
           0.5111141458863395
          ],
          [
           0.41629431104861975,
           0.16395333493630693,
           0.10500791031597186,
           0.18911504046245772,
           0.14356991388907164,
           0.39430948181175646,
           0.510223429921806,
           0.4094641265399857,
           0.3757441454236113,
           0.6998257976437307,
           0.33401868385108374,
           0.09454283035438192,
           -0.12821475779252947,
           0.10993043423135032,
           0.07412629159952819,
           -0.10734209778914475,
           0.277878430714635,
           0.19778782186141092,
           0.14311566863305006,
           0.38940248488464635,
           0.11109395575572387,
           0.2435292042913139,
           0.23302746144531722,
           0.26949276908381725,
           0.20914550838707907,
           0.4938383302357593,
           0.614440501149307,
           0.5325197291183625,
           0.5025284938306982,
           1,
           0.5378482062536087
          ],
          [
           0.3238721887208247,
           0.007065885692182385,
           0.11920535139708566,
           0.051018529723407056,
           0.003737597351571732,
           0.4993163685937669,
           0.6873823227538975,
           0.5149298906363857,
           0.36866113371677106,
           0.4384134984446025,
           0.7672967792384361,
           0.04955943246457313,
           -0.04565456859320706,
           0.08543257205665739,
           0.017539295132385495,
           0.10148031504252507,
           0.5909727625047896,
           0.43932926857579074,
           0.31065455149383076,
           0.07807947627266759,
           0.5913280656608751,
           0.0934919786793018,
           0.2191224254631588,
           0.13895686184575765,
           0.07964703402467606,
           0.617624191655438,
           0.8104548563116118,
           0.6865109212448633,
           0.5111141458863395,
           0.5378482062536087,
           1
          ]
         ]
        }
       ],
       "layout": {
        "coloraxis": {
         "colorscale": [
          [
           0,
           "#0d0887"
          ],
          [
           0.1111111111111111,
           "#46039f"
          ],
          [
           0.2222222222222222,
           "#7201a8"
          ],
          [
           0.3333333333333333,
           "#9c179e"
          ],
          [
           0.4444444444444444,
           "#bd3786"
          ],
          [
           0.5555555555555556,
           "#d8576b"
          ],
          [
           0.6666666666666666,
           "#ed7953"
          ],
          [
           0.7777777777777778,
           "#fb9f3a"
          ],
          [
           0.8888888888888888,
           "#fdca26"
          ],
          [
           1,
           "#f0f921"
          ]
         ]
        },
        "margin": {
         "t": 60
        },
        "template": {
         "data": {
          "bar": [
           {
            "error_x": {
             "color": "#2a3f5f"
            },
            "error_y": {
             "color": "#2a3f5f"
            },
            "marker": {
             "line": {
              "color": "#E5ECF6",
              "width": 0.5
             },
             "pattern": {
              "fillmode": "overlay",
              "size": 10,
              "solidity": 0.2
             }
            },
            "type": "bar"
           }
          ],
          "barpolar": [
           {
            "marker": {
             "line": {
              "color": "#E5ECF6",
              "width": 0.5
             },
             "pattern": {
              "fillmode": "overlay",
              "size": 10,
              "solidity": 0.2
             }
            },
            "type": "barpolar"
           }
          ],
          "carpet": [
           {
            "aaxis": {
             "endlinecolor": "#2a3f5f",
             "gridcolor": "white",
             "linecolor": "white",
             "minorgridcolor": "white",
             "startlinecolor": "#2a3f5f"
            },
            "baxis": {
             "endlinecolor": "#2a3f5f",
             "gridcolor": "white",
             "linecolor": "white",
             "minorgridcolor": "white",
             "startlinecolor": "#2a3f5f"
            },
            "type": "carpet"
           }
          ],
          "choropleth": [
           {
            "colorbar": {
             "outlinewidth": 0,
             "ticks": ""
            },
            "type": "choropleth"
           }
          ],
          "contour": [
           {
            "colorbar": {
             "outlinewidth": 0,
             "ticks": ""
            },
            "colorscale": [
             [
              0,
              "#0d0887"
             ],
             [
              0.1111111111111111,
              "#46039f"
             ],
             [
              0.2222222222222222,
              "#7201a8"
             ],
             [
              0.3333333333333333,
              "#9c179e"
             ],
             [
              0.4444444444444444,
              "#bd3786"
             ],
             [
              0.5555555555555556,
              "#d8576b"
             ],
             [
              0.6666666666666666,
              "#ed7953"
             ],
             [
              0.7777777777777778,
              "#fb9f3a"
             ],
             [
              0.8888888888888888,
              "#fdca26"
             ],
             [
              1,
              "#f0f921"
             ]
            ],
            "type": "contour"
           }
          ],
          "contourcarpet": [
           {
            "colorbar": {
             "outlinewidth": 0,
             "ticks": ""
            },
            "type": "contourcarpet"
           }
          ],
          "heatmap": [
           {
            "colorbar": {
             "outlinewidth": 0,
             "ticks": ""
            },
            "colorscale": [
             [
              0,
              "#0d0887"
             ],
             [
              0.1111111111111111,
              "#46039f"
             ],
             [
              0.2222222222222222,
              "#7201a8"
             ],
             [
              0.3333333333333333,
              "#9c179e"
             ],
             [
              0.4444444444444444,
              "#bd3786"
             ],
             [
              0.5555555555555556,
              "#d8576b"
             ],
             [
              0.6666666666666666,
              "#ed7953"
             ],
             [
              0.7777777777777778,
              "#fb9f3a"
             ],
             [
              0.8888888888888888,
              "#fdca26"
             ],
             [
              1,
              "#f0f921"
             ]
            ],
            "type": "heatmap"
           }
          ],
          "heatmapgl": [
           {
            "colorbar": {
             "outlinewidth": 0,
             "ticks": ""
            },
            "colorscale": [
             [
              0,
              "#0d0887"
             ],
             [
              0.1111111111111111,
              "#46039f"
             ],
             [
              0.2222222222222222,
              "#7201a8"
             ],
             [
              0.3333333333333333,
              "#9c179e"
             ],
             [
              0.4444444444444444,
              "#bd3786"
             ],
             [
              0.5555555555555556,
              "#d8576b"
             ],
             [
              0.6666666666666666,
              "#ed7953"
             ],
             [
              0.7777777777777778,
              "#fb9f3a"
             ],
             [
              0.8888888888888888,
              "#fdca26"
             ],
             [
              1,
              "#f0f921"
             ]
            ],
            "type": "heatmapgl"
           }
          ],
          "histogram": [
           {
            "marker": {
             "pattern": {
              "fillmode": "overlay",
              "size": 10,
              "solidity": 0.2
             }
            },
            "type": "histogram"
           }
          ],
          "histogram2d": [
           {
            "colorbar": {
             "outlinewidth": 0,
             "ticks": ""
            },
            "colorscale": [
             [
              0,
              "#0d0887"
             ],
             [
              0.1111111111111111,
              "#46039f"
             ],
             [
              0.2222222222222222,
              "#7201a8"
             ],
             [
              0.3333333333333333,
              "#9c179e"
             ],
             [
              0.4444444444444444,
              "#bd3786"
             ],
             [
              0.5555555555555556,
              "#d8576b"
             ],
             [
              0.6666666666666666,
              "#ed7953"
             ],
             [
              0.7777777777777778,
              "#fb9f3a"
             ],
             [
              0.8888888888888888,
              "#fdca26"
             ],
             [
              1,
              "#f0f921"
             ]
            ],
            "type": "histogram2d"
           }
          ],
          "histogram2dcontour": [
           {
            "colorbar": {
             "outlinewidth": 0,
             "ticks": ""
            },
            "colorscale": [
             [
              0,
              "#0d0887"
             ],
             [
              0.1111111111111111,
              "#46039f"
             ],
             [
              0.2222222222222222,
              "#7201a8"
             ],
             [
              0.3333333333333333,
              "#9c179e"
             ],
             [
              0.4444444444444444,
              "#bd3786"
             ],
             [
              0.5555555555555556,
              "#d8576b"
             ],
             [
              0.6666666666666666,
              "#ed7953"
             ],
             [
              0.7777777777777778,
              "#fb9f3a"
             ],
             [
              0.8888888888888888,
              "#fdca26"
             ],
             [
              1,
              "#f0f921"
             ]
            ],
            "type": "histogram2dcontour"
           }
          ],
          "mesh3d": [
           {
            "colorbar": {
             "outlinewidth": 0,
             "ticks": ""
            },
            "type": "mesh3d"
           }
          ],
          "parcoords": [
           {
            "line": {
             "colorbar": {
              "outlinewidth": 0,
              "ticks": ""
             }
            },
            "type": "parcoords"
           }
          ],
          "pie": [
           {
            "automargin": true,
            "type": "pie"
           }
          ],
          "scatter": [
           {
            "fillpattern": {
             "fillmode": "overlay",
             "size": 10,
             "solidity": 0.2
            },
            "type": "scatter"
           }
          ],
          "scatter3d": [
           {
            "line": {
             "colorbar": {
              "outlinewidth": 0,
              "ticks": ""
             }
            },
            "marker": {
             "colorbar": {
              "outlinewidth": 0,
              "ticks": ""
             }
            },
            "type": "scatter3d"
           }
          ],
          "scattercarpet": [
           {
            "marker": {
             "colorbar": {
              "outlinewidth": 0,
              "ticks": ""
             }
            },
            "type": "scattercarpet"
           }
          ],
          "scattergeo": [
           {
            "marker": {
             "colorbar": {
              "outlinewidth": 0,
              "ticks": ""
             }
            },
            "type": "scattergeo"
           }
          ],
          "scattergl": [
           {
            "marker": {
             "colorbar": {
              "outlinewidth": 0,
              "ticks": ""
             }
            },
            "type": "scattergl"
           }
          ],
          "scattermapbox": [
           {
            "marker": {
             "colorbar": {
              "outlinewidth": 0,
              "ticks": ""
             }
            },
            "type": "scattermapbox"
           }
          ],
          "scatterpolar": [
           {
            "marker": {
             "colorbar": {
              "outlinewidth": 0,
              "ticks": ""
             }
            },
            "type": "scatterpolar"
           }
          ],
          "scatterpolargl": [
           {
            "marker": {
             "colorbar": {
              "outlinewidth": 0,
              "ticks": ""
             }
            },
            "type": "scatterpolargl"
           }
          ],
          "scatterternary": [
           {
            "marker": {
             "colorbar": {
              "outlinewidth": 0,
              "ticks": ""
             }
            },
            "type": "scatterternary"
           }
          ],
          "surface": [
           {
            "colorbar": {
             "outlinewidth": 0,
             "ticks": ""
            },
            "colorscale": [
             [
              0,
              "#0d0887"
             ],
             [
              0.1111111111111111,
              "#46039f"
             ],
             [
              0.2222222222222222,
              "#7201a8"
             ],
             [
              0.3333333333333333,
              "#9c179e"
             ],
             [
              0.4444444444444444,
              "#bd3786"
             ],
             [
              0.5555555555555556,
              "#d8576b"
             ],
             [
              0.6666666666666666,
              "#ed7953"
             ],
             [
              0.7777777777777778,
              "#fb9f3a"
             ],
             [
              0.8888888888888888,
              "#fdca26"
             ],
             [
              1,
              "#f0f921"
             ]
            ],
            "type": "surface"
           }
          ],
          "table": [
           {
            "cells": {
             "fill": {
              "color": "#EBF0F8"
             },
             "line": {
              "color": "white"
             }
            },
            "header": {
             "fill": {
              "color": "#C8D4E3"
             },
             "line": {
              "color": "white"
             }
            },
            "type": "table"
           }
          ]
         },
         "layout": {
          "annotationdefaults": {
           "arrowcolor": "#2a3f5f",
           "arrowhead": 0,
           "arrowwidth": 1
          },
          "autotypenumbers": "strict",
          "coloraxis": {
           "colorbar": {
            "outlinewidth": 0,
            "ticks": ""
           }
          },
          "colorscale": {
           "diverging": [
            [
             0,
             "#8e0152"
            ],
            [
             0.1,
             "#c51b7d"
            ],
            [
             0.2,
             "#de77ae"
            ],
            [
             0.3,
             "#f1b6da"
            ],
            [
             0.4,
             "#fde0ef"
            ],
            [
             0.5,
             "#f7f7f7"
            ],
            [
             0.6,
             "#e6f5d0"
            ],
            [
             0.7,
             "#b8e186"
            ],
            [
             0.8,
             "#7fbc41"
            ],
            [
             0.9,
             "#4d9221"
            ],
            [
             1,
             "#276419"
            ]
           ],
           "sequential": [
            [
             0,
             "#0d0887"
            ],
            [
             0.1111111111111111,
             "#46039f"
            ],
            [
             0.2222222222222222,
             "#7201a8"
            ],
            [
             0.3333333333333333,
             "#9c179e"
            ],
            [
             0.4444444444444444,
             "#bd3786"
            ],
            [
             0.5555555555555556,
             "#d8576b"
            ],
            [
             0.6666666666666666,
             "#ed7953"
            ],
            [
             0.7777777777777778,
             "#fb9f3a"
            ],
            [
             0.8888888888888888,
             "#fdca26"
            ],
            [
             1,
             "#f0f921"
            ]
           ],
           "sequentialminus": [
            [
             0,
             "#0d0887"
            ],
            [
             0.1111111111111111,
             "#46039f"
            ],
            [
             0.2222222222222222,
             "#7201a8"
            ],
            [
             0.3333333333333333,
             "#9c179e"
            ],
            [
             0.4444444444444444,
             "#bd3786"
            ],
            [
             0.5555555555555556,
             "#d8576b"
            ],
            [
             0.6666666666666666,
             "#ed7953"
            ],
            [
             0.7777777777777778,
             "#fb9f3a"
            ],
            [
             0.8888888888888888,
             "#fdca26"
            ],
            [
             1,
             "#f0f921"
            ]
           ]
          },
          "colorway": [
           "#636efa",
           "#EF553B",
           "#00cc96",
           "#ab63fa",
           "#FFA15A",
           "#19d3f3",
           "#FF6692",
           "#B6E880",
           "#FF97FF",
           "#FECB52"
          ],
          "font": {
           "color": "#2a3f5f"
          },
          "geo": {
           "bgcolor": "white",
           "lakecolor": "white",
           "landcolor": "#E5ECF6",
           "showlakes": true,
           "showland": true,
           "subunitcolor": "white"
          },
          "hoverlabel": {
           "align": "left"
          },
          "hovermode": "closest",
          "mapbox": {
           "style": "light"
          },
          "paper_bgcolor": "white",
          "plot_bgcolor": "#E5ECF6",
          "polar": {
           "angularaxis": {
            "gridcolor": "white",
            "linecolor": "white",
            "ticks": ""
           },
           "bgcolor": "#E5ECF6",
           "radialaxis": {
            "gridcolor": "white",
            "linecolor": "white",
            "ticks": ""
           }
          },
          "scene": {
           "xaxis": {
            "backgroundcolor": "#E5ECF6",
            "gridcolor": "white",
            "gridwidth": 2,
            "linecolor": "white",
            "showbackground": true,
            "ticks": "",
            "zerolinecolor": "white"
           },
           "yaxis": {
            "backgroundcolor": "#E5ECF6",
            "gridcolor": "white",
            "gridwidth": 2,
            "linecolor": "white",
            "showbackground": true,
            "ticks": "",
            "zerolinecolor": "white"
           },
           "zaxis": {
            "backgroundcolor": "#E5ECF6",
            "gridcolor": "white",
            "gridwidth": 2,
            "linecolor": "white",
            "showbackground": true,
            "ticks": "",
            "zerolinecolor": "white"
           }
          },
          "shapedefaults": {
           "line": {
            "color": "#2a3f5f"
           }
          },
          "ternary": {
           "aaxis": {
            "gridcolor": "white",
            "linecolor": "white",
            "ticks": ""
           },
           "baxis": {
            "gridcolor": "white",
            "linecolor": "white",
            "ticks": ""
           },
           "bgcolor": "#E5ECF6",
           "caxis": {
            "gridcolor": "white",
            "linecolor": "white",
            "ticks": ""
           }
          },
          "title": {
           "x": 0.05
          },
          "xaxis": {
           "automargin": true,
           "gridcolor": "white",
           "linecolor": "white",
           "ticks": "",
           "title": {
            "standoff": 15
           },
           "zerolinecolor": "white",
           "zerolinewidth": 2
          },
          "yaxis": {
           "automargin": true,
           "gridcolor": "white",
           "linecolor": "white",
           "ticks": "",
           "title": {
            "standoff": 15
           },
           "zerolinecolor": "white",
           "zerolinewidth": 2
          }
         }
        },
        "xaxis": {
         "anchor": "y",
         "constrain": "domain",
         "domain": [
          0,
          1
         ],
         "scaleanchor": "y"
        },
        "yaxis": {
         "anchor": "x",
         "autorange": "reversed",
         "constrain": "domain",
         "domain": [
          0,
          1
         ]
        }
       }
      }
     },
     "metadata": {},
     "output_type": "display_data"
    }
   ],
   "source": [
    "# Het maken van een heatmap zodat er overzichtelijk gezien kan worden welke variablen een correlatie met elkaar hebben\n",
    "px.imshow(corr)"
   ]
  },
  {
   "cell_type": "code",
   "execution_count": 87,
   "metadata": {},
   "outputs": [
    {
     "data": {
      "text/plain": [
       "<Axes: xlabel='concave points_worst', ylabel='diagnosis'>"
      ]
     },
     "execution_count": 87,
     "metadata": {},
     "output_type": "execute_result"
    },
    {
     "data": {
      "image/png": "[encoded data removed]",
      "text/plain": [
       "<Figure size 640x480 with 1 Axes>"
      ]
     },
     "metadata": {},
     "output_type": "display_data"
    }
   ],
   "source": [
    "# spreiding van de meest gecoreleerde variable met diagnosis,\n",
    "# Hier kan al een beetje gezien worden dat als de concave points_worst >0.20 is dat het altijd kwaadaardig is\n",
    "sns.scatterplot(data, x = 'concave points_worst', y = 'diagnosis')"
   ]
  },
  {
   "cell_type": "markdown",
   "metadata": {},
   "source": [
    "# Het classificatie model"
   ]
  },
  {
   "cell_type": "markdown",
   "metadata": {},
   "source": [
    "Voor het classifiseren van borstkanker is de accuratiteit belangrijker dan de snelheid van het model.\n",
    "Daarnaast is het geen grote dataset dus in overfitting een gevaar. Hierdoor gebruiken wij het randomforest calssifatie model."
   ]
  },
  {
   "cell_type": "code",
   "execution_count": null,
   "metadata": {},
   "outputs": [],
   "source": []
  },
  {
   "cell_type": "code",
   "execution_count": 93,
   "metadata": {},
   "outputs": [
    {
     "name": "stdout",
     "output_type": "stream",
     "text": [
      "Selected Columns: ['concave points_worst']\n",
      "Model met 2 kolommen: ['concave points_worst', 'area_se'], Nauwkeurigheid: 0.9649122807017544\n",
      "Model met 3 kolommen: ['concave points_worst', 'area_se', 'texture_worst'], Nauwkeurigheid: 0.9824561403508771\n",
      "Model met 4 kolommen: ['concave points_worst', 'area_se', 'texture_worst', 'compactness_mean'], Nauwkeurigheid: 0.9736842105263158\n",
      "Model met 5 kolommen: ['concave points_worst', 'area_se', 'texture_worst', 'compactness_mean', 'symmetry_se'], Nauwkeurigheid: 0.9824561403508771\n",
      "Model met 6 kolommen: ['concave points_worst', 'area_se', 'texture_worst', 'compactness_mean', 'symmetry_se', 'radius_se'], Nauwkeurigheid: 0.9736842105263158\n",
      "Model met 7 kolommen: ['concave points_worst', 'area_se', 'texture_worst', 'compactness_mean', 'symmetry_se', 'radius_se', 'fractal_dimension_worst'], Nauwkeurigheid: 0.9736842105263158\n",
      "Model met 8 kolommen: ['concave points_worst', 'area_se', 'texture_worst', 'compactness_mean', 'symmetry_se', 'radius_se', 'fractal_dimension_worst', 'area_worst'], Nauwkeurigheid: 0.9736842105263158\n",
      "Model met 9 kolommen: ['concave points_worst', 'area_se', 'texture_worst', 'compactness_mean', 'symmetry_se', 'radius_se', 'fractal_dimension_worst', 'area_worst', 'symmetry_mean'], Nauwkeurigheid: 0.9736842105263158\n",
      "Model met 10 kolommen: ['concave points_worst', 'area_se', 'texture_worst', 'compactness_mean', 'symmetry_se', 'radius_se', 'fractal_dimension_worst', 'area_worst', 'symmetry_mean', 'texture_mean'], Nauwkeurigheid: 0.9736842105263158\n",
      "Model met 11 kolommen: ['concave points_worst', 'area_se', 'texture_worst', 'compactness_mean', 'symmetry_se', 'radius_se', 'fractal_dimension_worst', 'area_worst', 'symmetry_mean', 'texture_mean', 'area_mean'], Nauwkeurigheid: 0.9736842105263158\n",
      "Model met 12 kolommen: ['concave points_worst', 'area_se', 'texture_worst', 'compactness_mean', 'symmetry_se', 'radius_se', 'fractal_dimension_worst', 'area_worst', 'symmetry_mean', 'texture_mean', 'area_mean', 'compactness_se'], Nauwkeurigheid: 0.9736842105263158\n",
      "Model met 13 kolommen: ['concave points_worst', 'area_se', 'texture_worst', 'compactness_mean', 'symmetry_se', 'radius_se', 'fractal_dimension_worst', 'area_worst', 'symmetry_mean', 'texture_mean', 'area_mean', 'compactness_se', 'compactness_worst'], Nauwkeurigheid: 0.9736842105263158\n",
      "Model met 14 kolommen: ['concave points_worst', 'area_se', 'texture_worst', 'compactness_mean', 'symmetry_se', 'radius_se', 'fractal_dimension_worst', 'area_worst', 'symmetry_mean', 'texture_mean', 'area_mean', 'compactness_se', 'compactness_worst', 'perimeter_se'], Nauwkeurigheid: 0.9736842105263158\n",
      "Model met 15 kolommen: ['concave points_worst', 'area_se', 'texture_worst', 'compactness_mean', 'symmetry_se', 'radius_se', 'fractal_dimension_worst', 'area_worst', 'symmetry_mean', 'texture_mean', 'area_mean', 'compactness_se', 'compactness_worst', 'perimeter_se', 'fractal_dimension_mean'], Nauwkeurigheid: 0.9736842105263158\n",
      "Model met 16 kolommen: ['concave points_worst', 'area_se', 'texture_worst', 'compactness_mean', 'symmetry_se', 'radius_se', 'fractal_dimension_worst', 'area_worst', 'symmetry_mean', 'texture_mean', 'area_mean', 'compactness_se', 'compactness_worst', 'perimeter_se', 'fractal_dimension_mean', 'concavity_worst'], Nauwkeurigheid: 0.9736842105263158\n",
      "Model met 17 kolommen: ['concave points_worst', 'area_se', 'texture_worst', 'compactness_mean', 'symmetry_se', 'radius_se', 'fractal_dimension_worst', 'area_worst', 'symmetry_mean', 'texture_mean', 'area_mean', 'compactness_se', 'compactness_worst', 'perimeter_se', 'fractal_dimension_mean', 'concavity_worst', 'concavity_mean'], Nauwkeurigheid: 0.9736842105263158\n",
      "Model met 18 kolommen: ['concave points_worst', 'area_se', 'texture_worst', 'compactness_mean', 'symmetry_se', 'radius_se', 'fractal_dimension_worst', 'area_worst', 'symmetry_mean', 'texture_mean', 'area_mean', 'compactness_se', 'compactness_worst', 'perimeter_se', 'fractal_dimension_mean', 'concavity_worst', 'concavity_mean', 'perimeter_mean'], Nauwkeurigheid: 0.9649122807017544\n",
      "Model met 19 kolommen: ['concave points_worst', 'area_se', 'texture_worst', 'compactness_mean', 'symmetry_se', 'radius_se', 'fractal_dimension_worst', 'area_worst', 'symmetry_mean', 'texture_mean', 'area_mean', 'compactness_se', 'compactness_worst', 'perimeter_se', 'fractal_dimension_mean', 'concavity_worst', 'concavity_mean', 'perimeter_mean', 'fractal_dimension_se'], Nauwkeurigheid: 0.9736842105263158\n",
      "Model met 20 kolommen: ['concave points_worst', 'area_se', 'texture_worst', 'compactness_mean', 'symmetry_se', 'radius_se', 'fractal_dimension_worst', 'area_worst', 'symmetry_mean', 'texture_mean', 'area_mean', 'compactness_se', 'compactness_worst', 'perimeter_se', 'fractal_dimension_mean', 'concavity_worst', 'concavity_mean', 'perimeter_mean', 'fractal_dimension_se', 'smoothness_se'], Nauwkeurigheid: 0.9736842105263158\n",
      "Model met 21 kolommen: ['concave points_worst', 'area_se', 'texture_worst', 'compactness_mean', 'symmetry_se', 'radius_se', 'fractal_dimension_worst', 'area_worst', 'symmetry_mean', 'texture_mean', 'area_mean', 'compactness_se', 'compactness_worst', 'perimeter_se', 'fractal_dimension_mean', 'concavity_worst', 'concavity_mean', 'perimeter_mean', 'fractal_dimension_se', 'smoothness_se', 'perimeter_worst'], Nauwkeurigheid: 0.9736842105263158\n",
      "Model met 22 kolommen: ['concave points_worst', 'area_se', 'texture_worst', 'compactness_mean', 'symmetry_se', 'radius_se', 'fractal_dimension_worst', 'area_worst', 'symmetry_mean', 'texture_mean', 'area_mean', 'compactness_se', 'compactness_worst', 'perimeter_se', 'fractal_dimension_mean', 'concavity_worst', 'concavity_mean', 'perimeter_mean', 'fractal_dimension_se', 'smoothness_se', 'perimeter_worst', 'concave points_mean'], Nauwkeurigheid: 0.9649122807017544\n",
      "Model met 23 kolommen: ['concave points_worst', 'area_se', 'texture_worst', 'compactness_mean', 'symmetry_se', 'radius_se', 'fractal_dimension_worst', 'area_worst', 'symmetry_mean', 'texture_mean', 'area_mean', 'compactness_se', 'compactness_worst', 'perimeter_se', 'fractal_dimension_mean', 'concavity_worst', 'concavity_mean', 'perimeter_mean', 'fractal_dimension_se', 'smoothness_se', 'perimeter_worst', 'concave points_mean', 'concave points_se'], Nauwkeurigheid: 0.9649122807017544\n",
      "Model met 24 kolommen: ['concave points_worst', 'area_se', 'texture_worst', 'compactness_mean', 'symmetry_se', 'radius_se', 'fractal_dimension_worst', 'area_worst', 'symmetry_mean', 'texture_mean', 'area_mean', 'compactness_se', 'compactness_worst', 'perimeter_se', 'fractal_dimension_mean', 'concavity_worst', 'concavity_mean', 'perimeter_mean', 'fractal_dimension_se', 'smoothness_se', 'perimeter_worst', 'concave points_mean', 'concave points_se', 'concavity_se'], Nauwkeurigheid: 0.9649122807017544\n",
      "Model met 25 kolommen: ['concave points_worst', 'area_se', 'texture_worst', 'compactness_mean', 'symmetry_se', 'radius_se', 'fractal_dimension_worst', 'area_worst', 'symmetry_mean', 'texture_mean', 'area_mean', 'compactness_se', 'compactness_worst', 'perimeter_se', 'fractal_dimension_mean', 'concavity_worst', 'concavity_mean', 'perimeter_mean', 'fractal_dimension_se', 'smoothness_se', 'perimeter_worst', 'concave points_mean', 'concave points_se', 'concavity_se', 'radius_mean'], Nauwkeurigheid: 0.9649122807017544\n",
      "Model met 26 kolommen: ['concave points_worst', 'area_se', 'texture_worst', 'compactness_mean', 'symmetry_se', 'radius_se', 'fractal_dimension_worst', 'area_worst', 'symmetry_mean', 'texture_mean', 'area_mean', 'compactness_se', 'compactness_worst', 'perimeter_se', 'fractal_dimension_mean', 'concavity_worst', 'concavity_mean', 'perimeter_mean', 'fractal_dimension_se', 'smoothness_se', 'perimeter_worst', 'concave points_mean', 'concave points_se', 'concavity_se', 'radius_mean', 'radius_worst'], Nauwkeurigheid: 0.9649122807017544\n",
      "Model met 27 kolommen: ['concave points_worst', 'area_se', 'texture_worst', 'compactness_mean', 'symmetry_se', 'radius_se', 'fractal_dimension_worst', 'area_worst', 'symmetry_mean', 'texture_mean', 'area_mean', 'compactness_se', 'compactness_worst', 'perimeter_se', 'fractal_dimension_mean', 'concavity_worst', 'concavity_mean', 'perimeter_mean', 'fractal_dimension_se', 'smoothness_se', 'perimeter_worst', 'concave points_mean', 'concave points_se', 'concavity_se', 'radius_mean', 'radius_worst', 'smoothness_mean'], Nauwkeurigheid: 0.9649122807017544\n",
      "Model met 28 kolommen: ['concave points_worst', 'area_se', 'texture_worst', 'compactness_mean', 'symmetry_se', 'radius_se', 'fractal_dimension_worst', 'area_worst', 'symmetry_mean', 'texture_mean', 'area_mean', 'compactness_se', 'compactness_worst', 'perimeter_se', 'fractal_dimension_mean', 'concavity_worst', 'concavity_mean', 'perimeter_mean', 'fractal_dimension_se', 'smoothness_se', 'perimeter_worst', 'concave points_mean', 'concave points_se', 'concavity_se', 'radius_mean', 'radius_worst', 'smoothness_mean', 'smoothness_worst'], Nauwkeurigheid: 0.9649122807017544\n",
      "Model met 29 kolommen: ['concave points_worst', 'area_se', 'texture_worst', 'compactness_mean', 'symmetry_se', 'radius_se', 'fractal_dimension_worst', 'area_worst', 'symmetry_mean', 'texture_mean', 'area_mean', 'compactness_se', 'compactness_worst', 'perimeter_se', 'fractal_dimension_mean', 'concavity_worst', 'concavity_mean', 'perimeter_mean', 'fractal_dimension_se', 'smoothness_se', 'perimeter_worst', 'concave points_mean', 'concave points_se', 'concavity_se', 'radius_mean', 'radius_worst', 'smoothness_mean', 'smoothness_worst', 'symmetry_worst'], Nauwkeurigheid: 0.9649122807017544\n",
      "Model met 30 kolommen: ['concave points_worst', 'area_se', 'texture_worst', 'compactness_mean', 'symmetry_se', 'radius_se', 'fractal_dimension_worst', 'area_worst', 'symmetry_mean', 'texture_mean', 'area_mean', 'compactness_se', 'compactness_worst', 'perimeter_se', 'fractal_dimension_mean', 'concavity_worst', 'concavity_mean', 'perimeter_mean', 'fractal_dimension_se', 'smoothness_se', 'perimeter_worst', 'concave points_mean', 'concave points_se', 'concavity_se', 'radius_mean', 'radius_worst', 'smoothness_mean', 'smoothness_worst', 'symmetry_worst', 'texture_se'], Nauwkeurigheid: 0.9649122807017544\n",
      "\n",
      "Uiteindelijk geselecteerde kolommen: ['concave points_worst', 'area_se', 'texture_worst', 'compactness_mean', 'symmetry_se', 'radius_se', 'fractal_dimension_worst', 'area_worst', 'symmetry_mean', 'texture_mean', 'area_mean', 'compactness_se', 'compactness_worst', 'perimeter_se', 'fractal_dimension_mean', 'concavity_worst', 'concavity_mean', 'perimeter_mean', 'fractal_dimension_se', 'smoothness_se', 'perimeter_worst', 'concave points_mean', 'concave points_se', 'concavity_se', 'radius_mean', 'radius_worst', 'smoothness_mean', 'smoothness_worst', 'symmetry_worst', 'texture_se'], Nauwkeurigheid: 0.9824561403508771\n"
     ]
    }
   ],
   "source": [
    "from sklearn.ensemble import RandomForestClassifier\n",
    "from sklearn.model_selection import train_test_split\n",
    "from sklearn.metrics import accuracy_score\n",
    "\n",
    "# Creëer een dataframe met de kenmerken en de doelvariabele\n",
    "# data is je originele dataframe\n",
    "\n",
    "# Selecteer de doelvariabele\n",
    "y = data[\"diagnosis\"]\n",
    "\n",
    "# Initialiseer de lijst die de nauwkeurigheid van elk model zal bevatten\n",
    "accuracy_list = []\n",
    "\n",
    "# Begin met de hoogst gecorreleerde kolom\n",
    "# Vervang \"diagnosis\" door de daadwerkelijke naam van je doelvariabele\n",
    "selected_columns = data.corr()[\"diagnosis\"].sort_values(ascending=False).index[1:2].tolist()\n",
    "\n",
    "# Print de geselecteerde kolommen om te controleren of ze overeenkomen met je verwachtingen\n",
    "print(\"Selected Columns:\", selected_columns)\n",
    "\n",
    "# Houd de beste combinatie van kolommen en nauwkeurigheid bij\n",
    "best_columns = selected_columns\n",
    "best_accuracy = 0.0\n",
    "\n",
    "# Maak een lus die doorgaat totdat de nauwkeurigheid niet meer hoger wordt\n",
    "while True:\n",
    "    # Voeg de volgende best presterende kolom toe aan de geselecteerde kolommen\n",
    "    best_performing_column = None\n",
    "    best_performing_accuracy = 0.0\n",
    "\n",
    "    # Itereer over de kolommen die niet in de geselecteerde kolommen zitten\n",
    "    for column in data.columns.difference([\"diagnosis\"] + selected_columns):\n",
    "        current_columns = selected_columns + [column]\n",
    "        X = data[current_columns]\n",
    "\n",
    "        # Split de data in trainings- en testsets\n",
    "        X_train, X_test, y_train, y_test = train_test_split(X, y, test_size=0.2, random_state=42)\n",
    "\n",
    "        # Maak en train het Random Forest-model\n",
    "        rf_model = RandomForestClassifier(random_state=42)\n",
    "        rf_model.fit(X_train, y_train)\n",
    "\n",
    "        # Doe voorspellingen op de testset\n",
    "        predictions = rf_model.predict(X_test)\n",
    "\n",
    "        # Bereken de nauwkeurigheid\n",
    "        current_accuracy = accuracy_score(y_test, predictions)\n",
    "\n",
    "        # Controleer of de huidige kolom beter presteert dan de beste tot nu toe\n",
    "        if current_accuracy > best_performing_accuracy:\n",
    "            best_performing_accuracy = current_accuracy\n",
    "            best_performing_column = column\n",
    "\n",
    "    # Controleer of toevoeging van een nieuwe kolom de nauwkeurigheid heeft verbeterd\n",
    "    if best_performing_column is not None:\n",
    "        selected_columns.append(best_performing_column)\n",
    "        accuracy_list.append(best_performing_accuracy)\n",
    "        print(f\"Model met {len(selected_columns)} kolommen: {selected_columns}, Nauwkeurigheid: {best_performing_accuracy}\")\n",
    "\n",
    "        # Update de beste combinatie van kolommen als de huidige nauwkeurigheid beter is\n",
    "        if best_performing_accuracy > best_accuracy:\n",
    "            best_accuracy = best_performing_accuracy\n",
    "            best_columns = selected_columns\n",
    "    else:\n",
    "        # Stop de lus als geen verbetering wordt gevonden\n",
    "        break\n",
    "\n",
    "# Toon de uiteindelijke resultaten\n",
    "print(f\"\\nUiteindelijk geselecteerde kolommen: {best_columns}, Nauwkeurigheid: {best_accuracy}\")\n"
   ]
  },
  {
   "cell_type": "code",
   "execution_count": 94,
   "metadata": {},
   "outputs": [
    {
     "name": "stdout",
     "output_type": "stream",
     "text": [
      "Selected Columns: ['concave points_worst']\n",
      "Model met 2 kolommen: ['concave points_worst', 'area_se'], Nauwkeurigheid: 0.9649122807017544\n",
      "Model met 3 kolommen: ['concave points_worst', 'area_se', 'texture_worst'], Nauwkeurigheid: 0.9824561403508771\n",
      "Model met 4 kolommen: ['concave points_worst', 'area_se', 'texture_worst', 'compactness_mean'], Nauwkeurigheid: 0.9736842105263158\n",
      "Model met 5 kolommen: ['concave points_worst', 'area_se', 'texture_worst', 'compactness_mean', 'symmetry_se'], Nauwkeurigheid: 0.9824561403508771\n",
      "\n",
      "Uiteindelijk geselecteerde kolommen: ['concave points_worst', 'area_se', 'texture_worst', 'compactness_mean', 'symmetry_se'], Nauwkeurigheid: 0.9824561403508771\n"
     ]
    }
   ],
   "source": [
    "from sklearn.ensemble import RandomForestClassifier\n",
    "from sklearn.model_selection import train_test_split\n",
    "from sklearn.metrics import accuracy_score\n",
    "\n",
    "# Creëer een dataframe met de kenmerken en de doelvariabele\n",
    "# data is je originele dataframe\n",
    "\n",
    "# Selecteer de doelvariabele\n",
    "y = data[\"diagnosis\"]\n",
    "\n",
    "# Initialiseer de lijst die de nauwkeurigheid van elk model zal bevatten\n",
    "accuracy_list = []\n",
    "\n",
    "# Begin met de hoogst gecorreleerde kolom\n",
    "# Vervang \"diagnosis\" door de daadwerkelijke naam van je doelvariabele\n",
    "selected_columns = data.corr()[\"diagnosis\"].sort_values(ascending=False).index[1:2].tolist()\n",
    "\n",
    "# Print de geselecteerde kolommen om te controleren of ze overeenkomen met je verwachtingen\n",
    "print(\"Selected Columns:\", selected_columns)\n",
    "\n",
    "# Houd de beste combinatie van kolommen en nauwkeurigheid bij\n",
    "best_columns = selected_columns\n",
    "best_accuracy = 0.0\n",
    "\n",
    "# Stel de tolerantie in voor het stoppen van de lus\n",
    "tolerance = 0.001  # Je kunt dit aanpassen aan je behoeften\n",
    "\n",
    "# Maak een lus die doorgaat totdat de nauwkeurigheid niet meer hoger wordt\n",
    "while True:\n",
    "    # Voeg de volgende best presterende kolom toe aan de geselecteerde kolommen\n",
    "    best_performing_column = None\n",
    "    best_performing_accuracy = 0.0\n",
    "\n",
    "    # Itereer over de kolommen die niet in de geselecteerde kolommen zitten\n",
    "    for column in data.columns.difference([\"diagnosis\"] + selected_columns):\n",
    "        current_columns = selected_columns + [column]\n",
    "        X = data[current_columns]\n",
    "\n",
    "        # Split de data in trainings- en testsets\n",
    "        X_train, X_test, y_train, y_test = train_test_split(X, y, test_size=0.2, random_state=42)\n",
    "\n",
    "        # Maak en train het Random Forest-model\n",
    "        rf_model = RandomForestClassifier(random_state=42)\n",
    "        rf_model.fit(X_train, y_train)\n",
    "\n",
    "        # Doe voorspellingen op de testset\n",
    "        predictions = rf_model.predict(X_test)\n",
    "\n",
    "        # Bereken de nauwkeurigheid\n",
    "        current_accuracy = accuracy_score(y_test, predictions)\n",
    "\n",
    "        # Controleer of de huidige kolom beter presteert dan de beste tot nu toe\n",
    "        if current_accuracy > best_performing_accuracy:\n",
    "            best_performing_accuracy = current_accuracy\n",
    "            best_performing_column = column\n",
    "\n",
    "    # Controleer of toevoeging van een nieuwe kolom de nauwkeurigheid heeft verbeterd\n",
    "    if best_performing_column is not None:\n",
    "        selected_columns.append(best_performing_column)\n",
    "        accuracy_list.append(best_performing_accuracy)\n",
    "        print(f\"Model met {len(selected_columns)} kolommen: {selected_columns}, Nauwkeurigheid: {best_performing_accuracy}\")\n",
    "\n",
    "        # Update de beste combinatie van kolommen als de huidige nauwkeurigheid beter is\n",
    "        if best_performing_accuracy > best_accuracy:\n",
    "            best_accuracy = best_performing_accuracy\n",
    "            best_columns = selected_columns\n",
    "        else:\n",
    "            # Stop de lus als de verbetering in nauwkeurigheid onder de tolerantie ligt\n",
    "            if best_accuracy - best_performing_accuracy < tolerance:\n",
    "                break\n",
    "    else:\n",
    "        # Stop de lus als geen verbetering wordt gevonden\n",
    "        break\n",
    "\n",
    "# Toon de uiteindelijke resultaten\n",
    "print(f\"\\nUiteindelijk geselecteerde kolommen: {best_columns}, Nauwkeurigheid: {best_accuracy}\")\n"
   ]
  },
  {
   "cell_type": "code",
   "execution_count": 122,
   "metadata": {},
   "outputs": [
    {
     "data": {
      "text/plain": [
       "diagnosis               1.000000\n",
       "concave points_worst    0.793566\n",
       "perimeter_worst         0.782914\n",
       "concave points_mean     0.776614\n",
       "radius_worst            0.776454\n",
       "perimeter_mean          0.742636\n",
       "area_worst              0.733825\n",
       "radius_mean             0.730029\n",
       "area_mean               0.708984\n",
       "concavity_mean          0.696360\n",
       "Name: diagnosis, dtype: float64"
      ]
     },
     "execution_count": 122,
     "metadata": {},
     "output_type": "execute_result"
    }
   ],
   "source": [
    "data.corr()[\"diagnosis\"].sort_values(ascending=False).head(10)"
   ]
  },
  {
   "cell_type": "code",
   "execution_count": 124,
   "metadata": {},
   "outputs": [
    {
     "name": "stdout",
     "output_type": "stream",
     "text": [
      "Nauwkeurigheid: 0.956140350877193\n",
      "Classificatierapport:\n",
      "              precision    recall  f1-score   support\n",
      "\n",
      "           0       0.96      0.97      0.97        71\n",
      "           1       0.95      0.93      0.94        43\n",
      "\n",
      "    accuracy                           0.96       114\n",
      "   macro avg       0.96      0.95      0.95       114\n",
      "weighted avg       0.96      0.96      0.96       114\n",
      "\n",
      "Verwarringsmatrix:\n",
      "[[69  2]\n",
      " [ 3 40]]\n"
     ]
    }
   ],
   "source": [
    "import pandas as pd\n",
    "from sklearn.model_selection import train_test_split\n",
    "from sklearn.ensemble import RandomForestClassifier\n",
    "from sklearn.metrics import accuracy_score, classification_report, confusion_matrix\n",
    "\n",
    "# Annahme: Je hebt een DataFrame genaamd 'data'\n",
    "# en de gewenste kolommen zijn: 'concave points_worst', 'perimeter_worst', 'concave points_mean', 'radius_worst', 'perimeter_mean', 'diagnosis'\n",
    "\n",
    "# Stap 1: Selecteer de gewenste kolommen\n",
    "selected_columns = ['concave points_worst', 'perimeter_worst', 'concave points_mean', 'radius_worst', 'perimeter_mean', 'diagnosis']\n",
    "data_selected = data[selected_columns]\n",
    "\n",
    "# Stap 2: Verdeel de gegevens in trainings- en testsets\n",
    "X = data_selected.drop('diagnosis', axis=1)\n",
    "y = data_selected['diagnosis']\n",
    "X_train, X_test, y_train, y_test = train_test_split(X, y, test_size=0.2, random_state=42)\n",
    "\n",
    "# Stap 3: Initialiseer en train de Random Forest Classifier\n",
    "clf = RandomForestClassifier(n_estimators=100, random_state=42)\n",
    "clf.fit(X_train, y_train)\n",
    "\n",
    "# Stap 4: Voorspel de diagnose op de testset\n",
    "y_pred = clf.predict(X_test)\n",
    "\n",
    "# Stap 5: Evalueer de prestaties van de classifier\n",
    "accuracy = accuracy_score(y_test, y_pred)\n",
    "print(f'Nauwkeurigheid: {accuracy}')\n",
    "\n",
    "# Toon het classificatierapport\n",
    "print('Classificatierapport:')\n",
    "print(classification_report(y_test, y_pred))\n",
    "\n",
    "# Toon de verwarringsmatrix\n",
    "print('Verwarringsmatrix:')\n",
    "print(confusion_matrix(y_test, y_pred))\n"
   ]
  },
  {
   "cell_type": "code",
   "execution_count": 119,
   "metadata": {},
   "outputs": [
    {
     "ename": "KeyError",
     "evalue": "('concave points_worst', 'perimeter_worst', 'concave points_mean', 'radius_worst', 'perimeter_mean')",
     "output_type": "error",
     "traceback": [
      "\u001b[0;31m---------------------------------------------------------------------------\u001b[0m",
      "\u001b[0;31mKeyError\u001b[0m                                  Traceback (most recent call last)",
      "File \u001b[0;32m~/anaconda3/lib/python3.11/site-packages/pandas/core/indexes/base.py:3653\u001b[0m, in \u001b[0;36mIndex.get_loc\u001b[0;34m(self, key)\u001b[0m\n\u001b[1;32m   3652\u001b[0m \u001b[39mtry\u001b[39;00m:\n\u001b[0;32m-> 3653\u001b[0m     \u001b[39mreturn\u001b[39;00m \u001b[39mself\u001b[39m\u001b[39m.\u001b[39m_engine\u001b[39m.\u001b[39mget_loc(casted_key)\n\u001b[1;32m   3654\u001b[0m \u001b[39mexcept\u001b[39;00m \u001b[39mKeyError\u001b[39;00m \u001b[39mas\u001b[39;00m err:\n",
      "File \u001b[0;32m~/anaconda3/lib/python3.11/site-packages/pandas/_libs/index.pyx:147\u001b[0m, in \u001b[0;36mpandas._libs.index.IndexEngine.get_loc\u001b[0;34m()\u001b[0m\n",
      "File \u001b[0;32m~/anaconda3/lib/python3.11/site-packages/pandas/_libs/index.pyx:176\u001b[0m, in \u001b[0;36mpandas._libs.index.IndexEngine.get_loc\u001b[0;34m()\u001b[0m\n",
      "File \u001b[0;32mpandas/_libs/hashtable_class_helper.pxi:7080\u001b[0m, in \u001b[0;36mpandas._libs.hashtable.PyObjectHashTable.get_item\u001b[0;34m()\u001b[0m\n",
      "File \u001b[0;32mpandas/_libs/hashtable_class_helper.pxi:7088\u001b[0m, in \u001b[0;36mpandas._libs.hashtable.PyObjectHashTable.get_item\u001b[0;34m()\u001b[0m\n",
      "\u001b[0;31mKeyError\u001b[0m: ('concave points_worst', 'perimeter_worst', 'concave points_mean', 'radius_worst', 'perimeter_mean')",
      "\nThe above exception was the direct cause of the following exception:\n",
      "\u001b[0;31mKeyError\u001b[0m                                  Traceback (most recent call last)",
      "\u001b[1;32m/Users/casper/Documents/Studie/HvA/Jaar 3/Data science/Blok 2/Track/datamining/datascience_blok2/datamining/opdracht1/code/classification.ipynb Cell 22\u001b[0m line \u001b[0;36m1\n\u001b[1;32m      <a href='vscode-notebook-cell:/Users/casper/Documents/Studie/HvA/Jaar%203/Data%20science/Blok%202/Track/datamining/datascience_blok2/datamining/opdracht1/code/classification.ipynb#X23sZmlsZQ%3D%3D?line=3'>4</a>\u001b[0m \u001b[39mfrom\u001b[39;00m \u001b[39msklearn\u001b[39;00m\u001b[39m.\u001b[39;00m\u001b[39mmetrics\u001b[39;00m \u001b[39mimport\u001b[39;00m accuracy_score, classification_report, confusion_matrix\n\u001b[1;32m      <a href='vscode-notebook-cell:/Users/casper/Documents/Studie/HvA/Jaar%203/Data%20science/Blok%202/Track/datamining/datascience_blok2/datamining/opdracht1/code/classification.ipynb#X23sZmlsZQ%3D%3D?line=5'>6</a>\u001b[0m \u001b[39m# Hier wordt de y (wat moet er voorspeld worden) en de x (de features(met wat wordt de y voorspeld))- \u001b[39;00m\n\u001b[1;32m      <a href='vscode-notebook-cell:/Users/casper/Documents/Studie/HvA/Jaar%203/Data%20science/Blok%202/Track/datamining/datascience_blok2/datamining/opdracht1/code/classification.ipynb#X23sZmlsZQ%3D%3D?line=6'>7</a>\u001b[0m \u001b[39m# - bepaald. De y = de diagnose en de x = concave points_worst (de variabble met de hoogste correlatie)\u001b[39;00m\n\u001b[1;32m      <a href='vscode-notebook-cell:/Users/casper/Documents/Studie/HvA/Jaar%203/Data%20science/Blok%202/Track/datamining/datascience_blok2/datamining/opdracht1/code/classification.ipynb#X23sZmlsZQ%3D%3D?line=7'>8</a>\u001b[0m \u001b[39m# Bij X wordt .reshape(-1, 1) gebruikt. Hiermee moet python zelf de vorm van de array bepalen.\u001b[39;00m\n\u001b[1;32m      <a href='vscode-notebook-cell:/Users/casper/Documents/Studie/HvA/Jaar%203/Data%20science/Blok%202/Track/datamining/datascience_blok2/datamining/opdracht1/code/classification.ipynb#X23sZmlsZQ%3D%3D?line=8'>9</a>\u001b[0m \u001b[39m#X = data.drop('diagnosis', axis=1)  \u001b[39;00m\n\u001b[0;32m---> <a href='vscode-notebook-cell:/Users/casper/Documents/Studie/HvA/Jaar%203/Data%20science/Blok%202/Track/datamining/datascience_blok2/datamining/opdracht1/code/classification.ipynb#X23sZmlsZQ%3D%3D?line=9'>10</a>\u001b[0m X1 \u001b[39m=\u001b[39m data[\u001b[39m'\u001b[39m\u001b[39mconcave points_worst\u001b[39m\u001b[39m'\u001b[39m,\u001b[39m'\u001b[39m\u001b[39mperimeter_worst\u001b[39m\u001b[39m'\u001b[39m,\u001b[39m'\u001b[39m\u001b[39mconcave points_mean\u001b[39m\u001b[39m'\u001b[39m,\u001b[39m'\u001b[39m\u001b[39mradius_worst\u001b[39m\u001b[39m'\u001b[39m,\u001b[39m'\u001b[39m\u001b[39mperimeter_mean\u001b[39m\u001b[39m'\u001b[39m]\n\u001b[1;32m     <a href='vscode-notebook-cell:/Users/casper/Documents/Studie/HvA/Jaar%203/Data%20science/Blok%202/Track/datamining/datascience_blok2/datamining/opdracht1/code/classification.ipynb#X23sZmlsZQ%3D%3D?line=11'>12</a>\u001b[0m y \u001b[39m=\u001b[39m data[\u001b[39m'\u001b[39m\u001b[39mdiagnosis\u001b[39m\u001b[39m'\u001b[39m]\n",
      "File \u001b[0;32m~/anaconda3/lib/python3.11/site-packages/pandas/core/frame.py:3761\u001b[0m, in \u001b[0;36mDataFrame.__getitem__\u001b[0;34m(self, key)\u001b[0m\n\u001b[1;32m   3759\u001b[0m \u001b[39mif\u001b[39;00m \u001b[39mself\u001b[39m\u001b[39m.\u001b[39mcolumns\u001b[39m.\u001b[39mnlevels \u001b[39m>\u001b[39m \u001b[39m1\u001b[39m:\n\u001b[1;32m   3760\u001b[0m     \u001b[39mreturn\u001b[39;00m \u001b[39mself\u001b[39m\u001b[39m.\u001b[39m_getitem_multilevel(key)\n\u001b[0;32m-> 3761\u001b[0m indexer \u001b[39m=\u001b[39m \u001b[39mself\u001b[39m\u001b[39m.\u001b[39mcolumns\u001b[39m.\u001b[39mget_loc(key)\n\u001b[1;32m   3762\u001b[0m \u001b[39mif\u001b[39;00m is_integer(indexer):\n\u001b[1;32m   3763\u001b[0m     indexer \u001b[39m=\u001b[39m [indexer]\n",
      "File \u001b[0;32m~/anaconda3/lib/python3.11/site-packages/pandas/core/indexes/base.py:3655\u001b[0m, in \u001b[0;36mIndex.get_loc\u001b[0;34m(self, key)\u001b[0m\n\u001b[1;32m   3653\u001b[0m     \u001b[39mreturn\u001b[39;00m \u001b[39mself\u001b[39m\u001b[39m.\u001b[39m_engine\u001b[39m.\u001b[39mget_loc(casted_key)\n\u001b[1;32m   3654\u001b[0m \u001b[39mexcept\u001b[39;00m \u001b[39mKeyError\u001b[39;00m \u001b[39mas\u001b[39;00m err:\n\u001b[0;32m-> 3655\u001b[0m     \u001b[39mraise\u001b[39;00m \u001b[39mKeyError\u001b[39;00m(key) \u001b[39mfrom\u001b[39;00m \u001b[39merr\u001b[39;00m\n\u001b[1;32m   3656\u001b[0m \u001b[39mexcept\u001b[39;00m \u001b[39mTypeError\u001b[39;00m:\n\u001b[1;32m   3657\u001b[0m     \u001b[39m# If we have a listlike key, _check_indexing_error will raise\u001b[39;00m\n\u001b[1;32m   3658\u001b[0m     \u001b[39m#  InvalidIndexError. Otherwise we fall through and re-raise\u001b[39;00m\n\u001b[1;32m   3659\u001b[0m     \u001b[39m#  the TypeError.\u001b[39;00m\n\u001b[1;32m   3660\u001b[0m     \u001b[39mself\u001b[39m\u001b[39m.\u001b[39m_check_indexing_error(key)\n",
      "\u001b[0;31mKeyError\u001b[0m: ('concave points_worst', 'perimeter_worst', 'concave points_mean', 'radius_worst', 'perimeter_mean')"
     ]
    }
   ],
   "source": [
    "from sklearn.model_selection import train_test_split\n",
    "from sklearn.preprocessing import StandardScaler\n",
    "from sklearn.neural_network import MLPClassifier\n",
    "from sklearn.metrics import accuracy_score, classification_report, confusion_matrix\n",
    "\n",
    "# Hier wordt de y (wat moet er voorspeld worden) en de x (de features(met wat wordt de y voorspeld))- \n",
    "# - bepaald. De y = de diagnose en de x = concave points_worst (de variabble met de hoogste correlatie)\n",
    "# Bij X wordt .reshape(-1, 1) gebruikt. Hiermee moet python zelf de vorm van de array bepalen.\n",
    "#X = data.drop('diagnosis', axis=1)  \n",
    "X1 = data['concave points_worst','perimeter_worst','concave points_mean','radius_worst','perimeter_mean']\n",
    "\n",
    "y = data['diagnosis']\n"
   ]
  },
  {
   "cell_type": "code",
   "execution_count": 60,
   "metadata": {},
   "outputs": [],
   "source": [
    "# De data set aan het verdelen tussen een train dataset en een test dataset,\n",
    "# hier wordt 20% de test dataset zodat de dataset niet overgefit wordt\n",
    "X_train, X_test, y_train, y_test = train_test_split(X, y, test_size=0.2, random_state=0)\n"
   ]
  },
  {
   "cell_type": "code",
   "execution_count": 61,
   "metadata": {},
   "outputs": [],
   "source": [
    "from sklearn.ensemble import RandomForestClassifier\n",
    "\n",
    "# Hier wordt een instantie van het random forest classifier model gemaakt.\n",
    "# Hier zouden ook verschillen Hyperparameters ingesteld kunnen worden,\n",
    "# echter zijn de standaard instellingen vaak een goed uitgangspunt.\n",
    "\n",
    "rf_model = RandomForestClassifier(random_state=42)\n"
   ]
  },
  {
   "cell_type": "code",
   "execution_count": 63,
   "metadata": {},
   "outputs": [
    {
     "data": {
      "text/html": [
       "<style>#sk-container-id-4 {color: black;}#sk-container-id-4 pre{padding: 0;}#sk-container-id-4 div.sk-toggleable {background-color: white;}#sk-container-id-4 label.sk-toggleable__label {cursor: pointer;display: block;width: 100%;margin-bottom: 0;padding: 0.3em;box-sizing: border-box;text-align: center;}#sk-container-id-4 label.sk-toggleable__label-arrow:before {content: \"▸\";float: left;margin-right: 0.25em;color: #696969;}#sk-container-id-4 label.sk-toggleable__label-arrow:hover:before {color: black;}#sk-container-id-4 div.sk-estimator:hover label.sk-toggleable__label-arrow:before {color: black;}#sk-container-id-4 div.sk-toggleable__content {max-height: 0;max-width: 0;overflow: hidden;text-align: left;background-color: #f0f8ff;}#sk-container-id-4 div.sk-toggleable__content pre {margin: 0.2em;color: black;border-radius: 0.25em;background-color: #f0f8ff;}#sk-container-id-4 input.sk-toggleable__control:checked~div.sk-toggleable__content {max-height: 200px;max-width: 100%;overflow: auto;}#sk-container-id-4 input.sk-toggleable__control:checked~label.sk-toggleable__label-arrow:before {content: \"▾\";}#sk-container-id-4 div.sk-estimator input.sk-toggleable__control:checked~label.sk-toggleable__label {background-color: #d4ebff;}#sk-container-id-4 div.sk-label input.sk-toggleable__control:checked~label.sk-toggleable__label {background-color: #d4ebff;}#sk-container-id-4 input.sk-hidden--visually {border: 0;clip: rect(1px 1px 1px 1px);clip: rect(1px, 1px, 1px, 1px);height: 1px;margin: -1px;overflow: hidden;padding: 0;position: absolute;width: 1px;}#sk-container-id-4 div.sk-estimator {font-family: monospace;background-color: #f0f8ff;border: 1px dotted black;border-radius: 0.25em;box-sizing: border-box;margin-bottom: 0.5em;}#sk-container-id-4 div.sk-estimator:hover {background-color: #d4ebff;}#sk-container-id-4 div.sk-parallel-item::after {content: \"\";width: 100%;border-bottom: 1px solid gray;flex-grow: 1;}#sk-container-id-4 div.sk-label:hover label.sk-toggleable__label {background-color: #d4ebff;}#sk-container-id-4 div.sk-serial::before {content: \"\";position: absolute;border-left: 1px solid gray;box-sizing: border-box;top: 0;bottom: 0;left: 50%;z-index: 0;}#sk-container-id-4 div.sk-serial {display: flex;flex-direction: column;align-items: center;background-color: white;padding-right: 0.2em;padding-left: 0.2em;position: relative;}#sk-container-id-4 div.sk-item {position: relative;z-index: 1;}#sk-container-id-4 div.sk-parallel {display: flex;align-items: stretch;justify-content: center;background-color: white;position: relative;}#sk-container-id-4 div.sk-item::before, #sk-container-id-4 div.sk-parallel-item::before {content: \"\";position: absolute;border-left: 1px solid gray;box-sizing: border-box;top: 0;bottom: 0;left: 50%;z-index: -1;}#sk-container-id-4 div.sk-parallel-item {display: flex;flex-direction: column;z-index: 1;position: relative;background-color: white;}#sk-container-id-4 div.sk-parallel-item:first-child::after {align-self: flex-end;width: 50%;}#sk-container-id-4 div.sk-parallel-item:last-child::after {align-self: flex-start;width: 50%;}#sk-container-id-4 div.sk-parallel-item:only-child::after {width: 0;}#sk-container-id-4 div.sk-dashed-wrapped {border: 1px dashed gray;margin: 0 0.4em 0.5em 0.4em;box-sizing: border-box;padding-bottom: 0.4em;background-color: white;}#sk-container-id-4 div.sk-label label {font-family: monospace;font-weight: bold;display: inline-block;line-height: 1.2em;}#sk-container-id-4 div.sk-label-container {text-align: center;}#sk-container-id-4 div.sk-container {/* jupyter's `normalize.less` sets `[hidden] { display: none; }` but bootstrap.min.css set `[hidden] { display: none !important; }` so we also need the `!important` here to be able to override the default hidden behavior on the sphinx rendered scikit-learn.org. See: https://github.com/scikit-learn/scikit-learn/issues/21755 */display: inline-block !important;position: relative;}#sk-container-id-4 div.sk-text-repr-fallback {display: none;}</style><div id=\"sk-container-id-4\" class=\"sk-top-container\"><div class=\"sk-text-repr-fallback\"><pre>RandomForestClassifier(random_state=42)</pre><b>In a Jupyter environment, please rerun this cell to show the HTML representation or trust the notebook. <br />On GitHub, the HTML representation is unable to render, please try loading this page with nbviewer.org.</b></div><div class=\"sk-container\" hidden><div class=\"sk-item\"><div class=\"sk-estimator sk-toggleable\"><input class=\"sk-toggleable__control sk-hidden--visually\" id=\"sk-estimator-id-4\" type=\"checkbox\" checked><label for=\"sk-estimator-id-4\" class=\"sk-toggleable__label sk-toggleable__label-arrow\">RandomForestClassifier</label><div class=\"sk-toggleable__content\"><pre>RandomForestClassifier(random_state=42)</pre></div></div></div></div></div>"
      ],
      "text/plain": [
       "RandomForestClassifier(random_state=42)"
      ]
     },
     "execution_count": 63,
     "metadata": {},
     "output_type": "execute_result"
    }
   ],
   "source": [
    "rf_model.fit(X_train, y_train)"
   ]
  },
  {
   "cell_type": "code",
   "execution_count": 64,
   "metadata": {},
   "outputs": [],
   "source": [
    "# Hier wordt er met het getrainde model de waarden voorspeld op de test data\n",
    "predictions = rf_model.predict(X_test)"
   ]
  },
  {
   "cell_type": "code",
   "execution_count": 65,
   "metadata": {},
   "outputs": [
    {
     "name": "stdout",
     "output_type": "stream",
     "text": [
      "Nauwkeurigheid: 0.8771929824561403\n",
      "              precision    recall  f1-score   support\n",
      "\n",
      "           0       0.86      0.94      0.90        67\n",
      "           1       0.90      0.79      0.84        47\n",
      "\n",
      "    accuracy                           0.88       114\n",
      "   macro avg       0.88      0.86      0.87       114\n",
      "weighted avg       0.88      0.88      0.88       114\n",
      "\n",
      "[[63  4]\n",
      " [10 37]]\n"
     ]
    }
   ],
   "source": [
    "from sklearn.metrics import accuracy_score, classification_report, confusion_matrix\n",
    "\n",
    "# Hier wordt de nauwkeurigheid berekend\n",
    "accuracy = accuracy_score(y_test, predictions)\n",
    "print(f\"Nauwkeurigheid: {accuracy}\")\n",
    "\n",
    "# Andere evaluatiemetingen\n",
    "print(classification_report(y_test, predictions))\n",
    "print(confusion_matrix(y_test, predictions))\n"
   ]
  },
  {
   "cell_type": "code",
   "execution_count": null,
   "metadata": {},
   "outputs": [],
   "source": []
  },
  {
   "cell_type": "code",
   "execution_count": 137,
   "metadata": {},
   "outputs": [
    {
     "name": "stdout",
     "output_type": "stream",
     "text": [
      "Geselecteerde kenmerken: Index(['perimeter_mean', 'area_mean', 'area_se', 'perimeter_worst',\n",
      "       'area_worst'],\n",
      "      dtype='object')\n",
      "Accuratesse: 0.9824561403508771\n",
      "Classificatie Rapport:\n",
      "               precision    recall  f1-score   support\n",
      "\n",
      "           0       0.97      1.00      0.99        71\n",
      "           1       1.00      0.95      0.98        43\n",
      "\n",
      "    accuracy                           0.98       114\n",
      "   macro avg       0.99      0.98      0.98       114\n",
      "weighted avg       0.98      0.98      0.98       114\n",
      "\n",
      "Confusion Matrix:\n",
      " [[71  0]\n",
      " [ 2 41]]\n"
     ]
    }
   ],
   "source": [
    "from sklearn.feature_selection import SelectKBest, chi2\n",
    "from sklearn.model_selection import train_test_split\n",
    "from sklearn.ensemble import RandomForestClassifier\n",
    "from sklearn.metrics import accuracy_score, classification_report, confusion_matrix\n",
    "\n",
    "# Stap 1: Univariate Feature Selection\n",
    "# Selecteer de top 'k' kenmerken op basis van chi-kwadraattest\n",
    "selector = SelectKBest(chi2, k=5)\n",
    "X_new = selector.fit_transform(X, y)\n",
    "\n",
    "# Print de indices van de geselecteerde kenmerken\n",
    "selected_feature_indices = selector.get_support(indices=True)\n",
    "selected_features = X.columns[selected_feature_indices]\n",
    "print(\"Geselecteerde kenmerken:\", selected_features)\n",
    "\n",
    "# Stap 2: Split de gegevens\n",
    "# Verdeel je gegevens in training en testsets\n",
    "X_train, X_test, y_train, y_test = train_test_split(X_new, y, test_size=0.2, random_state=42)\n",
    "\n",
    "# Stap 3: Creëer en train het model\n",
    "# Creëer je model\n",
    "model = RandomForestClassifier()\n",
    "\n",
    "# Train het model op de geselecteerde kenmerken\n",
    "model.fit(X_train, y_train)\n",
    "\n",
    "# Stap 4: Evalueer het model\n",
    "# Voorspel de labels voor de testset\n",
    "y_pred = model.predict(X_test)\n",
    "\n",
    "# Evalueer de prestaties van het model\n",
    "print(\"Accuratesse:\", accuracy_score(y_test, y_pred))\n",
    "print(\"Classificatie Rapport:\\n\", classification_report(y_test, y_pred))\n",
    "print(\"Confusion Matrix:\\n\", confusion_matrix(y_test, y_pred))\n"
   ]
  },
  {
   "cell_type": "code",
   "execution_count": null,
   "metadata": {},
   "outputs": [],
   "source": []
  }
 ],
 "metadata": {
  "kernelspec": {
   "display_name": "base",
   "language": "python",
   "name": "python3"
  },
  "language_info": {
   "codemirror_mode": {
    "name": "ipython",
    "version": 3
   },
   "file_extension": ".py",
   "mimetype": "text/x-python",
   "name": "python",
   "nbconvert_exporter": "python",
   "pygments_lexer": "ipython3",
   "version": "3.11.5"
  }
 },
 "nbformat": 4,
 "nbformat_minor": 2
}
