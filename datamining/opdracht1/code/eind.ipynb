{
 "cells": [
  {
   "cell_type": "markdown",
   "metadata": {},
   "source": [
    "# Analyse classificatie & regressie\n"
   ]
  },
  {
   "cell_type": "markdown",
   "metadata": {},
   "source": [
    "## Classificatie\n"
   ]
  },
  {
   "cell_type": "code",
   "execution_count": 1,
   "metadata": {},
   "outputs": [],
   "source": [
    "import pandas as pd\n",
    "import numpy as np\n",
    "import seaborn as sns\n",
    "import matplotlib.pyplot as plt\n",
    "import plotly.express as px\n",
    "import pandas as pd\n",
    "from sklearn.model_selection import train_test_split\n",
    "from sklearn.ensemble import RandomForestClassifier\n",
    "from sklearn.metrics import accuracy_score, classification_report, confusion_matrix\n",
    "from sklearn.preprocessing import StandardScaler\n",
    "from sklearn.neural_network import MLPClassifier\n",
    "\n",
    "\n",
    "pd.set_option('display.max_columns', None)\n",
    "pd.set_option('display.max_rows', None)"
   ]
  },
  {
   "cell_type": "markdown",
   "metadata": {},
   "source": [
    "## Vragen classificatie\n",
    "\n",
    "1. Noem een voorbeeld uit de praktijk waarin jullie algoritme wordt gebruikt.\n",
    "   Het Random forest model wordt gebruikt in de Finaciele sector voor fraudedetecite. Het kan patronen identificeren die wijzen op verdachte activiteiten, zoals ongebruikelijke transacties of creditcardfraude.\n",
    "\n",
    "2. Hoe werkt het algoritme conceptueel? Wat zijn de belangrijkste stappen?\n",
    "\n",
    "- Bootstrapping:\n",
    "  Maakt willekeurige subsets van de trainingsgegevens door exemplaren met vervanging te selecteren.\n",
    "- Kenmerkselectie:\n",
    "  Selecteerd willekeurige kenmerken bij elke knoop in elke boom om overfitting te verminderen.\n",
    "- Opbouwen van Beslissingsbomen:\n",
    "  Trained beslissingsbomen op de subsets van gegevens en kenmerken.\n",
    "- Voorspellingen van Elke Boom:\n",
    "  Gebruikt elke boom om voorspellingen te doen op nieuwe gegevens.\n",
    "- Aggregatie van Voorspellingen:\n",
    "  Combineert de voorspellingen van alle bomen om de uiteindelijke voorspelling van het Random Forest te verkrijgen, bijvoorbeeld door het nemen van gemiddelden (voor regressie) of meerderheid (voor classificatie).\n",
    "\n",
    "3. Wat zijn de voor- en nadelen van jullie algoritme? In welke situaties werkt het heel\n",
    "   goed en wanneer juist niet?\n",
    "\n",
    "Voordelen:\n",
    "\n",
    "- Random Forest heeft vaak een hoge voorspellende nauwkeurigheid, zelfs zonder veel afstemming van hyperparameters.\n",
    "- Door het gebruik van meerdere bomen en bootstrapping is Random Forest robuust tegen overfitting, overfitting gebeurt snel bij kleine datasets, wat bij ons het geval is.\n",
    "\n",
    "Nadelen:\n",
    "\n",
    "- Het maken van voorspellingen kan relatief lang duren, vooral bij grote aantallen bomen en kenmerken.\n",
    "\n",
    "Wanneer werkt Random forest wel goed:\n",
    "\n",
    "- Random Forest werkt goed bij complexe taken waarin er veel interacties en niet-lineaire relaties tussen kenmerken zijn.\n",
    "\n",
    "Wanneer werkt Random forest niet goed:\n",
    "\n",
    "- Als snelle voorspellingen cruciaal zijn, kan Random Forest minder geschikt zijn vanwege de combinatie van resultaten over meerdere bomen.\n"
   ]
  },
  {
   "cell_type": "code",
   "execution_count": 2,
   "metadata": {},
   "outputs": [],
   "source": [
    "# Hier wordt het bestand ingeladen en wordt de naam 'data' gegeven.\n",
    "data = pd.read_csv('./data/classification/data.csv')"
   ]
  },
  {
   "cell_type": "markdown",
   "metadata": {},
   "source": [
    "## Verkenende analyse\n"
   ]
  },
  {
   "cell_type": "code",
   "execution_count": 3,
   "metadata": {},
   "outputs": [
    {
     "data": {
      "text/html": [
       "<div>\n",
       "<style scoped>\n",
       "    .dataframe tbody tr th:only-of-type {\n",
       "        vertical-align: middle;\n",
       "    }\n",
       "\n",
       "    .dataframe tbody tr th {\n",
       "        vertical-align: top;\n",
       "    }\n",
       "\n",
       "    .dataframe thead th {\n",
       "        text-align: right;\n",
       "    }\n",
       "</style>\n",
       "<table border=\"1\" class=\"dataframe\">\n",
       "  <thead>\n",
       "    <tr style=\"text-align: right;\">\n",
       "      <th></th>\n",
       "      <th>id</th>\n",
       "      <th>diagnosis</th>\n",
       "      <th>radius_mean</th>\n",
       "      <th>texture_mean</th>\n",
       "      <th>perimeter_mean</th>\n",
       "      <th>area_mean</th>\n",
       "      <th>smoothness_mean</th>\n",
       "      <th>compactness_mean</th>\n",
       "      <th>concavity_mean</th>\n",
       "      <th>concave points_mean</th>\n",
       "      <th>symmetry_mean</th>\n",
       "      <th>fractal_dimension_mean</th>\n",
       "      <th>radius_se</th>\n",
       "      <th>texture_se</th>\n",
       "      <th>perimeter_se</th>\n",
       "      <th>area_se</th>\n",
       "      <th>smoothness_se</th>\n",
       "      <th>compactness_se</th>\n",
       "      <th>concavity_se</th>\n",
       "      <th>concave points_se</th>\n",
       "      <th>symmetry_se</th>\n",
       "      <th>fractal_dimension_se</th>\n",
       "      <th>radius_worst</th>\n",
       "      <th>texture_worst</th>\n",
       "      <th>perimeter_worst</th>\n",
       "      <th>area_worst</th>\n",
       "      <th>smoothness_worst</th>\n",
       "      <th>compactness_worst</th>\n",
       "      <th>concavity_worst</th>\n",
       "      <th>concave points_worst</th>\n",
       "      <th>symmetry_worst</th>\n",
       "      <th>fractal_dimension_worst</th>\n",
       "      <th>Unnamed: 32</th>\n",
       "    </tr>\n",
       "  </thead>\n",
       "  <tbody>\n",
       "    <tr>\n",
       "      <th>0</th>\n",
       "      <td>842302</td>\n",
       "      <td>M</td>\n",
       "      <td>17.99</td>\n",
       "      <td>10.38</td>\n",
       "      <td>122.80</td>\n",
       "      <td>1001.0</td>\n",
       "      <td>0.11840</td>\n",
       "      <td>0.27760</td>\n",
       "      <td>0.3001</td>\n",
       "      <td>0.14710</td>\n",
       "      <td>0.2419</td>\n",
       "      <td>0.07871</td>\n",
       "      <td>1.0950</td>\n",
       "      <td>0.9053</td>\n",
       "      <td>8.589</td>\n",
       "      <td>153.40</td>\n",
       "      <td>0.006399</td>\n",
       "      <td>0.04904</td>\n",
       "      <td>0.05373</td>\n",
       "      <td>0.01587</td>\n",
       "      <td>0.03003</td>\n",
       "      <td>0.006193</td>\n",
       "      <td>25.38</td>\n",
       "      <td>17.33</td>\n",
       "      <td>184.60</td>\n",
       "      <td>2019.0</td>\n",
       "      <td>0.1622</td>\n",
       "      <td>0.6656</td>\n",
       "      <td>0.7119</td>\n",
       "      <td>0.2654</td>\n",
       "      <td>0.4601</td>\n",
       "      <td>0.11890</td>\n",
       "      <td>NaN</td>\n",
       "    </tr>\n",
       "    <tr>\n",
       "      <th>1</th>\n",
       "      <td>842517</td>\n",
       "      <td>M</td>\n",
       "      <td>20.57</td>\n",
       "      <td>17.77</td>\n",
       "      <td>132.90</td>\n",
       "      <td>1326.0</td>\n",
       "      <td>0.08474</td>\n",
       "      <td>0.07864</td>\n",
       "      <td>0.0869</td>\n",
       "      <td>0.07017</td>\n",
       "      <td>0.1812</td>\n",
       "      <td>0.05667</td>\n",
       "      <td>0.5435</td>\n",
       "      <td>0.7339</td>\n",
       "      <td>3.398</td>\n",
       "      <td>74.08</td>\n",
       "      <td>0.005225</td>\n",
       "      <td>0.01308</td>\n",
       "      <td>0.01860</td>\n",
       "      <td>0.01340</td>\n",
       "      <td>0.01389</td>\n",
       "      <td>0.003532</td>\n",
       "      <td>24.99</td>\n",
       "      <td>23.41</td>\n",
       "      <td>158.80</td>\n",
       "      <td>1956.0</td>\n",
       "      <td>0.1238</td>\n",
       "      <td>0.1866</td>\n",
       "      <td>0.2416</td>\n",
       "      <td>0.1860</td>\n",
       "      <td>0.2750</td>\n",
       "      <td>0.08902</td>\n",
       "      <td>NaN</td>\n",
       "    </tr>\n",
       "    <tr>\n",
       "      <th>2</th>\n",
       "      <td>84300903</td>\n",
       "      <td>M</td>\n",
       "      <td>19.69</td>\n",
       "      <td>21.25</td>\n",
       "      <td>130.00</td>\n",
       "      <td>1203.0</td>\n",
       "      <td>0.10960</td>\n",
       "      <td>0.15990</td>\n",
       "      <td>0.1974</td>\n",
       "      <td>0.12790</td>\n",
       "      <td>0.2069</td>\n",
       "      <td>0.05999</td>\n",
       "      <td>0.7456</td>\n",
       "      <td>0.7869</td>\n",
       "      <td>4.585</td>\n",
       "      <td>94.03</td>\n",
       "      <td>0.006150</td>\n",
       "      <td>0.04006</td>\n",
       "      <td>0.03832</td>\n",
       "      <td>0.02058</td>\n",
       "      <td>0.02250</td>\n",
       "      <td>0.004571</td>\n",
       "      <td>23.57</td>\n",
       "      <td>25.53</td>\n",
       "      <td>152.50</td>\n",
       "      <td>1709.0</td>\n",
       "      <td>0.1444</td>\n",
       "      <td>0.4245</td>\n",
       "      <td>0.4504</td>\n",
       "      <td>0.2430</td>\n",
       "      <td>0.3613</td>\n",
       "      <td>0.08758</td>\n",
       "      <td>NaN</td>\n",
       "    </tr>\n",
       "    <tr>\n",
       "      <th>3</th>\n",
       "      <td>84348301</td>\n",
       "      <td>M</td>\n",
       "      <td>11.42</td>\n",
       "      <td>20.38</td>\n",
       "      <td>77.58</td>\n",
       "      <td>386.1</td>\n",
       "      <td>0.14250</td>\n",
       "      <td>0.28390</td>\n",
       "      <td>0.2414</td>\n",
       "      <td>0.10520</td>\n",
       "      <td>0.2597</td>\n",
       "      <td>0.09744</td>\n",
       "      <td>0.4956</td>\n",
       "      <td>1.1560</td>\n",
       "      <td>3.445</td>\n",
       "      <td>27.23</td>\n",
       "      <td>0.009110</td>\n",
       "      <td>0.07458</td>\n",
       "      <td>0.05661</td>\n",
       "      <td>0.01867</td>\n",
       "      <td>0.05963</td>\n",
       "      <td>0.009208</td>\n",
       "      <td>14.91</td>\n",
       "      <td>26.50</td>\n",
       "      <td>98.87</td>\n",
       "      <td>567.7</td>\n",
       "      <td>0.2098</td>\n",
       "      <td>0.8663</td>\n",
       "      <td>0.6869</td>\n",
       "      <td>0.2575</td>\n",
       "      <td>0.6638</td>\n",
       "      <td>0.17300</td>\n",
       "      <td>NaN</td>\n",
       "    </tr>\n",
       "    <tr>\n",
       "      <th>4</th>\n",
       "      <td>84358402</td>\n",
       "      <td>M</td>\n",
       "      <td>20.29</td>\n",
       "      <td>14.34</td>\n",
       "      <td>135.10</td>\n",
       "      <td>1297.0</td>\n",
       "      <td>0.10030</td>\n",
       "      <td>0.13280</td>\n",
       "      <td>0.1980</td>\n",
       "      <td>0.10430</td>\n",
       "      <td>0.1809</td>\n",
       "      <td>0.05883</td>\n",
       "      <td>0.7572</td>\n",
       "      <td>0.7813</td>\n",
       "      <td>5.438</td>\n",
       "      <td>94.44</td>\n",
       "      <td>0.011490</td>\n",
       "      <td>0.02461</td>\n",
       "      <td>0.05688</td>\n",
       "      <td>0.01885</td>\n",
       "      <td>0.01756</td>\n",
       "      <td>0.005115</td>\n",
       "      <td>22.54</td>\n",
       "      <td>16.67</td>\n",
       "      <td>152.20</td>\n",
       "      <td>1575.0</td>\n",
       "      <td>0.1374</td>\n",
       "      <td>0.2050</td>\n",
       "      <td>0.4000</td>\n",
       "      <td>0.1625</td>\n",
       "      <td>0.2364</td>\n",
       "      <td>0.07678</td>\n",
       "      <td>NaN</td>\n",
       "    </tr>\n",
       "  </tbody>\n",
       "</table>\n",
       "</div>"
      ],
      "text/plain": [
       "         id diagnosis  radius_mean  texture_mean  perimeter_mean  area_mean  \\\n",
       "0    842302         M        17.99         10.38          122.80     1001.0   \n",
       "1    842517         M        20.57         17.77          132.90     1326.0   \n",
       "2  84300903         M        19.69         21.25          130.00     1203.0   \n",
       "3  84348301         M        11.42         20.38           77.58      386.1   \n",
       "4  84358402         M        20.29         14.34          135.10     1297.0   \n",
       "\n",
       "   smoothness_mean  compactness_mean  concavity_mean  concave points_mean  \\\n",
       "0          0.11840           0.27760          0.3001              0.14710   \n",
       "1          0.08474           0.07864          0.0869              0.07017   \n",
       "2          0.10960           0.15990          0.1974              0.12790   \n",
       "3          0.14250           0.28390          0.2414              0.10520   \n",
       "4          0.10030           0.13280          0.1980              0.10430   \n",
       "\n",
       "   symmetry_mean  fractal_dimension_mean  radius_se  texture_se  perimeter_se  \\\n",
       "0         0.2419                 0.07871     1.0950      0.9053         8.589   \n",
       "1         0.1812                 0.05667     0.5435      0.7339         3.398   \n",
       "2         0.2069                 0.05999     0.7456      0.7869         4.585   \n",
       "3         0.2597                 0.09744     0.4956      1.1560         3.445   \n",
       "4         0.1809                 0.05883     0.7572      0.7813         5.438   \n",
       "\n",
       "   area_se  smoothness_se  compactness_se  concavity_se  concave points_se  \\\n",
       "0   153.40       0.006399         0.04904       0.05373            0.01587   \n",
       "1    74.08       0.005225         0.01308       0.01860            0.01340   \n",
       "2    94.03       0.006150         0.04006       0.03832            0.02058   \n",
       "3    27.23       0.009110         0.07458       0.05661            0.01867   \n",
       "4    94.44       0.011490         0.02461       0.05688            0.01885   \n",
       "\n",
       "   symmetry_se  fractal_dimension_se  radius_worst  texture_worst  \\\n",
       "0      0.03003              0.006193         25.38          17.33   \n",
       "1      0.01389              0.003532         24.99          23.41   \n",
       "2      0.02250              0.004571         23.57          25.53   \n",
       "3      0.05963              0.009208         14.91          26.50   \n",
       "4      0.01756              0.005115         22.54          16.67   \n",
       "\n",
       "   perimeter_worst  area_worst  smoothness_worst  compactness_worst  \\\n",
       "0           184.60      2019.0            0.1622             0.6656   \n",
       "1           158.80      1956.0            0.1238             0.1866   \n",
       "2           152.50      1709.0            0.1444             0.4245   \n",
       "3            98.87       567.7            0.2098             0.8663   \n",
       "4           152.20      1575.0            0.1374             0.2050   \n",
       "\n",
       "   concavity_worst  concave points_worst  symmetry_worst  \\\n",
       "0           0.7119                0.2654          0.4601   \n",
       "1           0.2416                0.1860          0.2750   \n",
       "2           0.4504                0.2430          0.3613   \n",
       "3           0.6869                0.2575          0.6638   \n",
       "4           0.4000                0.1625          0.2364   \n",
       "\n",
       "   fractal_dimension_worst  Unnamed: 32  \n",
       "0                  0.11890          NaN  \n",
       "1                  0.08902          NaN  \n",
       "2                  0.08758          NaN  \n",
       "3                  0.17300          NaN  \n",
       "4                  0.07678          NaN  "
      ]
     },
     "execution_count": 3,
     "metadata": {},
     "output_type": "execute_result"
    }
   ],
   "source": [
    "# Hier word gekeken hoe het dataframe eruit ziet\n",
    "data.head()"
   ]
  },
  {
   "cell_type": "code",
   "execution_count": 4,
   "metadata": {},
   "outputs": [
    {
     "data": {
      "text/plain": [
       "Index(['id', 'diagnosis', 'radius_mean', 'texture_mean', 'perimeter_mean',\n",
       "       'area_mean', 'smoothness_mean', 'compactness_mean', 'concavity_mean',\n",
       "       'concave points_mean', 'symmetry_mean', 'fractal_dimension_mean',\n",
       "       'radius_se', 'texture_se', 'perimeter_se', 'area_se', 'smoothness_se',\n",
       "       'compactness_se', 'concavity_se', 'concave points_se', 'symmetry_se',\n",
       "       'fractal_dimension_se', 'radius_worst', 'texture_worst',\n",
       "       'perimeter_worst', 'area_worst', 'smoothness_worst',\n",
       "       'compactness_worst', 'concavity_worst', 'concave points_worst',\n",
       "       'symmetry_worst', 'fractal_dimension_worst', 'Unnamed: 32'],\n",
       "      dtype='object')"
      ]
     },
     "execution_count": 4,
     "metadata": {},
     "output_type": "execute_result"
    }
   ],
   "source": [
    "# Hier wordt gekeken welke kolommen er allemaal in de dataframe staan\n",
    "data.columns"
   ]
  },
  {
   "cell_type": "code",
   "execution_count": 5,
   "metadata": {},
   "outputs": [
    {
     "name": "stdout",
     "output_type": "stream",
     "text": [
      "<class 'pandas.core.frame.DataFrame'>\n",
      "RangeIndex: 569 entries, 0 to 568\n",
      "Data columns (total 33 columns):\n",
      " #   Column                   Non-Null Count  Dtype  \n",
      "---  ------                   --------------  -----  \n",
      " 0   id                       569 non-null    int64  \n",
      " 1   diagnosis                569 non-null    object \n",
      " 2   radius_mean              569 non-null    float64\n",
      " 3   texture_mean             569 non-null    float64\n",
      " 4   perimeter_mean           569 non-null    float64\n",
      " 5   area_mean                569 non-null    float64\n",
      " 6   smoothness_mean          569 non-null    float64\n",
      " 7   compactness_mean         569 non-null    float64\n",
      " 8   concavity_mean           569 non-null    float64\n",
      " 9   concave points_mean      569 non-null    float64\n",
      " 10  symmetry_mean            569 non-null    float64\n",
      " 11  fractal_dimension_mean   569 non-null    float64\n",
      " 12  radius_se                569 non-null    float64\n",
      " 13  texture_se               569 non-null    float64\n",
      " 14  perimeter_se             569 non-null    float64\n",
      " 15  area_se                  569 non-null    float64\n",
      " 16  smoothness_se            569 non-null    float64\n",
      " 17  compactness_se           569 non-null    float64\n",
      " 18  concavity_se             569 non-null    float64\n",
      " 19  concave points_se        569 non-null    float64\n",
      " 20  symmetry_se              569 non-null    float64\n",
      " 21  fractal_dimension_se     569 non-null    float64\n",
      " 22  radius_worst             569 non-null    float64\n",
      " 23  texture_worst            569 non-null    float64\n",
      " 24  perimeter_worst          569 non-null    float64\n",
      " 25  area_worst               569 non-null    float64\n",
      " 26  smoothness_worst         569 non-null    float64\n",
      " 27  compactness_worst        569 non-null    float64\n",
      " 28  concavity_worst          569 non-null    float64\n",
      " 29  concave points_worst     569 non-null    float64\n",
      " 30  symmetry_worst           569 non-null    float64\n",
      " 31  fractal_dimension_worst  569 non-null    float64\n",
      " 32  Unnamed: 32              0 non-null      float64\n",
      "dtypes: float64(31), int64(1), object(1)\n",
      "memory usage: 146.8+ KB\n"
     ]
    }
   ],
   "source": [
    "# Wat is het type van de data in het dataframe?\n",
    "# Als het dataframe een kolom heeft met veel Nan waarden of missing values dan kan deze kolom gedropt worden of dan moeten deze waarden ingevuld worden.\n",
    "data.info()"
   ]
  },
  {
   "cell_type": "code",
   "execution_count": 6,
   "metadata": {},
   "outputs": [
    {
     "data": {
      "text/plain": [
       "id                           0\n",
       "diagnosis                    0\n",
       "radius_mean                  0\n",
       "texture_mean                 0\n",
       "perimeter_mean               0\n",
       "area_mean                    0\n",
       "smoothness_mean              0\n",
       "compactness_mean             0\n",
       "concavity_mean               0\n",
       "concave points_mean          0\n",
       "symmetry_mean                0\n",
       "fractal_dimension_mean       0\n",
       "radius_se                    0\n",
       "texture_se                   0\n",
       "perimeter_se                 0\n",
       "area_se                      0\n",
       "smoothness_se                0\n",
       "compactness_se               0\n",
       "concavity_se                 0\n",
       "concave points_se            0\n",
       "symmetry_se                  0\n",
       "fractal_dimension_se         0\n",
       "radius_worst                 0\n",
       "texture_worst                0\n",
       "perimeter_worst              0\n",
       "area_worst                   0\n",
       "smoothness_worst             0\n",
       "compactness_worst            0\n",
       "concavity_worst              0\n",
       "concave points_worst         0\n",
       "symmetry_worst               0\n",
       "fractal_dimension_worst      0\n",
       "Unnamed: 32                569\n",
       "dtype: int64"
      ]
     },
     "execution_count": 6,
     "metadata": {},
     "output_type": "execute_result"
    }
   ],
   "source": [
    "# Zitten er nan values in het dataframe?\n",
    "data.isna().sum()"
   ]
  },
  {
   "cell_type": "code",
   "execution_count": 7,
   "metadata": {},
   "outputs": [
    {
     "data": {
      "text/html": [
       "<div>\n",
       "<style scoped>\n",
       "    .dataframe tbody tr th:only-of-type {\n",
       "        vertical-align: middle;\n",
       "    }\n",
       "\n",
       "    .dataframe tbody tr th {\n",
       "        vertical-align: top;\n",
       "    }\n",
       "\n",
       "    .dataframe thead th {\n",
       "        text-align: right;\n",
       "    }\n",
       "</style>\n",
       "<table border=\"1\" class=\"dataframe\">\n",
       "  <thead>\n",
       "    <tr style=\"text-align: right;\">\n",
       "      <th></th>\n",
       "      <th>id</th>\n",
       "      <th>radius_mean</th>\n",
       "      <th>texture_mean</th>\n",
       "      <th>perimeter_mean</th>\n",
       "      <th>area_mean</th>\n",
       "      <th>smoothness_mean</th>\n",
       "      <th>compactness_mean</th>\n",
       "      <th>concavity_mean</th>\n",
       "      <th>concave points_mean</th>\n",
       "      <th>symmetry_mean</th>\n",
       "      <th>fractal_dimension_mean</th>\n",
       "      <th>radius_se</th>\n",
       "      <th>texture_se</th>\n",
       "      <th>perimeter_se</th>\n",
       "      <th>area_se</th>\n",
       "      <th>smoothness_se</th>\n",
       "      <th>compactness_se</th>\n",
       "      <th>concavity_se</th>\n",
       "      <th>concave points_se</th>\n",
       "      <th>symmetry_se</th>\n",
       "      <th>fractal_dimension_se</th>\n",
       "      <th>radius_worst</th>\n",
       "      <th>texture_worst</th>\n",
       "      <th>perimeter_worst</th>\n",
       "      <th>area_worst</th>\n",
       "      <th>smoothness_worst</th>\n",
       "      <th>compactness_worst</th>\n",
       "      <th>concavity_worst</th>\n",
       "      <th>concave points_worst</th>\n",
       "      <th>symmetry_worst</th>\n",
       "      <th>fractal_dimension_worst</th>\n",
       "      <th>Unnamed: 32</th>\n",
       "    </tr>\n",
       "  </thead>\n",
       "  <tbody>\n",
       "    <tr>\n",
       "      <th>count</th>\n",
       "      <td>5.690000e+02</td>\n",
       "      <td>569.000000</td>\n",
       "      <td>569.000000</td>\n",
       "      <td>569.000000</td>\n",
       "      <td>569.000000</td>\n",
       "      <td>569.000000</td>\n",
       "      <td>569.000000</td>\n",
       "      <td>569.000000</td>\n",
       "      <td>569.000000</td>\n",
       "      <td>569.000000</td>\n",
       "      <td>569.000000</td>\n",
       "      <td>569.000000</td>\n",
       "      <td>569.000000</td>\n",
       "      <td>569.000000</td>\n",
       "      <td>569.000000</td>\n",
       "      <td>569.000000</td>\n",
       "      <td>569.000000</td>\n",
       "      <td>569.000000</td>\n",
       "      <td>569.000000</td>\n",
       "      <td>569.000000</td>\n",
       "      <td>569.000000</td>\n",
       "      <td>569.000000</td>\n",
       "      <td>569.000000</td>\n",
       "      <td>569.000000</td>\n",
       "      <td>569.000000</td>\n",
       "      <td>569.000000</td>\n",
       "      <td>569.000000</td>\n",
       "      <td>569.000000</td>\n",
       "      <td>569.000000</td>\n",
       "      <td>569.000000</td>\n",
       "      <td>569.000000</td>\n",
       "      <td>0.0</td>\n",
       "    </tr>\n",
       "    <tr>\n",
       "      <th>mean</th>\n",
       "      <td>3.037183e+07</td>\n",
       "      <td>14.127292</td>\n",
       "      <td>19.289649</td>\n",
       "      <td>91.969033</td>\n",
       "      <td>654.889104</td>\n",
       "      <td>0.096360</td>\n",
       "      <td>0.104341</td>\n",
       "      <td>0.088799</td>\n",
       "      <td>0.048919</td>\n",
       "      <td>0.181162</td>\n",
       "      <td>0.062798</td>\n",
       "      <td>0.405172</td>\n",
       "      <td>1.216853</td>\n",
       "      <td>2.866059</td>\n",
       "      <td>40.337079</td>\n",
       "      <td>0.007041</td>\n",
       "      <td>0.025478</td>\n",
       "      <td>0.031894</td>\n",
       "      <td>0.011796</td>\n",
       "      <td>0.020542</td>\n",
       "      <td>0.003795</td>\n",
       "      <td>16.269190</td>\n",
       "      <td>25.677223</td>\n",
       "      <td>107.261213</td>\n",
       "      <td>880.583128</td>\n",
       "      <td>0.132369</td>\n",
       "      <td>0.254265</td>\n",
       "      <td>0.272188</td>\n",
       "      <td>0.114606</td>\n",
       "      <td>0.290076</td>\n",
       "      <td>0.083946</td>\n",
       "      <td>NaN</td>\n",
       "    </tr>\n",
       "    <tr>\n",
       "      <th>std</th>\n",
       "      <td>1.250206e+08</td>\n",
       "      <td>3.524049</td>\n",
       "      <td>4.301036</td>\n",
       "      <td>24.298981</td>\n",
       "      <td>351.914129</td>\n",
       "      <td>0.014064</td>\n",
       "      <td>0.052813</td>\n",
       "      <td>0.079720</td>\n",
       "      <td>0.038803</td>\n",
       "      <td>0.027414</td>\n",
       "      <td>0.007060</td>\n",
       "      <td>0.277313</td>\n",
       "      <td>0.551648</td>\n",
       "      <td>2.021855</td>\n",
       "      <td>45.491006</td>\n",
       "      <td>0.003003</td>\n",
       "      <td>0.017908</td>\n",
       "      <td>0.030186</td>\n",
       "      <td>0.006170</td>\n",
       "      <td>0.008266</td>\n",
       "      <td>0.002646</td>\n",
       "      <td>4.833242</td>\n",
       "      <td>6.146258</td>\n",
       "      <td>33.602542</td>\n",
       "      <td>569.356993</td>\n",
       "      <td>0.022832</td>\n",
       "      <td>0.157336</td>\n",
       "      <td>0.208624</td>\n",
       "      <td>0.065732</td>\n",
       "      <td>0.061867</td>\n",
       "      <td>0.018061</td>\n",
       "      <td>NaN</td>\n",
       "    </tr>\n",
       "    <tr>\n",
       "      <th>min</th>\n",
       "      <td>8.670000e+03</td>\n",
       "      <td>6.981000</td>\n",
       "      <td>9.710000</td>\n",
       "      <td>43.790000</td>\n",
       "      <td>143.500000</td>\n",
       "      <td>0.052630</td>\n",
       "      <td>0.019380</td>\n",
       "      <td>0.000000</td>\n",
       "      <td>0.000000</td>\n",
       "      <td>0.106000</td>\n",
       "      <td>0.049960</td>\n",
       "      <td>0.111500</td>\n",
       "      <td>0.360200</td>\n",
       "      <td>0.757000</td>\n",
       "      <td>6.802000</td>\n",
       "      <td>0.001713</td>\n",
       "      <td>0.002252</td>\n",
       "      <td>0.000000</td>\n",
       "      <td>0.000000</td>\n",
       "      <td>0.007882</td>\n",
       "      <td>0.000895</td>\n",
       "      <td>7.930000</td>\n",
       "      <td>12.020000</td>\n",
       "      <td>50.410000</td>\n",
       "      <td>185.200000</td>\n",
       "      <td>0.071170</td>\n",
       "      <td>0.027290</td>\n",
       "      <td>0.000000</td>\n",
       "      <td>0.000000</td>\n",
       "      <td>0.156500</td>\n",
       "      <td>0.055040</td>\n",
       "      <td>NaN</td>\n",
       "    </tr>\n",
       "    <tr>\n",
       "      <th>25%</th>\n",
       "      <td>8.692180e+05</td>\n",
       "      <td>11.700000</td>\n",
       "      <td>16.170000</td>\n",
       "      <td>75.170000</td>\n",
       "      <td>420.300000</td>\n",
       "      <td>0.086370</td>\n",
       "      <td>0.064920</td>\n",
       "      <td>0.029560</td>\n",
       "      <td>0.020310</td>\n",
       "      <td>0.161900</td>\n",
       "      <td>0.057700</td>\n",
       "      <td>0.232400</td>\n",
       "      <td>0.833900</td>\n",
       "      <td>1.606000</td>\n",
       "      <td>17.850000</td>\n",
       "      <td>0.005169</td>\n",
       "      <td>0.013080</td>\n",
       "      <td>0.015090</td>\n",
       "      <td>0.007638</td>\n",
       "      <td>0.015160</td>\n",
       "      <td>0.002248</td>\n",
       "      <td>13.010000</td>\n",
       "      <td>21.080000</td>\n",
       "      <td>84.110000</td>\n",
       "      <td>515.300000</td>\n",
       "      <td>0.116600</td>\n",
       "      <td>0.147200</td>\n",
       "      <td>0.114500</td>\n",
       "      <td>0.064930</td>\n",
       "      <td>0.250400</td>\n",
       "      <td>0.071460</td>\n",
       "      <td>NaN</td>\n",
       "    </tr>\n",
       "    <tr>\n",
       "      <th>50%</th>\n",
       "      <td>9.060240e+05</td>\n",
       "      <td>13.370000</td>\n",
       "      <td>18.840000</td>\n",
       "      <td>86.240000</td>\n",
       "      <td>551.100000</td>\n",
       "      <td>0.095870</td>\n",
       "      <td>0.092630</td>\n",
       "      <td>0.061540</td>\n",
       "      <td>0.033500</td>\n",
       "      <td>0.179200</td>\n",
       "      <td>0.061540</td>\n",
       "      <td>0.324200</td>\n",
       "      <td>1.108000</td>\n",
       "      <td>2.287000</td>\n",
       "      <td>24.530000</td>\n",
       "      <td>0.006380</td>\n",
       "      <td>0.020450</td>\n",
       "      <td>0.025890</td>\n",
       "      <td>0.010930</td>\n",
       "      <td>0.018730</td>\n",
       "      <td>0.003187</td>\n",
       "      <td>14.970000</td>\n",
       "      <td>25.410000</td>\n",
       "      <td>97.660000</td>\n",
       "      <td>686.500000</td>\n",
       "      <td>0.131300</td>\n",
       "      <td>0.211900</td>\n",
       "      <td>0.226700</td>\n",
       "      <td>0.099930</td>\n",
       "      <td>0.282200</td>\n",
       "      <td>0.080040</td>\n",
       "      <td>NaN</td>\n",
       "    </tr>\n",
       "    <tr>\n",
       "      <th>75%</th>\n",
       "      <td>8.813129e+06</td>\n",
       "      <td>15.780000</td>\n",
       "      <td>21.800000</td>\n",
       "      <td>104.100000</td>\n",
       "      <td>782.700000</td>\n",
       "      <td>0.105300</td>\n",
       "      <td>0.130400</td>\n",
       "      <td>0.130700</td>\n",
       "      <td>0.074000</td>\n",
       "      <td>0.195700</td>\n",
       "      <td>0.066120</td>\n",
       "      <td>0.478900</td>\n",
       "      <td>1.474000</td>\n",
       "      <td>3.357000</td>\n",
       "      <td>45.190000</td>\n",
       "      <td>0.008146</td>\n",
       "      <td>0.032450</td>\n",
       "      <td>0.042050</td>\n",
       "      <td>0.014710</td>\n",
       "      <td>0.023480</td>\n",
       "      <td>0.004558</td>\n",
       "      <td>18.790000</td>\n",
       "      <td>29.720000</td>\n",
       "      <td>125.400000</td>\n",
       "      <td>1084.000000</td>\n",
       "      <td>0.146000</td>\n",
       "      <td>0.339100</td>\n",
       "      <td>0.382900</td>\n",
       "      <td>0.161400</td>\n",
       "      <td>0.317900</td>\n",
       "      <td>0.092080</td>\n",
       "      <td>NaN</td>\n",
       "    </tr>\n",
       "    <tr>\n",
       "      <th>max</th>\n",
       "      <td>9.113205e+08</td>\n",
       "      <td>28.110000</td>\n",
       "      <td>39.280000</td>\n",
       "      <td>188.500000</td>\n",
       "      <td>2501.000000</td>\n",
       "      <td>0.163400</td>\n",
       "      <td>0.345400</td>\n",
       "      <td>0.426800</td>\n",
       "      <td>0.201200</td>\n",
       "      <td>0.304000</td>\n",
       "      <td>0.097440</td>\n",
       "      <td>2.873000</td>\n",
       "      <td>4.885000</td>\n",
       "      <td>21.980000</td>\n",
       "      <td>542.200000</td>\n",
       "      <td>0.031130</td>\n",
       "      <td>0.135400</td>\n",
       "      <td>0.396000</td>\n",
       "      <td>0.052790</td>\n",
       "      <td>0.078950</td>\n",
       "      <td>0.029840</td>\n",
       "      <td>36.040000</td>\n",
       "      <td>49.540000</td>\n",
       "      <td>251.200000</td>\n",
       "      <td>4254.000000</td>\n",
       "      <td>0.222600</td>\n",
       "      <td>1.058000</td>\n",
       "      <td>1.252000</td>\n",
       "      <td>0.291000</td>\n",
       "      <td>0.663800</td>\n",
       "      <td>0.207500</td>\n",
       "      <td>NaN</td>\n",
       "    </tr>\n",
       "  </tbody>\n",
       "</table>\n",
       "</div>"
      ],
      "text/plain": [
       "                 id  radius_mean  texture_mean  perimeter_mean    area_mean  \\\n",
       "count  5.690000e+02   569.000000    569.000000      569.000000   569.000000   \n",
       "mean   3.037183e+07    14.127292     19.289649       91.969033   654.889104   \n",
       "std    1.250206e+08     3.524049      4.301036       24.298981   351.914129   \n",
       "min    8.670000e+03     6.981000      9.710000       43.790000   143.500000   \n",
       "25%    8.692180e+05    11.700000     16.170000       75.170000   420.300000   \n",
       "50%    9.060240e+05    13.370000     18.840000       86.240000   551.100000   \n",
       "75%    8.813129e+06    15.780000     21.800000      104.100000   782.700000   \n",
       "max    9.113205e+08    28.110000     39.280000      188.500000  2501.000000   \n",
       "\n",
       "       smoothness_mean  compactness_mean  concavity_mean  concave points_mean  \\\n",
       "count       569.000000        569.000000      569.000000           569.000000   \n",
       "mean          0.096360          0.104341        0.088799             0.048919   \n",
       "std           0.014064          0.052813        0.079720             0.038803   \n",
       "min           0.052630          0.019380        0.000000             0.000000   \n",
       "25%           0.086370          0.064920        0.029560             0.020310   \n",
       "50%           0.095870          0.092630        0.061540             0.033500   \n",
       "75%           0.105300          0.130400        0.130700             0.074000   \n",
       "max           0.163400          0.345400        0.426800             0.201200   \n",
       "\n",
       "       symmetry_mean  fractal_dimension_mean   radius_se  texture_se  \\\n",
       "count     569.000000              569.000000  569.000000  569.000000   \n",
       "mean        0.181162                0.062798    0.405172    1.216853   \n",
       "std         0.027414                0.007060    0.277313    0.551648   \n",
       "min         0.106000                0.049960    0.111500    0.360200   \n",
       "25%         0.161900                0.057700    0.232400    0.833900   \n",
       "50%         0.179200                0.061540    0.324200    1.108000   \n",
       "75%         0.195700                0.066120    0.478900    1.474000   \n",
       "max         0.304000                0.097440    2.873000    4.885000   \n",
       "\n",
       "       perimeter_se     area_se  smoothness_se  compactness_se  concavity_se  \\\n",
       "count    569.000000  569.000000     569.000000      569.000000    569.000000   \n",
       "mean       2.866059   40.337079       0.007041        0.025478      0.031894   \n",
       "std        2.021855   45.491006       0.003003        0.017908      0.030186   \n",
       "min        0.757000    6.802000       0.001713        0.002252      0.000000   \n",
       "25%        1.606000   17.850000       0.005169        0.013080      0.015090   \n",
       "50%        2.287000   24.530000       0.006380        0.020450      0.025890   \n",
       "75%        3.357000   45.190000       0.008146        0.032450      0.042050   \n",
       "max       21.980000  542.200000       0.031130        0.135400      0.396000   \n",
       "\n",
       "       concave points_se  symmetry_se  fractal_dimension_se  radius_worst  \\\n",
       "count         569.000000   569.000000            569.000000    569.000000   \n",
       "mean            0.011796     0.020542              0.003795     16.269190   \n",
       "std             0.006170     0.008266              0.002646      4.833242   \n",
       "min             0.000000     0.007882              0.000895      7.930000   \n",
       "25%             0.007638     0.015160              0.002248     13.010000   \n",
       "50%             0.010930     0.018730              0.003187     14.970000   \n",
       "75%             0.014710     0.023480              0.004558     18.790000   \n",
       "max             0.052790     0.078950              0.029840     36.040000   \n",
       "\n",
       "       texture_worst  perimeter_worst   area_worst  smoothness_worst  \\\n",
       "count     569.000000       569.000000   569.000000        569.000000   \n",
       "mean       25.677223       107.261213   880.583128          0.132369   \n",
       "std         6.146258        33.602542   569.356993          0.022832   \n",
       "min        12.020000        50.410000   185.200000          0.071170   \n",
       "25%        21.080000        84.110000   515.300000          0.116600   \n",
       "50%        25.410000        97.660000   686.500000          0.131300   \n",
       "75%        29.720000       125.400000  1084.000000          0.146000   \n",
       "max        49.540000       251.200000  4254.000000          0.222600   \n",
       "\n",
       "       compactness_worst  concavity_worst  concave points_worst  \\\n",
       "count         569.000000       569.000000            569.000000   \n",
       "mean            0.254265         0.272188              0.114606   \n",
       "std             0.157336         0.208624              0.065732   \n",
       "min             0.027290         0.000000              0.000000   \n",
       "25%             0.147200         0.114500              0.064930   \n",
       "50%             0.211900         0.226700              0.099930   \n",
       "75%             0.339100         0.382900              0.161400   \n",
       "max             1.058000         1.252000              0.291000   \n",
       "\n",
       "       symmetry_worst  fractal_dimension_worst  Unnamed: 32  \n",
       "count      569.000000               569.000000          0.0  \n",
       "mean         0.290076                 0.083946          NaN  \n",
       "std          0.061867                 0.018061          NaN  \n",
       "min          0.156500                 0.055040          NaN  \n",
       "25%          0.250400                 0.071460          NaN  \n",
       "50%          0.282200                 0.080040          NaN  \n",
       "75%          0.317900                 0.092080          NaN  \n",
       "max          0.663800                 0.207500          NaN  "
      ]
     },
     "execution_count": 7,
     "metadata": {},
     "output_type": "execute_result"
    }
   ],
   "source": [
    "# In deze tabel kan gezien worden dat alle minimale waarden positief zijn. Dit is goed want er kan bijvoorbeeld geen negatieve omtrek zijn.\n",
    "data.describe()"
   ]
  },
  {
   "cell_type": "code",
   "execution_count": 8,
   "metadata": {},
   "outputs": [],
   "source": [
    "# Unnamed 32 is een kolom met alleen maar nan waardes, deze is dus niet nodig\n",
    "# Daarnaast is id geen kenmerk of het goedaardig of kwaadaardig is, maar een naam. Deze kan dus ook gedropt worden.\n",
    "data.drop(columns=['Unnamed: 32', 'id'], inplace=True)"
   ]
  },
  {
   "cell_type": "code",
   "execution_count": 9,
   "metadata": {},
   "outputs": [
    {
     "name": "stdout",
     "output_type": "stream",
     "text": [
      "diagnosis\n",
      "B    357\n",
      "M    212\n",
      "Name: count, dtype: int64\n"
     ]
    },
    {
     "data": {
      "text/plain": [
       "diagnosis\n",
       "B    0.627417\n",
       "M    0.372583\n",
       "Name: proportion, dtype: float64"
      ]
     },
     "execution_count": 9,
     "metadata": {},
     "output_type": "execute_result"
    }
   ],
   "source": [
    "# M = malignant (kwaadaardig) B = begnin (goedaardig)\n",
    "# Wat is ongeveer de verhoding van goedaardig en kwaadaardig\n",
    "print(data.diagnosis.value_counts())\n",
    "data.diagnosis.value_counts(normalize=True)"
   ]
  },
  {
   "cell_type": "code",
   "execution_count": 10,
   "metadata": {},
   "outputs": [],
   "source": [
    "# voor machine learning moet alles een numerieke waarde zijn, dus kwaadaardig = 1 goedaardig  = 0\n",
    "data['diagnosis'] = data['diagnosis'].replace({'M': 1, 'B': 0})"
   ]
  },
  {
   "cell_type": "markdown",
   "metadata": {},
   "source": [
    "### In de Boxplots hieronder kan gezien worden dat er bij sommige kolommen uitschieters zijn. Deze zijn echter vaak niet alleen, hierdoor nemen wij aan dat dit geen meetfouten zijn en dat het model hiervan kan leren.\n"
   ]
  },
  {
   "cell_type": "code",
   "execution_count": 11,
   "metadata": {},
   "outputs": [
    {
     "data": {
      "image/png": "[encoded data removed]",
      "text/plain": [
       "<Figure size 1500x2100 with 35 Axes>"
      ]
     },
     "metadata": {},
     "output_type": "display_data"
    }
   ],
   "source": [
    "aantal_kolommen = len(data.columns)\n",
    "aantal_kolommen_per_rij = 5\n",
    "# Afgeronde deling om ervoor te zorgen dat alle kolommen worden gedekt\n",
    "aantal_rijen = -(-aantal_kolommen // aantal_kolommen_per_rij)\n",
    "\n",
    "# Genereer boxplots in een rij van 4\n",
    "fig, axs = plt.subplots(\n",
    "    aantal_rijen, aantal_kolommen_per_rij, figsize=(15, 3*aantal_rijen))\n",
    "\n",
    "# Flatten de axs array als het meer dan één rij heeft\n",
    "axs = axs.flatten()\n",
    "\n",
    "for i, column in enumerate(data.columns):\n",
    "    plt.sca(axs[i])\n",
    "    data.boxplot(column=column)\n",
    "    plt.title(f'Boxplot voor kolom {column}')\n",
    "\n",
    "# Verwijder ongebruikte subplots als het aantal kolommen niet een veelvoud van 4 is\n",
    "for j in range(i+1, len(axs)):\n",
    "    axs[j].axis('off')\n",
    "\n",
    "plt.tight_layout()\n",
    "plt.show()"
   ]
  },
  {
   "cell_type": "code",
   "execution_count": 12,
   "metadata": {},
   "outputs": [],
   "source": [
    "# De correlatie maken tussen de verschillende kolommen\n",
    "corr = data.corr()"
   ]
  },
  {
   "cell_type": "code",
   "execution_count": 13,
   "metadata": {},
   "outputs": [
    {
     "data": {
      "text/plain": [
       "diagnosis                  1.000000\n",
       "concave points_worst       0.793566\n",
       "perimeter_worst            0.782914\n",
       "concave points_mean        0.776614\n",
       "radius_worst               0.776454\n",
       "perimeter_mean             0.742636\n",
       "area_worst                 0.733825\n",
       "radius_mean                0.730029\n",
       "area_mean                  0.708984\n",
       "concavity_mean             0.696360\n",
       "concavity_worst            0.659610\n",
       "compactness_mean           0.596534\n",
       "compactness_worst          0.590998\n",
       "radius_se                  0.567134\n",
       "perimeter_se               0.556141\n",
       "area_se                    0.548236\n",
       "texture_worst              0.456903\n",
       "smoothness_worst           0.421465\n",
       "symmetry_worst             0.416294\n",
       "texture_mean               0.415185\n",
       "concave points_se          0.408042\n",
       "smoothness_mean            0.358560\n",
       "symmetry_mean              0.330499\n",
       "fractal_dimension_worst    0.323872\n",
       "compactness_se             0.292999\n",
       "concavity_se               0.253730\n",
       "fractal_dimension_se       0.077972\n",
       "symmetry_se               -0.006522\n",
       "texture_se                -0.008303\n",
       "fractal_dimension_mean    -0.012838\n",
       "smoothness_se             -0.067016\n",
       "Name: diagnosis, dtype: float64"
      ]
     },
     "execution_count": 13,
     "metadata": {},
     "output_type": "execute_result"
    }
   ],
   "source": [
    "# Hier kan gezien worden welke kolommen de hoogste correlatie hebben met de diagnose\n",
    "# Het spreekt voor zich dat de kolom diagnosis precies een correlatie heeft van 1,\n",
    "# concave points_worst heeft dus de hoogste correlatie\n",
    "corr['diagnosis'].sort_values(ascending=False)"
   ]
  },
  {
   "cell_type": "code",
   "execution_count": 14,
   "metadata": {},
   "outputs": [
    {
     "data": {
      "application/vnd.plotly.v1+json": {
       "config": {
        "plotlyServerURL": "https://plot.ly"
       },
       "data": [
        {
         "coloraxis": "coloraxis",
         "hovertemplate": "x: %{x}<br>y: %{y}<br>color: %{z}<extra></extra>",
         "name": "0",
         "type": "heatmap",
         "x": [
          "diagnosis",
          "radius_mean",
          "texture_mean",
          "perimeter_mean",
          "area_mean",
          "smoothness_mean",
          "compactness_mean",
          "concavity_mean",
          "concave points_mean",
          "symmetry_mean",
          "fractal_dimension_mean",
          "radius_se",
          "texture_se",
          "perimeter_se",
          "area_se",
          "smoothness_se",
          "compactness_se",
          "concavity_se",
          "concave points_se",
          "symmetry_se",
          "fractal_dimension_se",
          "radius_worst",
          "texture_worst",
          "perimeter_worst",
          "area_worst",
          "smoothness_worst",
          "compactness_worst",
          "concavity_worst",
          "concave points_worst",
          "symmetry_worst",
          "fractal_dimension_worst"
         ],
         "xaxis": "x",
         "y": [
          "diagnosis",
          "radius_mean",
          "texture_mean",
          "perimeter_mean",
          "area_mean",
          "smoothness_mean",
          "compactness_mean",
          "concavity_mean",
          "concave points_mean",
          "symmetry_mean",
          "fractal_dimension_mean",
          "radius_se",
          "texture_se",
          "perimeter_se",
          "area_se",
          "smoothness_se",
          "compactness_se",
          "concavity_se",
          "concave points_se",
          "symmetry_se",
          "fractal_dimension_se",
          "radius_worst",
          "texture_worst",
          "perimeter_worst",
          "area_worst",
          "smoothness_worst",
          "compactness_worst",
          "concavity_worst",
          "concave points_worst",
          "symmetry_worst",
          "fractal_dimension_worst"
         ],
         "yaxis": "y",
         "z": [
          [
           1,
           0.7300285113754563,
           0.41518529984520475,
           0.7426355297258334,
           0.7089838365853902,
           0.35855996508593324,
           0.5965336775082527,
           0.6963597071719052,
           0.7766138400204371,
           0.33049855426254676,
           -0.012837602698431882,
           0.5671338208247175,
           -0.008303332973877035,
           0.5561407034314831,
           0.5482359402780241,
           -0.0670160105794875,
           0.2929992442488586,
           0.2537297659808307,
           0.4080423327165051,
           -0.006521755870647806,
           0.07797241739025584,
           0.7764537785950396,
           0.4569028213967985,
           0.7829141371737594,
           0.7338250349210504,
           0.4214648610664026,
           0.5909982378417918,
           0.6596102103692332,
           0.7935660171412694,
           0.4162943110486197,
           0.32387218872082474
          ],
          [
           0.7300285113754563,
           1,
           0.32378189092773324,
           0.9978552814938109,
           0.9873571700566127,
           0.17058118749299467,
           0.5061235775263634,
           0.6767635503908104,
           0.8225285223871786,
           0.14774124199260202,
           -0.3116308263092899,
           0.6790903880020743,
           -0.09731744314481319,
           0.6741716157641048,
           0.7358636632128178,
           -0.2226001245821115,
           0.2059999804076988,
           0.19420362276150882,
           0.3761689559399253,
           -0.10432088141786551,
           -0.042641269114456294,
           0.9695389726112055,
           0.29700764398637336,
           0.9651365139559871,
           0.9410824595860461,
           0.11961613992160802,
           0.4134628230608015,
           0.5269114618385448,
           0.7442141978674661,
           0.1639533349363072,
           0.007065885692182479
          ],
          [
           0.41518529984520475,
           0.32378189092773324,
           1,
           0.3295330586865707,
           0.32108569608020704,
           -0.023388515998423325,
           0.236702222074372,
           0.30241782794389144,
           0.29346405131394276,
           0.07140098048331764,
           -0.07643718344813423,
           0.27586867617376243,
           0.3863576227244906,
           0.28167311478720275,
           0.2598449866100985,
           0.006613777353585514,
           0.19197461132396684,
           0.14329307656049867,
           0.16385102528521822,
           0.009127167755035895,
           0.054457519568933854,
           0.35257294715029586,
           0.912044588840421,
           0.35803957505322415,
           0.3435459471864696,
           0.077503358822129,
           0.2778295924789794,
           0.30102522381649116,
           0.2953158433377364,
           0.10500791031597205,
           0.11920535139708567
          ],
          [
           0.7426355297258334,
           0.9978552814938109,
           0.3295330586865707,
           1,
           0.9865068039913907,
           0.2072781636910072,
           0.556936210879562,
           0.7161356501174047,
           0.8509770412528191,
           0.18302721211685316,
           -0.26147690806633256,
           0.6917650135334819,
           -0.08676107831179455,
           0.6931348895408653,
           0.7449826941190683,
           -0.20269402629832212,
           0.25074368074058806,
           0.22808234539365832,
           0.407216915998619,
           -0.08162932702839931,
           -0.005523391057003881,
           0.9694763634663146,
           0.30303837155715024,
           0.9703868870426394,
           0.9415498080023068,
           0.1505494043170374,
           0.45577422803832723,
           0.5638792634736619,
           0.7712407893605497,
           0.18911504046245775,
           0.05101852972340705
          ],
          [
           0.7089838365853902,
           0.9873571700566127,
           0.32108569608020704,
           0.9865068039913907,
           1,
           0.1770283772540016,
           0.49850168215241186,
           0.6859828285519112,
           0.8232688686524342,
           0.15129307903511224,
           -0.2831098116914261,
           0.7325622269972968,
           -0.06628021360457731,
           0.7266283277906844,
           0.8000859212343201,
           -0.1667766666011128,
           0.21258255077923266,
           0.20766006048256927,
           0.3723202823307104,
           -0.07249658821176244,
           -0.019886963235068042,
           0.9627460860470841,
           0.287488627121397,
           0.9591195743552645,
           0.9592133256498998,
           0.12352293875557084,
           0.39041030924249864,
           0.5126059204433239,
           0.7220166262603579,
           0.1435699138890717,
           0.003737597351571729
          ],
          [
           0.35855996508593324,
           0.17058118749299467,
           -0.023388515998423325,
           0.2072781636910072,
           0.1770283772540016,
           1,
           0.6591232152159234,
           0.52198376771426,
           0.5536951727437609,
           0.5577747880728878,
           0.5847920019499775,
           0.30146709825316975,
           0.06840644817118251,
           0.29609193289351476,
           0.24655243166573562,
           0.3323754426475922,
           0.31894329670537874,
           0.24839567988255598,
           0.38067569098328613,
           0.20077437592048314,
           0.2836066985468851,
           0.21312014189594916,
           0.03607179878564654,
           0.23885262620915101,
           0.20671836342857688,
           0.8053241954943627,
           0.4724684437304436,
           0.4349257147250878,
           0.503053353298951,
           0.39430948181175646,
           0.4993163685937669
          ],
          [
           0.5965336775082527,
           0.5061235775263634,
           0.236702222074372,
           0.556936210879562,
           0.49850168215241186,
           0.6591232152159234,
           1,
           0.8831206701772507,
           0.831135043133698,
           0.6026410484055158,
           0.565368663414522,
           0.49747344608506183,
           0.04620483071640705,
           0.5489052645888235,
           0.45565285198788846,
           0.13529926770047143,
           0.7387217896603929,
           0.5705168714898889,
           0.642261850971647,
           0.22997659080143223,
           0.5073181269004216,
           0.5353153982176662,
           0.2481328332774173,
           0.590210427731298,
           0.50960380555792,
           0.5655411663750888,
           0.8658090398022629,
           0.8162752498000281,
           0.8155732235690644,
           0.5102234299218061,
           0.6873823227538974
          ],
          [
           0.6963597071719052,
           0.6767635503908104,
           0.30241782794389144,
           0.7161356501174047,
           0.6859828285519112,
           0.52198376771426,
           0.8831206701772507,
           1,
           0.9213910263788588,
           0.5006666171419609,
           0.33678335942118504,
           0.6319248221414899,
           0.07621834813534026,
           0.6603907872419604,
           0.6174268058452413,
           0.09856374579911734,
           0.6702788246430194,
           0.6912702075448502,
           0.6832599165123261,
           0.17800920792087752,
           0.4493007490503378,
           0.6882364076436722,
           0.2998788887096908,
           0.7295649165132018,
           0.6759872313060872,
           0.44882203840476004,
           0.7549680159063962,
           0.8841026390943817,
           0.861323033637951,
           0.4094641265399853,
           0.5149298906363856
          ],
          [
           0.7766138400204371,
           0.8225285223871786,
           0.29346405131394276,
           0.8509770412528191,
           0.8232688686524342,
           0.5536951727437609,
           0.831135043133698,
           0.9213910263788588,
           1,
           0.4624973883673585,
           0.1669173832269923,
           0.6980498335607404,
           0.021479581923401776,
           0.710649871613898,
           0.6902985397595536,
           0.027653308387136005,
           0.49042424959357145,
           0.43916706847426173,
           0.6156341308969191,
           0.09535078688667675,
           0.2575837462430327,
           0.8303176311186159,
           0.2927517130015173,
           0.8559231281343119,
           0.809629619909618,
           0.4527530541790488,
           0.6674536768257124,
           0.7523994975749643,
           0.9101553142985918,
           0.3757441454236111,
           0.36866113371677106
          ],
          [
           0.33049855426254676,
           0.14774124199260202,
           0.07140098048331764,
           0.18302721211685316,
           0.15129307903511224,
           0.5577747880728878,
           0.6026410484055158,
           0.5006666171419609,
           0.4624973883673585,
           1,
           0.47992133005096926,
           0.30337926320726244,
           0.1280529263402561,
           0.3138927607965131,
           0.22397021941762965,
           0.18732116526139078,
           0.4216591470050108,
           0.3426270230777206,
           0.39329787208901684,
           0.44913654239342854,
           0.3317861462731239,
           0.18572775349568738,
           0.0906506881166432,
           0.21916855911105818,
           0.1771933773740968,
           0.4266750263849464,
           0.4732000132446185,
           0.433721007590172,
           0.4302966114579543,
           0.6998257976437302,
           0.4384134984446025
          ],
          [
           -0.012837602698431882,
           -0.3116308263092899,
           -0.07643718344813423,
           -0.26147690806633256,
           -0.2831098116914261,
           0.5847920019499775,
           0.565368663414522,
           0.33678335942118504,
           0.1669173832269923,
           0.47992133005096926,
           1,
           0.0001109950726296278,
           0.16417396587172883,
           0.03982993157204734,
           -0.09017024752042703,
           0.4019644254484126,
           0.5598366906211326,
           0.44663032169957156,
           0.34119804439711815,
           0.34500739714372797,
           0.6881315774585519,
           -0.25369149487660986,
           -0.05126920203676535,
           -0.20515121126277344,
           -0.2318544511675603,
           0.5049420753517612,
           0.4587981566678596,
           0.3462338763480676,
           0.17532544924324475,
           0.3340186838510839,
           0.7672967792384361
          ],
          [
           0.5671338208247175,
           0.6790903880020743,
           0.27586867617376243,
           0.6917650135334819,
           0.7325622269972968,
           0.30146709825316975,
           0.49747344608506183,
           0.6319248221414899,
           0.6980498335607404,
           0.30337926320726244,
           0.0001109950726296278,
           1,
           0.21324733725115802,
           0.9727936770160764,
           0.951830112110991,
           0.16451421981281164,
           0.35606457553220283,
           0.3323575376076105,
           0.5133464414367649,
           0.24056736245007102,
           0.22775353267198026,
           0.715065195135185,
           0.19479855683425132,
           0.7196838036650044,
           0.7515484761266196,
           0.14191855291860658,
           0.28710316560074034,
           0.38058463462872194,
           0.5310623278216046,
           0.09454283035438187,
           0.049559432464573124
          ],
          [
           -0.008303332973877035,
           -0.09731744314481319,
           0.3863576227244906,
           -0.08676107831179455,
           -0.06628021360457731,
           0.06840644817118251,
           0.04620483071640705,
           0.07621834813534026,
           0.021479581923401776,
           0.1280529263402561,
           0.16417396587172883,
           0.21324733725115802,
           1,
           0.223170728630714,
           0.11156724721803947,
           0.3972428526412099,
           0.2316996989762371,
           0.19499846445881905,
           0.2302833995570338,
           0.41162068019753933,
           0.2797227477191938,
           -0.11169031312493002,
           0.4090027663153059,
           -0.10224192188743278,
           -0.08319498858504636,
           -0.07365765910118513,
           -0.09243935361819372,
           -0.06895622054645592,
           -0.11963752313984607,
           -0.12821475779252947,
           -0.045654568593207025
          ],
          [
           0.5561407034314831,
           0.6741716157641048,
           0.28167311478720275,
           0.6931348895408653,
           0.7266283277906844,
           0.29609193289351476,
           0.5489052645888235,
           0.6603907872419604,
           0.710649871613898,
           0.3138927607965131,
           0.03982993157204734,
           0.9727936770160764,
           0.223170728630714,
           1,
           0.9376554069544157,
           0.15107533120841296,
           0.41632236799246164,
           0.3624815822704489,
           0.5562640836543961,
           0.2664870918640224,
           0.24414277341628535,
           0.6972005927206456,
           0.2003708539594511,
           0.7210313099890175,
           0.7307129731302829,
           0.1300543919910096,
           0.3419194453712055,
           0.4188988157305714,
           0.5548972306282103,
           0.1099304342313503,
           0.0854325720566574
          ],
          [
           0.5482359402780241,
           0.7358636632128178,
           0.2598449866100985,
           0.7449826941190683,
           0.8000859212343201,
           0.24655243166573562,
           0.45565285198788846,
           0.6174268058452413,
           0.6902985397595536,
           0.22397021941762965,
           -0.09017024752042703,
           0.951830112110991,
           0.11156724721803947,
           0.9376554069544157,
           1,
           0.07515033812199375,
           0.28484005654116107,
           0.270894726190632,
           0.4157295683714005,
           0.1341089796924749,
           0.12707090297801246,
           0.7573731889240164,
           0.19649664907281025,
           0.7612126360687592,
           0.8114079609317274,
           0.12538943051609117,
           0.28325653753745555,
           0.38510013559852924,
           0.5381663138957359,
           0.07412629159952816,
           0.017539295132385505
          ],
          [
           -0.0670160105794875,
           -0.2226001245821115,
           0.006613777353585514,
           -0.20269402629832212,
           -0.1667766666011128,
           0.3323754426475922,
           0.13529926770047143,
           0.09856374579911734,
           0.027653308387136005,
           0.18732116526139078,
           0.4019644254484126,
           0.16451421981281164,
           0.3972428526412099,
           0.15107533120841296,
           0.07515033812199375,
           1,
           0.33669608050544514,
           0.2686847598722627,
           0.3284294991096789,
           0.4135061252078973,
           0.4273742067231582,
           -0.2306907098451477,
           -0.07474296487675623,
           -0.21730375458186166,
           -0.182195478059099,
           0.31445745598082797,
           -0.05555813871505085,
           -0.05829838674344549,
           -0.10200679633746537,
           -0.10734209778914477,
           0.10148031504252508
          ],
          [
           0.2929992442488586,
           0.2059999804076988,
           0.19197461132396684,
           0.25074368074058806,
           0.21258255077923266,
           0.31894329670537874,
           0.7387217896603929,
           0.6702788246430194,
           0.49042424959357145,
           0.4216591470050108,
           0.5598366906211326,
           0.35606457553220283,
           0.2316996989762371,
           0.41632236799246164,
           0.28484005654116107,
           0.33669608050544514,
           1,
           0.8012683427383291,
           0.7440826676953253,
           0.3947128347620316,
           0.8032688176617679,
           0.20460716594748168,
           0.1430025832957166,
           0.26051583964720865,
           0.19937132909101393,
           0.22739423230542308,
           0.6787803543724954,
           0.6391466977559193,
           0.48320832682561315,
           0.277878430714635,
           0.5909727625047895
          ],
          [
           0.2537297659808307,
           0.19420362276150882,
           0.14329307656049867,
           0.22808234539365832,
           0.20766006048256927,
           0.24839567988255598,
           0.5705168714898889,
           0.6912702075448502,
           0.43916706847426173,
           0.3426270230777206,
           0.44663032169957156,
           0.3323575376076105,
           0.19499846445881905,
           0.3624815822704489,
           0.270894726190632,
           0.2686847598722627,
           0.8012683427383291,
           1,
           0.7718039949238469,
           0.30942857798445156,
           0.727372183881192,
           0.1869035156858978,
           0.10024098374834615,
           0.22668042559090154,
           0.18835265208953067,
           0.16848132079136754,
           0.4848578006864688,
           0.6625641337427411,
           0.44047226304622294,
           0.19778782186141097,
           0.43932926857579074
          ],
          [
           0.4080423327165051,
           0.3761689559399253,
           0.16385102528521822,
           0.407216915998619,
           0.3723202823307104,
           0.38067569098328613,
           0.642261850971647,
           0.6832599165123261,
           0.6156341308969191,
           0.39329787208901684,
           0.34119804439711815,
           0.5133464414367649,
           0.2302833995570338,
           0.5562640836543961,
           0.4157295683714005,
           0.3284294991096789,
           0.7440826676953253,
           0.7718039949238469,
           1,
           0.3127802232097334,
           0.611044139380723,
           0.3581266692410426,
           0.08674120994286846,
           0.3949992517741845,
           0.3422711620926815,
           0.21535059681593355,
           0.4528883773698806,
           0.5495923752351922,
           0.6024496059209876,
           0.14311566863305003,
           0.31065455149383064
          ],
          [
           -0.006521755870647806,
           -0.10432088141786551,
           0.009127167755035895,
           -0.08162932702839931,
           -0.07249658821176244,
           0.20077437592048314,
           0.22997659080143223,
           0.17800920792087752,
           0.09535078688667675,
           0.44913654239342854,
           0.34500739714372797,
           0.24056736245007102,
           0.41162068019753933,
           0.2664870918640224,
           0.1341089796924749,
           0.4135061252078973,
           0.3947128347620316,
           0.30942857798445156,
           0.3127802232097334,
           1,
           0.3690780833657291,
           -0.1281207690727424,
           -0.0774734201840788,
           -0.10375304384332498,
           -0.11034274289549834,
           -0.012661799565908998,
           0.06025487946536686,
           0.03711904859992839,
           -0.03041339642360094,
           0.38940248488464646,
           0.07807947627266758
          ],
          [
           0.07797241739025584,
           -0.042641269114456294,
           0.054457519568933854,
           -0.005523391057003881,
           -0.019886963235068042,
           0.2836066985468851,
           0.5073181269004216,
           0.4493007490503378,
           0.2575837462430327,
           0.3317861462731239,
           0.6881315774585519,
           0.22775353267198026,
           0.2797227477191938,
           0.24414277341628535,
           0.12707090297801246,
           0.4273742067231582,
           0.8032688176617679,
           0.727372183881192,
           0.611044139380723,
           0.3690780833657291,
           1,
           -0.037487617862673565,
           -0.0031950288680895906,
           -0.0010003976259669379,
           -0.022736147308900636,
           0.17056831595314176,
           0.39015884208667484,
           0.3799746614570792,
           0.21520401331002892,
           0.11109395575572399,
           0.5913280656608751
          ],
          [
           0.7764537785950396,
           0.9695389726112055,
           0.35257294715029586,
           0.9694763634663146,
           0.9627460860470841,
           0.21312014189594916,
           0.5353153982176662,
           0.6882364076436722,
           0.8303176311186159,
           0.18572775349568738,
           -0.25369149487660986,
           0.715065195135185,
           -0.11169031312493002,
           0.6972005927206456,
           0.7573731889240164,
           -0.2306907098451477,
           0.20460716594748168,
           0.1869035156858978,
           0.3581266692410426,
           -0.1281207690727424,
           -0.037487617862673565,
           1,
           0.3599207542210483,
           0.993707916102949,
           0.9840145644590742,
           0.21657443125969564,
           0.47582003746014645,
           0.5739747080993033,
           0.7874238517122407,
           0.2435292042913138,
           0.09349197867930178
          ],
          [
           0.4569028213967985,
           0.29700764398637336,
           0.912044588840421,
           0.30303837155715024,
           0.287488627121397,
           0.03607179878564654,
           0.2481328332774173,
           0.2998788887096908,
           0.2927517130015173,
           0.0906506881166432,
           -0.05126920203676535,
           0.19479855683425132,
           0.4090027663153059,
           0.2003708539594511,
           0.19649664907281025,
           -0.07474296487675623,
           0.1430025832957166,
           0.10024098374834615,
           0.08674120994286846,
           -0.0774734201840788,
           -0.0031950288680895906,
           0.3599207542210483,
           1,
           0.3650982454086192,
           0.3458422825267967,
           0.22542941490948662,
           0.36083233859797315,
           0.3683656074599454,
           0.3597546095250358,
           0.23302746144531727,
           0.21912242546315883
          ],
          [
           0.7829141371737594,
           0.9651365139559871,
           0.35803957505322415,
           0.9703868870426394,
           0.9591195743552645,
           0.23885262620915101,
           0.590210427731298,
           0.7295649165132018,
           0.8559231281343119,
           0.21916855911105818,
           -0.20515121126277344,
           0.7196838036650044,
           -0.10224192188743278,
           0.7210313099890175,
           0.7612126360687592,
           -0.21730375458186166,
           0.26051583964720865,
           0.22668042559090154,
           0.3949992517741845,
           -0.10375304384332498,
           -0.0010003976259669379,
           0.993707916102949,
           0.3650982454086192,
           1,
           0.9775780914063871,
           0.23677460388606966,
           0.5294076901641023,
           0.6183440795335158,
           0.8163221016875439,
           0.26949276908381714,
           0.13895686184575767
          ],
          [
           0.7338250349210504,
           0.9410824595860461,
           0.3435459471864696,
           0.9415498080023068,
           0.9592133256498998,
           0.20671836342857688,
           0.50960380555792,
           0.6759872313060872,
           0.809629619909618,
           0.1771933773740968,
           -0.2318544511675603,
           0.7515484761266196,
           -0.08319498858504636,
           0.7307129731302829,
           0.8114079609317274,
           -0.182195478059099,
           0.19937132909101393,
           0.18835265208953067,
           0.3422711620926815,
           -0.11034274289549834,
           -0.022736147308900636,
           0.9840145644590742,
           0.3458422825267967,
           0.9775780914063871,
           1,
           0.20914533376028963,
           0.4382962837796741,
           0.5433305254110798,
           0.7474188023228167,
           0.2091455083870789,
           0.07964703402467602
          ],
          [
           0.4214648610664026,
           0.11961613992160802,
           0.077503358822129,
           0.1505494043170374,
           0.12352293875557084,
           0.8053241954943627,
           0.5655411663750888,
           0.44882203840476004,
           0.4527530541790488,
           0.4266750263849464,
           0.5049420753517612,
           0.14191855291860658,
           -0.07365765910118513,
           0.1300543919910096,
           0.12538943051609117,
           0.31445745598082797,
           0.22739423230542308,
           0.16848132079136754,
           0.21535059681593355,
           -0.012661799565908998,
           0.17056831595314176,
           0.21657443125969564,
           0.22542941490948662,
           0.23677460388606966,
           0.20914533376028963,
           1,
           0.5681865166856064,
           0.5185232928640015,
           0.5476909029497875,
           0.4938383302357591,
           0.6176241916554379
          ],
          [
           0.5909982378417918,
           0.4134628230608015,
           0.2778295924789794,
           0.45577422803832723,
           0.39041030924249864,
           0.4724684437304436,
           0.8658090398022629,
           0.7549680159063962,
           0.6674536768257124,
           0.4732000132446185,
           0.4587981566678596,
           0.28710316560074034,
           -0.09243935361819372,
           0.3419194453712055,
           0.28325653753745555,
           -0.05555813871505085,
           0.6787803543724954,
           0.4848578006864688,
           0.4528883773698806,
           0.06025487946536686,
           0.39015884208667484,
           0.47582003746014645,
           0.36083233859797315,
           0.5294076901641023,
           0.4382962837796741,
           0.5681865166856064,
           1,
           0.8922608987764685,
           0.8010803646352528,
           0.6144405011493067,
           0.8104548563116117
          ],
          [
           0.6596102103692332,
           0.5269114618385448,
           0.30102522381649116,
           0.5638792634736619,
           0.5126059204433239,
           0.4349257147250878,
           0.8162752498000281,
           0.8841026390943817,
           0.7523994975749643,
           0.433721007590172,
           0.3462338763480676,
           0.38058463462872194,
           -0.06895622054645592,
           0.4188988157305714,
           0.38510013559852924,
           -0.05829838674344549,
           0.6391466977559193,
           0.6625641337427411,
           0.5495923752351922,
           0.03711904859992839,
           0.3799746614570792,
           0.5739747080993033,
           0.3683656074599454,
           0.6183440795335158,
           0.5433305254110798,
           0.5185232928640015,
           0.8922608987764685,
           1,
           0.8554338603439982,
           0.5325197291183627,
           0.6865109212448633
          ],
          [
           0.7935660171412694,
           0.7442141978674661,
           0.2953158433377364,
           0.7712407893605497,
           0.7220166262603579,
           0.503053353298951,
           0.8155732235690644,
           0.861323033637951,
           0.9101553142985918,
           0.4302966114579543,
           0.17532544924324475,
           0.5310623278216046,
           -0.11963752313984607,
           0.5548972306282103,
           0.5381663138957359,
           -0.10200679633746537,
           0.48320832682561315,
           0.44047226304622294,
           0.6024496059209876,
           -0.03041339642360094,
           0.21520401331002892,
           0.7874238517122407,
           0.3597546095250358,
           0.8163221016875439,
           0.7474188023228167,
           0.5476909029497875,
           0.8010803646352528,
           0.8554338603439982,
           1,
           0.5025284938306981,
           0.5111141458863395
          ],
          [
           0.4162943110486197,
           0.1639533349363072,
           0.10500791031597205,
           0.18911504046245775,
           0.1435699138890717,
           0.39430948181175646,
           0.5102234299218061,
           0.4094641265399853,
           0.3757441454236111,
           0.6998257976437302,
           0.3340186838510839,
           0.09454283035438187,
           -0.12821475779252947,
           0.1099304342313503,
           0.07412629159952816,
           -0.10734209778914477,
           0.277878430714635,
           0.19778782186141097,
           0.14311566863305003,
           0.38940248488464646,
           0.11109395575572399,
           0.2435292042913138,
           0.23302746144531727,
           0.26949276908381714,
           0.2091455083870789,
           0.4938383302357591,
           0.6144405011493067,
           0.5325197291183627,
           0.5025284938306981,
           1,
           0.537848206253609
          ],
          [
           0.32387218872082474,
           0.007065885692182479,
           0.11920535139708567,
           0.05101852972340705,
           0.003737597351571729,
           0.4993163685937669,
           0.6873823227538974,
           0.5149298906363856,
           0.36866113371677106,
           0.4384134984446025,
           0.7672967792384361,
           0.049559432464573124,
           -0.045654568593207025,
           0.0854325720566574,
           0.017539295132385505,
           0.10148031504252508,
           0.5909727625047895,
           0.43932926857579074,
           0.31065455149383064,
           0.07807947627266758,
           0.5913280656608751,
           0.09349197867930178,
           0.21912242546315883,
           0.13895686184575767,
           0.07964703402467602,
           0.6176241916554379,
           0.8104548563116117,
           0.6865109212448633,
           0.5111141458863395,
           0.537848206253609,
           1
          ]
         ]
        }
       ],
       "layout": {
        "coloraxis": {
         "colorscale": [
          [
           0,
           "#0d0887"
          ],
          [
           0.1111111111111111,
           "#46039f"
          ],
          [
           0.2222222222222222,
           "#7201a8"
          ],
          [
           0.3333333333333333,
           "#9c179e"
          ],
          [
           0.4444444444444444,
           "#bd3786"
          ],
          [
           0.5555555555555556,
           "#d8576b"
          ],
          [
           0.6666666666666666,
           "#ed7953"
          ],
          [
           0.7777777777777778,
           "#fb9f3a"
          ],
          [
           0.8888888888888888,
           "#fdca26"
          ],
          [
           1,
           "#f0f921"
          ]
         ]
        },
        "margin": {
         "t": 60
        },
        "template": {
         "data": {
          "bar": [
           {
            "error_x": {
             "color": "#2a3f5f"
            },
            "error_y": {
             "color": "#2a3f5f"
            },
            "marker": {
             "line": {
              "color": "#E5ECF6",
              "width": 0.5
             },
             "pattern": {
              "fillmode": "overlay",
              "size": 10,
              "solidity": 0.2
             }
            },
            "type": "bar"
           }
          ],
          "barpolar": [
           {
            "marker": {
             "line": {
              "color": "#E5ECF6",
              "width": 0.5
             },
             "pattern": {
              "fillmode": "overlay",
              "size": 10,
              "solidity": 0.2
             }
            },
            "type": "barpolar"
           }
          ],
          "carpet": [
           {
            "aaxis": {
             "endlinecolor": "#2a3f5f",
             "gridcolor": "white",
             "linecolor": "white",
             "minorgridcolor": "white",
             "startlinecolor": "#2a3f5f"
            },
            "baxis": {
             "endlinecolor": "#2a3f5f",
             "gridcolor": "white",
             "linecolor": "white",
             "minorgridcolor": "white",
             "startlinecolor": "#2a3f5f"
            },
            "type": "carpet"
           }
          ],
          "choropleth": [
           {
            "colorbar": {
             "outlinewidth": 0,
             "ticks": ""
            },
            "type": "choropleth"
           }
          ],
          "contour": [
           {
            "colorbar": {
             "outlinewidth": 0,
             "ticks": ""
            },
            "colorscale": [
             [
              0,
              "#0d0887"
             ],
             [
              0.1111111111111111,
              "#46039f"
             ],
             [
              0.2222222222222222,
              "#7201a8"
             ],
             [
              0.3333333333333333,
              "#9c179e"
             ],
             [
              0.4444444444444444,
              "#bd3786"
             ],
             [
              0.5555555555555556,
              "#d8576b"
             ],
             [
              0.6666666666666666,
              "#ed7953"
             ],
             [
              0.7777777777777778,
              "#fb9f3a"
             ],
             [
              0.8888888888888888,
              "#fdca26"
             ],
             [
              1,
              "#f0f921"
             ]
            ],
            "type": "contour"
           }
          ],
          "contourcarpet": [
           {
            "colorbar": {
             "outlinewidth": 0,
             "ticks": ""
            },
            "type": "contourcarpet"
           }
          ],
          "heatmap": [
           {
            "colorbar": {
             "outlinewidth": 0,
             "ticks": ""
            },
            "colorscale": [
             [
              0,
              "#0d0887"
             ],
             [
              0.1111111111111111,
              "#46039f"
             ],
             [
              0.2222222222222222,
              "#7201a8"
             ],
             [
              0.3333333333333333,
              "#9c179e"
             ],
             [
              0.4444444444444444,
              "#bd3786"
             ],
             [
              0.5555555555555556,
              "#d8576b"
             ],
             [
              0.6666666666666666,
              "#ed7953"
             ],
             [
              0.7777777777777778,
              "#fb9f3a"
             ],
             [
              0.8888888888888888,
              "#fdca26"
             ],
             [
              1,
              "#f0f921"
             ]
            ],
            "type": "heatmap"
           }
          ],
          "heatmapgl": [
           {
            "colorbar": {
             "outlinewidth": 0,
             "ticks": ""
            },
            "colorscale": [
             [
              0,
              "#0d0887"
             ],
             [
              0.1111111111111111,
              "#46039f"
             ],
             [
              0.2222222222222222,
              "#7201a8"
             ],
             [
              0.3333333333333333,
              "#9c179e"
             ],
             [
              0.4444444444444444,
              "#bd3786"
             ],
             [
              0.5555555555555556,
              "#d8576b"
             ],
             [
              0.6666666666666666,
              "#ed7953"
             ],
             [
              0.7777777777777778,
              "#fb9f3a"
             ],
             [
              0.8888888888888888,
              "#fdca26"
             ],
             [
              1,
              "#f0f921"
             ]
            ],
            "type": "heatmapgl"
           }
          ],
          "histogram": [
           {
            "marker": {
             "pattern": {
              "fillmode": "overlay",
              "size": 10,
              "solidity": 0.2
             }
            },
            "type": "histogram"
           }
          ],
          "histogram2d": [
           {
            "colorbar": {
             "outlinewidth": 0,
             "ticks": ""
            },
            "colorscale": [
             [
              0,
              "#0d0887"
             ],
             [
              0.1111111111111111,
              "#46039f"
             ],
             [
              0.2222222222222222,
              "#7201a8"
             ],
             [
              0.3333333333333333,
              "#9c179e"
             ],
             [
              0.4444444444444444,
              "#bd3786"
             ],
             [
              0.5555555555555556,
              "#d8576b"
             ],
             [
              0.6666666666666666,
              "#ed7953"
             ],
             [
              0.7777777777777778,
              "#fb9f3a"
             ],
             [
              0.8888888888888888,
              "#fdca26"
             ],
             [
              1,
              "#f0f921"
             ]
            ],
            "type": "histogram2d"
           }
          ],
          "histogram2dcontour": [
           {
            "colorbar": {
             "outlinewidth": 0,
             "ticks": ""
            },
            "colorscale": [
             [
              0,
              "#0d0887"
             ],
             [
              0.1111111111111111,
              "#46039f"
             ],
             [
              0.2222222222222222,
              "#7201a8"
             ],
             [
              0.3333333333333333,
              "#9c179e"
             ],
             [
              0.4444444444444444,
              "#bd3786"
             ],
             [
              0.5555555555555556,
              "#d8576b"
             ],
             [
              0.6666666666666666,
              "#ed7953"
             ],
             [
              0.7777777777777778,
              "#fb9f3a"
             ],
             [
              0.8888888888888888,
              "#fdca26"
             ],
             [
              1,
              "#f0f921"
             ]
            ],
            "type": "histogram2dcontour"
           }
          ],
          "mesh3d": [
           {
            "colorbar": {
             "outlinewidth": 0,
             "ticks": ""
            },
            "type": "mesh3d"
           }
          ],
          "parcoords": [
           {
            "line": {
             "colorbar": {
              "outlinewidth": 0,
              "ticks": ""
             }
            },
            "type": "parcoords"
           }
          ],
          "pie": [
           {
            "automargin": true,
            "type": "pie"
           }
          ],
          "scatter": [
           {
            "fillpattern": {
             "fillmode": "overlay",
             "size": 10,
             "solidity": 0.2
            },
            "type": "scatter"
           }
          ],
          "scatter3d": [
           {
            "line": {
             "colorbar": {
              "outlinewidth": 0,
              "ticks": ""
             }
            },
            "marker": {
             "colorbar": {
              "outlinewidth": 0,
              "ticks": ""
             }
            },
            "type": "scatter3d"
           }
          ],
          "scattercarpet": [
           {
            "marker": {
             "colorbar": {
              "outlinewidth": 0,
              "ticks": ""
             }
            },
            "type": "scattercarpet"
           }
          ],
          "scattergeo": [
           {
            "marker": {
             "colorbar": {
              "outlinewidth": 0,
              "ticks": ""
             }
            },
            "type": "scattergeo"
           }
          ],
          "scattergl": [
           {
            "marker": {
             "colorbar": {
              "outlinewidth": 0,
              "ticks": ""
             }
            },
            "type": "scattergl"
           }
          ],
          "scattermapbox": [
           {
            "marker": {
             "colorbar": {
              "outlinewidth": 0,
              "ticks": ""
             }
            },
            "type": "scattermapbox"
           }
          ],
          "scatterpolar": [
           {
            "marker": {
             "colorbar": {
              "outlinewidth": 0,
              "ticks": ""
             }
            },
            "type": "scatterpolar"
           }
          ],
          "scatterpolargl": [
           {
            "marker": {
             "colorbar": {
              "outlinewidth": 0,
              "ticks": ""
             }
            },
            "type": "scatterpolargl"
           }
          ],
          "scatterternary": [
           {
            "marker": {
             "colorbar": {
              "outlinewidth": 0,
              "ticks": ""
             }
            },
            "type": "scatterternary"
           }
          ],
          "surface": [
           {
            "colorbar": {
             "outlinewidth": 0,
             "ticks": ""
            },
            "colorscale": [
             [
              0,
              "#0d0887"
             ],
             [
              0.1111111111111111,
              "#46039f"
             ],
             [
              0.2222222222222222,
              "#7201a8"
             ],
             [
              0.3333333333333333,
              "#9c179e"
             ],
             [
              0.4444444444444444,
              "#bd3786"
             ],
             [
              0.5555555555555556,
              "#d8576b"
             ],
             [
              0.6666666666666666,
              "#ed7953"
             ],
             [
              0.7777777777777778,
              "#fb9f3a"
             ],
             [
              0.8888888888888888,
              "#fdca26"
             ],
             [
              1,
              "#f0f921"
             ]
            ],
            "type": "surface"
           }
          ],
          "table": [
           {
            "cells": {
             "fill": {
              "color": "#EBF0F8"
             },
             "line": {
              "color": "white"
             }
            },
            "header": {
             "fill": {
              "color": "#C8D4E3"
             },
             "line": {
              "color": "white"
             }
            },
            "type": "table"
           }
          ]
         },
         "layout": {
          "annotationdefaults": {
           "arrowcolor": "#2a3f5f",
           "arrowhead": 0,
           "arrowwidth": 1
          },
          "autotypenumbers": "strict",
          "coloraxis": {
           "colorbar": {
            "outlinewidth": 0,
            "ticks": ""
           }
          },
          "colorscale": {
           "diverging": [
            [
             0,
             "#8e0152"
            ],
            [
             0.1,
             "#c51b7d"
            ],
            [
             0.2,
             "#de77ae"
            ],
            [
             0.3,
             "#f1b6da"
            ],
            [
             0.4,
             "#fde0ef"
            ],
            [
             0.5,
             "#f7f7f7"
            ],
            [
             0.6,
             "#e6f5d0"
            ],
            [
             0.7,
             "#b8e186"
            ],
            [
             0.8,
             "#7fbc41"
            ],
            [
             0.9,
             "#4d9221"
            ],
            [
             1,
             "#276419"
            ]
           ],
           "sequential": [
            [
             0,
             "#0d0887"
            ],
            [
             0.1111111111111111,
             "#46039f"
            ],
            [
             0.2222222222222222,
             "#7201a8"
            ],
            [
             0.3333333333333333,
             "#9c179e"
            ],
            [
             0.4444444444444444,
             "#bd3786"
            ],
            [
             0.5555555555555556,
             "#d8576b"
            ],
            [
             0.6666666666666666,
             "#ed7953"
            ],
            [
             0.7777777777777778,
             "#fb9f3a"
            ],
            [
             0.8888888888888888,
             "#fdca26"
            ],
            [
             1,
             "#f0f921"
            ]
           ],
           "sequentialminus": [
            [
             0,
             "#0d0887"
            ],
            [
             0.1111111111111111,
             "#46039f"
            ],
            [
             0.2222222222222222,
             "#7201a8"
            ],
            [
             0.3333333333333333,
             "#9c179e"
            ],
            [
             0.4444444444444444,
             "#bd3786"
            ],
            [
             0.5555555555555556,
             "#d8576b"
            ],
            [
             0.6666666666666666,
             "#ed7953"
            ],
            [
             0.7777777777777778,
             "#fb9f3a"
            ],
            [
             0.8888888888888888,
             "#fdca26"
            ],
            [
             1,
             "#f0f921"
            ]
           ]
          },
          "colorway": [
           "#636efa",
           "#EF553B",
           "#00cc96",
           "#ab63fa",
           "#FFA15A",
           "#19d3f3",
           "#FF6692",
           "#B6E880",
           "#FF97FF",
           "#FECB52"
          ],
          "font": {
           "color": "#2a3f5f"
          },
          "geo": {
           "bgcolor": "white",
           "lakecolor": "white",
           "landcolor": "#E5ECF6",
           "showlakes": true,
           "showland": true,
           "subunitcolor": "white"
          },
          "hoverlabel": {
           "align": "left"
          },
          "hovermode": "closest",
          "mapbox": {
           "style": "light"
          },
          "paper_bgcolor": "white",
          "plot_bgcolor": "#E5ECF6",
          "polar": {
           "angularaxis": {
            "gridcolor": "white",
            "linecolor": "white",
            "ticks": ""
           },
           "bgcolor": "#E5ECF6",
           "radialaxis": {
            "gridcolor": "white",
            "linecolor": "white",
            "ticks": ""
           }
          },
          "scene": {
           "xaxis": {
            "backgroundcolor": "#E5ECF6",
            "gridcolor": "white",
            "gridwidth": 2,
            "linecolor": "white",
            "showbackground": true,
            "ticks": "",
            "zerolinecolor": "white"
           },
           "yaxis": {
            "backgroundcolor": "#E5ECF6",
            "gridcolor": "white",
            "gridwidth": 2,
            "linecolor": "white",
            "showbackground": true,
            "ticks": "",
            "zerolinecolor": "white"
           },
           "zaxis": {
            "backgroundcolor": "#E5ECF6",
            "gridcolor": "white",
            "gridwidth": 2,
            "linecolor": "white",
            "showbackground": true,
            "ticks": "",
            "zerolinecolor": "white"
           }
          },
          "shapedefaults": {
           "line": {
            "color": "#2a3f5f"
           }
          },
          "ternary": {
           "aaxis": {
            "gridcolor": "white",
            "linecolor": "white",
            "ticks": ""
           },
           "baxis": {
            "gridcolor": "white",
            "linecolor": "white",
            "ticks": ""
           },
           "bgcolor": "#E5ECF6",
           "caxis": {
            "gridcolor": "white",
            "linecolor": "white",
            "ticks": ""
           }
          },
          "title": {
           "x": 0.05
          },
          "xaxis": {
           "automargin": true,
           "gridcolor": "white",
           "linecolor": "white",
           "ticks": "",
           "title": {
            "standoff": 15
           },
           "zerolinecolor": "white",
           "zerolinewidth": 2
          },
          "yaxis": {
           "automargin": true,
           "gridcolor": "white",
           "linecolor": "white",
           "ticks": "",
           "title": {
            "standoff": 15
           },
           "zerolinecolor": "white",
           "zerolinewidth": 2
          }
         }
        },
        "xaxis": {
         "anchor": "y",
         "constrain": "domain",
         "domain": [
          0,
          1
         ],
         "scaleanchor": "y"
        },
        "yaxis": {
         "anchor": "x",
         "autorange": "reversed",
         "constrain": "domain",
         "domain": [
          0,
          1
         ]
        }
       }
      }
     },
     "metadata": {},
     "output_type": "display_data"
    }
   ],
   "source": [
    "# Het maken van een heatmap zodat er overzichtelijk gezien kan worden welke variablen een correlatie met elkaar hebben\n",
    "px.imshow(corr)"
   ]
  },
  {
   "cell_type": "code",
   "execution_count": 15,
   "metadata": {},
   "outputs": [
    {
     "data": {
      "text/plain": [
       "<Axes: xlabel='concave points_worst', ylabel='diagnosis'>"
      ]
     },
     "execution_count": 15,
     "metadata": {},
     "output_type": "execute_result"
    },
    {
     "data": {
      "image/png": "[encoded data removed]",
      "text/plain": [
       "<Figure size 640x480 with 1 Axes>"
      ]
     },
     "metadata": {},
     "output_type": "display_data"
    }
   ],
   "source": [
    "# spreiding van de meest gecoreleerde variable met diagnosis,\n",
    "# Hier kan al een beetje gezien worden dat als de concave points_worst >0.20 is dat het altijd kwaadaardig is\n",
    "sns.scatterplot(data, x='concave points_worst', y='diagnosis')"
   ]
  },
  {
   "cell_type": "markdown",
   "metadata": {},
   "source": [
    "# Het classificatie model\n"
   ]
  },
  {
   "cell_type": "markdown",
   "metadata": {},
   "source": [
    "Voor het classifiseren van borstkanker is de accuratiteit belangrijker dan de snelheid van het model.\n",
    "Daarnaast is het geen grote dataset dus in overfitting een gevaar. Hierdoor gebruiken wij het randomforest calssifatie model.\n"
   ]
  },
  {
   "cell_type": "markdown",
   "metadata": {},
   "source": [
    "## De code met 1 variabele\n"
   ]
  },
  {
   "cell_type": "code",
   "execution_count": 16,
   "metadata": {},
   "outputs": [],
   "source": [
    "# Hier wordt de y (wat moet er voorspeld worden) en de x (de features(met wat wordt de y voorspeld))-\n",
    "# - bepaald. De y = de diagnose en de x = concave points_worst (de variabble met de hoogste correlatie)\n",
    "# Bij X wordt .reshape(-1, 1) gebruikt. Hiermee moet python zelf de vorm van de array bepalen.\n",
    "# X = data.drop('diagnosis', axis=1)\n",
    "X = np.array(data['concave points_worst']).reshape(-1, 1)\n",
    "\n",
    "y = np.array(data['diagnosis'])"
   ]
  },
  {
   "cell_type": "code",
   "execution_count": 17,
   "metadata": {},
   "outputs": [],
   "source": [
    "# De data set aan het verdelen tussen een trai\n",
    "# In dataset en een test dataset,\n",
    "# hier wordt 20% de test dataset zodat de dataset niet overgefit wordt\n",
    "X_train, X_test, y_train, y_test = train_test_split(\n",
    "    X, y, test_size=0.3, random_state=0)"
   ]
  },
  {
   "cell_type": "code",
   "execution_count": 18,
   "metadata": {},
   "outputs": [],
   "source": [
    "\n",
    "# Hier wordt een instantie van het random forest classifier model gemaakt.\n",
    "# Hier zouden ook verschillen Hyperparameters ingesteld kunnen worden,\n",
    "# echter zijn de standaard instellingen vaak een goed uitgangspunt.\n",
    "\n",
    "rf_model = RandomForestClassifier(random_state=42)"
   ]
  },
  {
   "cell_type": "code",
   "execution_count": 19,
   "metadata": {},
   "outputs": [
    {
     "data": {
      "text/html": [
       "<style>#sk-container-id-1 {color: black;}#sk-container-id-1 pre{padding: 0;}#sk-container-id-1 div.sk-toggleable {background-color: white;}#sk-container-id-1 label.sk-toggleable__label {cursor: pointer;display: block;width: 100%;margin-bottom: 0;padding: 0.3em;box-sizing: border-box;text-align: center;}#sk-container-id-1 label.sk-toggleable__label-arrow:before {content: \"▸\";float: left;margin-right: 0.25em;color: #696969;}#sk-container-id-1 label.sk-toggleable__label-arrow:hover:before {color: black;}#sk-container-id-1 div.sk-estimator:hover label.sk-toggleable__label-arrow:before {color: black;}#sk-container-id-1 div.sk-toggleable__content {max-height: 0;max-width: 0;overflow: hidden;text-align: left;background-color: #f0f8ff;}#sk-container-id-1 div.sk-toggleable__content pre {margin: 0.2em;color: black;border-radius: 0.25em;background-color: #f0f8ff;}#sk-container-id-1 input.sk-toggleable__control:checked~div.sk-toggleable__content {max-height: 200px;max-width: 100%;overflow: auto;}#sk-container-id-1 input.sk-toggleable__control:checked~label.sk-toggleable__label-arrow:before {content: \"▾\";}#sk-container-id-1 div.sk-estimator input.sk-toggleable__control:checked~label.sk-toggleable__label {background-color: #d4ebff;}#sk-container-id-1 div.sk-label input.sk-toggleable__control:checked~label.sk-toggleable__label {background-color: #d4ebff;}#sk-container-id-1 input.sk-hidden--visually {border: 0;clip: rect(1px 1px 1px 1px);clip: rect(1px, 1px, 1px, 1px);height: 1px;margin: -1px;overflow: hidden;padding: 0;position: absolute;width: 1px;}#sk-container-id-1 div.sk-estimator {font-family: monospace;background-color: #f0f8ff;border: 1px dotted black;border-radius: 0.25em;box-sizing: border-box;margin-bottom: 0.5em;}#sk-container-id-1 div.sk-estimator:hover {background-color: #d4ebff;}#sk-container-id-1 div.sk-parallel-item::after {content: \"\";width: 100%;border-bottom: 1px solid gray;flex-grow: 1;}#sk-container-id-1 div.sk-label:hover label.sk-toggleable__label {background-color: #d4ebff;}#sk-container-id-1 div.sk-serial::before {content: \"\";position: absolute;border-left: 1px solid gray;box-sizing: border-box;top: 0;bottom: 0;left: 50%;z-index: 0;}#sk-container-id-1 div.sk-serial {display: flex;flex-direction: column;align-items: center;background-color: white;padding-right: 0.2em;padding-left: 0.2em;position: relative;}#sk-container-id-1 div.sk-item {position: relative;z-index: 1;}#sk-container-id-1 div.sk-parallel {display: flex;align-items: stretch;justify-content: center;background-color: white;position: relative;}#sk-container-id-1 div.sk-item::before, #sk-container-id-1 div.sk-parallel-item::before {content: \"\";position: absolute;border-left: 1px solid gray;box-sizing: border-box;top: 0;bottom: 0;left: 50%;z-index: -1;}#sk-container-id-1 div.sk-parallel-item {display: flex;flex-direction: column;z-index: 1;position: relative;background-color: white;}#sk-container-id-1 div.sk-parallel-item:first-child::after {align-self: flex-end;width: 50%;}#sk-container-id-1 div.sk-parallel-item:last-child::after {align-self: flex-start;width: 50%;}#sk-container-id-1 div.sk-parallel-item:only-child::after {width: 0;}#sk-container-id-1 div.sk-dashed-wrapped {border: 1px dashed gray;margin: 0 0.4em 0.5em 0.4em;box-sizing: border-box;padding-bottom: 0.4em;background-color: white;}#sk-container-id-1 div.sk-label label {font-family: monospace;font-weight: bold;display: inline-block;line-height: 1.2em;}#sk-container-id-1 div.sk-label-container {text-align: center;}#sk-container-id-1 div.sk-container {/* jupyter's `normalize.less` sets `[hidden] { display: none; }` but bootstrap.min.css set `[hidden] { display: none !important; }` so we also need the `!important` here to be able to override the default hidden behavior on the sphinx rendered scikit-learn.org. See: https://github.com/scikit-learn/scikit-learn/issues/21755 */display: inline-block !important;position: relative;}#sk-container-id-1 div.sk-text-repr-fallback {display: none;}</style><div id=\"sk-container-id-1\" class=\"sk-top-container\"><div class=\"sk-text-repr-fallback\"><pre>RandomForestClassifier(random_state=42)</pre><b>In a Jupyter environment, please rerun this cell to show the HTML representation or trust the notebook. <br />On GitHub, the HTML representation is unable to render, please try loading this page with nbviewer.org.</b></div><div class=\"sk-container\" hidden><div class=\"sk-item\"><div class=\"sk-estimator sk-toggleable\"><input class=\"sk-toggleable__control sk-hidden--visually\" id=\"sk-estimator-id-1\" type=\"checkbox\" checked><label for=\"sk-estimator-id-1\" class=\"sk-toggleable__label sk-toggleable__label-arrow\">RandomForestClassifier</label><div class=\"sk-toggleable__content\"><pre>RandomForestClassifier(random_state=42)</pre></div></div></div></div></div>"
      ],
      "text/plain": [
       "RandomForestClassifier(random_state=42)"
      ]
     },
     "execution_count": 19,
     "metadata": {},
     "output_type": "execute_result"
    }
   ],
   "source": [
    "rf_model.fit(X_train, y_train)"
   ]
  },
  {
   "cell_type": "code",
   "execution_count": 20,
   "metadata": {},
   "outputs": [],
   "source": [
    "# Hier wordt er met het getrainde model de waarden voorspeld op de test data\n",
    "predictions = rf_model.predict(X_test)"
   ]
  },
  {
   "cell_type": "code",
   "execution_count": 21,
   "metadata": {},
   "outputs": [
    {
     "name": "stdout",
     "output_type": "stream",
     "text": [
      "Nauwkeurigheid: 0.847953216374269\n",
      "              precision    recall  f1-score   support\n",
      "\n",
      "           0       0.89      0.87      0.88       108\n",
      "           1       0.78      0.81      0.80        63\n",
      "\n",
      "    accuracy                           0.85       171\n",
      "   macro avg       0.84      0.84      0.84       171\n",
      "weighted avg       0.85      0.85      0.85       171\n",
      "\n",
      "[[94 14]\n",
      " [12 51]]\n"
     ]
    }
   ],
   "source": [
    "\n",
    "# Hier wordt de nauwkeurigheid berekend\n",
    "accuracy = accuracy_score(y_test, predictions)\n",
    "print(f\"Nauwkeurigheid: {accuracy}\")\n",
    "\n",
    "# Andere evaluatiemetingen, zoals de precisie en de f1score\n",
    "# Daarnaast wordt ook een matrix laten zien waar de voorspellingen goed zijn of fout zijn.\n",
    "print(classification_report(y_test, predictions))\n",
    "print(confusion_matrix(y_test, predictions))"
   ]
  },
  {
   "cell_type": "markdown",
   "metadata": {},
   "source": [
    "##### Met 1 variabele is het model dus ongeveer 84% van de keren correct. Dit is best hoog, echter is dit ook de variabele die die hoogste correlatie heeft met de diagnose. Deze nauwkeurigheid is dus wel realistisch.\n"
   ]
  },
  {
   "cell_type": "markdown",
   "metadata": {},
   "source": [
    "## De code met meerde variabelen\n"
   ]
  },
  {
   "cell_type": "markdown",
   "metadata": {},
   "source": [
    "##### Hieronder is een stuk code geschreven om variabelen toe te voegen bij de X. Het stoppen van het toevoegen van variabelen stopt als de nauwkeurigheid niet meer hoger wordt.\n"
   ]
  },
  {
   "cell_type": "code",
   "execution_count": 22,
   "metadata": {},
   "outputs": [
    {
     "name": "stdout",
     "output_type": "stream",
     "text": [
      "Selected Columns: ['concave points_worst']\n"
     ]
    },
    {
     "name": "stdout",
     "output_type": "stream",
     "text": [
      "Model met 2 kolommen: ['concave points_worst', 'area_worst'], Nauwkeurigheid: 0.9532163742690059\n",
      "Model met 3 kolommen: ['concave points_worst', 'area_worst', 'smoothness_worst'], Nauwkeurigheid: 0.9649122807017544\n",
      "Model met 4 kolommen: ['concave points_worst', 'area_worst', 'smoothness_worst', 'area_mean'], Nauwkeurigheid: 0.9707602339181286\n",
      "Model met 5 kolommen: ['concave points_worst', 'area_worst', 'smoothness_worst', 'area_mean', 'fractal_dimension_worst'], Nauwkeurigheid: 0.9766081871345029\n",
      "Model met 6 kolommen: ['concave points_worst', 'area_worst', 'smoothness_worst', 'area_mean', 'fractal_dimension_worst', 'concave points_mean'], Nauwkeurigheid: 0.9707602339181286\n",
      "Model met 7 kolommen: ['concave points_worst', 'area_worst', 'smoothness_worst', 'area_mean', 'fractal_dimension_worst', 'concave points_mean', 'area_se'], Nauwkeurigheid: 0.9707602339181286\n",
      "Model met 8 kolommen: ['concave points_worst', 'area_worst', 'smoothness_worst', 'area_mean', 'fractal_dimension_worst', 'concave points_mean', 'area_se', 'compactness_se'], Nauwkeurigheid: 0.9707602339181286\n",
      "Model met 9 kolommen: ['concave points_worst', 'area_worst', 'smoothness_worst', 'area_mean', 'fractal_dimension_worst', 'concave points_mean', 'area_se', 'compactness_se', 'radius_se'], Nauwkeurigheid: 0.9707602339181286\n",
      "Model met 10 kolommen: ['concave points_worst', 'area_worst', 'smoothness_worst', 'area_mean', 'fractal_dimension_worst', 'concave points_mean', 'area_se', 'compactness_se', 'radius_se', 'concave points_se'], Nauwkeurigheid: 0.9707602339181286\n",
      "Model met 11 kolommen: ['concave points_worst', 'area_worst', 'smoothness_worst', 'area_mean', 'fractal_dimension_worst', 'concave points_mean', 'area_se', 'compactness_se', 'radius_se', 'concave points_se', 'symmetry_worst'], Nauwkeurigheid: 0.9766081871345029\n",
      "\n",
      "Uiteindelijk geselecteerde kolommen: ['concave points_worst', 'area_worst', 'smoothness_worst', 'area_mean', 'fractal_dimension_worst', 'concave points_mean', 'area_se', 'compactness_se', 'radius_se', 'concave points_se', 'symmetry_worst'], Nauwkeurigheid: 0.9766081871345029\n"
     ]
    }
   ],
   "source": [
    "# De variable die wij willen voorspellen, dus de diagnose\n",
    "y2 = data[\"diagnosis\"]\n",
    "\n",
    "# Hier wordt een lege lijst aangemaakt om de nauwkeurigheid van de verschillende combinaties te onthouden\n",
    "accuracy_list = []\n",
    "\n",
    "\n",
    "# We beginnn met de hoogst gecorreleerde kolom omdat dit ook de variabele is die we hebben gebruikt voor het model met maar 1 waarde.\n",
    "selected_columns = data.corr()[\"diagnosis\"].sort_values(\n",
    "    ascending=False).index[1:2].tolist()\n",
    "\n",
    "# Print de geselecteerde kolommen om te controleren of ze overeenkomen met je verwachtingen\n",
    "print(\"Selected Columns:\", selected_columns)\n",
    "\n",
    "# Hier wordt de beste combinaties van kolommen en de nauwkeurigheid van deze kolommen bijgehouden.\n",
    "# Deze waarden kunnen later geprint worden zodat dit in een duidelijke conclusie zal komen.\n",
    "best_columns = selected_columns\n",
    "best_accuracy = 0.0\n",
    "\n",
    "# Hier wordt de tolerantie aangemaakt. De tolerantie is hier 0.001, dus wanneer het model minder dan 0.001 beter wordt,\n",
    "# of slechter wordt stopt het model.\n",
    "tolerance = 0.001\n",
    "\n",
    "# Hier wordt een loop gemaakt die doorgaat totdat de nauwkeurigheid niet meer hoger wordt\n",
    "while True:\n",
    "    # Hier wordt de volgende best presterende kolom toegevoegd aan de kolommen die al meegenomen worden.\n",
    "    best_performing_column = None\n",
    "    best_performing_accuracy = 0.0\n",
    "\n",
    "    # Itereer over de kolommen die niet in de geselecteerde kolommen zitten\n",
    "    for column in data.columns.difference([\"diagnosis\"] + selected_columns):\n",
    "        current_columns = selected_columns + [column]\n",
    "        X2 = data[current_columns]\n",
    "\n",
    "        # Hier wordt de data in een train en een test dataset gesplits. De test grote is 30% van de totale dataset.\n",
    "        X2_train, X2_test, y2_train, y2_test = train_test_split(\n",
    "            X2, y2, test_size=0.3, random_state=42)\n",
    "\n",
    "        # hier wordt het model aangemaakt en wordt het getraind.\n",
    "        rf_model = RandomForestClassifier(random_state=42)\n",
    "        rf_model.fit(X2_train, y2_train)\n",
    "\n",
    "        # Hier worden de voorspellingen op de test dataste gedaan\n",
    "        # Met deze voorspellingen kan ook de nauwkeurigheid berekend worden\n",
    "        predictions = rf_model.predict(X2_test)\n",
    "\n",
    "        # Hier wordt de Nauwkeurigheid berekend\n",
    "        # Op basis van deze nauwkeurigheid wordt er gekeken of het aantal variabelen zich verder uitbreid,\n",
    "        # of dat dit de optimale combinatie is van variabelen.\n",
    "        current_accuracy = accuracy_score(y2_test, predictions)\n",
    "\n",
    "        # Hier wordt een if statement gemaakt om te kijken of de kolom beter presteerd dan de vorige kolom.\n",
    "        if current_accuracy > best_performing_accuracy:\n",
    "            best_performing_accuracy = current_accuracy\n",
    "            best_performing_column = column\n",
    "\n",
    "    # Hier wordt berekend of de toevoeging van een nieuwe kolom de nauwkeurigheid heeft verbeterd van het model.\n",
    "    if best_performing_column is not None:\n",
    "        selected_columns.append(best_performing_column)\n",
    "        accuracy_list.append(best_performing_accuracy)\n",
    "        print(\n",
    "            f\"Model met {len(selected_columns)} kolommen: {selected_columns}, Nauwkeurigheid: {best_performing_accuracy}\")\n",
    "\n",
    "        # Hier wordt de beste combinatie van kolommen veranderd als de huidige nauwkeurigheid beter is\n",
    "        if best_performing_accuracy > best_accuracy:\n",
    "            best_accuracy = best_performing_accuracy\n",
    "            best_columns = selected_columns\n",
    "        else:\n",
    "            # Als de nauwkeurigheid minder verbeterd dan wat de tolerantie toelaat wordt de loop verbroken en is dit de beste combinatie van variabelen.\n",
    "            if best_accuracy - best_performing_accuracy < tolerance:\n",
    "                break\n",
    "    else:\n",
    "        # Als er helemaal geen verbetering in de nauwkeurigheid wordt gezien wordt de loop ook verbroken.\n",
    "        break\n",
    "\n",
    "# Hier worden de uiteindelijke resulaten geprint zodat dit gezien kan worden.\n",
    "print(\n",
    "    f\"\\nUiteindelijk geselecteerde kolommen: {best_columns}, Nauwkeurigheid: {best_accuracy}\")"
   ]
  },
  {
   "cell_type": "markdown",
   "metadata": {},
   "source": [
    "##### Wat hier opvalt is dat de nauwkeurigheid met 5 kolommen en met 11 kolommen hetzelfde is, namelijk 0.9766081871345029. De combinatie van kolommen die wij kiezen zijn de 11 kolommen. Dit omdat het model dan betrouwbaarder wordt omdat er meer kolommen worden meegenomen, terwijl het model niet overgefit wordt op deze dataset omdat de totale dataset 30 kolommen bevat. Wat ons ook opvalt is dat de kolommen ook niet op volgorde van correlatie zijn die wij hebben gevonden bij de data verkenning, zie de code hieronder als herinnering. Dit is voor ons een verassing dus hebben wij gekeken of de top 5 variabelen met de hoogste correlatie een betere nauwkeurigheid krijgen dan de 5 die een nauwkeurigheid hebben gekregen van 0.9766081871345029.\n"
   ]
  },
  {
   "cell_type": "code",
   "execution_count": 23,
   "metadata": {},
   "outputs": [
    {
     "data": {
      "text/plain": [
       "diagnosis               1.000000\n",
       "concave points_worst    0.793566\n",
       "perimeter_worst         0.782914\n",
       "concave points_mean     0.776614\n",
       "radius_worst            0.776454\n",
       "perimeter_mean          0.742636\n",
       "area_worst              0.733825\n",
       "radius_mean             0.730029\n",
       "area_mean               0.708984\n",
       "concavity_mean          0.696360\n",
       "Name: diagnosis, dtype: float64"
      ]
     },
     "execution_count": 23,
     "metadata": {},
     "output_type": "execute_result"
    }
   ],
   "source": [
    "data.corr()[\"diagnosis\"].sort_values(ascending=False).head(10)"
   ]
  },
  {
   "cell_type": "code",
   "execution_count": 24,
   "metadata": {},
   "outputs": [
    {
     "name": "stdout",
     "output_type": "stream",
     "text": [
      "Nauwkeurigheid: 0.9532163742690059\n",
      "Classificatierapport:\n",
      "              precision    recall  f1-score   support\n",
      "\n",
      "           0       0.95      0.97      0.96       108\n",
      "           1       0.95      0.92      0.94        63\n",
      "\n",
      "    accuracy                           0.95       171\n",
      "   macro avg       0.95      0.95      0.95       171\n",
      "weighted avg       0.95      0.95      0.95       171\n",
      "\n",
      "Verwarringsmatrix:\n",
      "[[105   3]\n",
      " [  5  58]]\n"
     ]
    }
   ],
   "source": [
    "\n",
    "# Dit zijn de 5 kollommen met de hoogste correlatie tot de diagnose\n",
    "selected_columns = ['concave points_worst', 'perimeter_worst',\n",
    "                    'concave points_mean', 'radius_worst', 'perimeter_mean', 'diagnosis']\n",
    "data_selected = data[selected_columns]\n",
    "\n",
    "# Hier wordt de dataset met de 5 kolommen gesplitst in test en train dataset\n",
    "X3 = data_selected.drop('diagnosis', axis=1)\n",
    "y3 = data_selected['diagnosis']\n",
    "X3_train, X3_test, y3_train, y3_test = train_test_split(\n",
    "    X3, y3, test_size=0.3, random_state=42)\n",
    "\n",
    "# Hier wordt het random forest classifier model geinitieerd en wordt de random state op 42 gezet zodat de uitkomst opnieuw gebruikt kan worden\n",
    "# Daarnaast wordt het model ook getrained\n",
    "clf = RandomForestClassifier(random_state=42)\n",
    "clf.fit(X3_train, y3_train)\n",
    "\n",
    "# Hier wordt de diagnose voorspeld. Aan de hand van deze voorspelling kan er gekeken worden hoe accuraat het model is\n",
    "y3_pred = clf.predict(X3_test)\n",
    "\n",
    "# Hier wordt de nauwkeurigheid berekend, met wat het daadwerkelijk is en wat er voorspeld is.\n",
    "accuracy = accuracy_score(y3_test, y3_pred)\n",
    "print(f'Nauwkeurigheid: {accuracy}')\n",
    "\n",
    "# In het classificatie rapport kan de kwaliteit van het omdel beter bekeken worden doormiddel van de precicie recall en de f1-score.\n",
    "print('Classificatierapport:')\n",
    "print(classification_report(y3_test, y3_pred))\n",
    "\n",
    "# In de verwarringsmatrix kan gezien worden waar de fouten en goede voorspellingen zitten. dus waar het goedaardig voorspeld is maar waar het kwaadaardig is.\n",
    "# Waar het goedaardig voorspeld is en waar het goedaardig is.\n",
    "print('Verwarringsmatrix:')\n",
    "print(confusion_matrix(y3_test, y3_pred))"
   ]
  },
  {
   "cell_type": "markdown",
   "metadata": {},
   "source": [
    "##### De combinatie van deze 5 kolommen geeft dus een nauwkeurigheid van 0.9532163742690059. Dit is lager dat de combinatie van 5 kolommen die wij hiervoor hebben gevonden.\n",
    "\n",
    "##### De kolommen waarmee het model uiteindelijk het beste werkt zijn dus: 'concave points_worst', 'area_worst', 'smoothness_worst', 'area_mean', 'fractal_dimension_worst', 'concave points_mean', 'area_se', 'compactness_se', 'radius_se', 'concave points_se', 'symmetry_worst'. Deze kolommen geven dus een nauwkeurigheid van 0.9766081871345029.\n"
   ]
  },
  {
   "cell_type": "markdown",
   "metadata": {},
   "source": []
  },
  {
   "cell_type": "markdown",
   "metadata": {},
   "source": [
    "# Regression\n",
    "\n",
    "## Laden data\n"
   ]
  },
  {
   "cell_type": "code",
   "execution_count": 25,
   "metadata": {},
   "outputs": [
    {
     "data": {
      "text/html": [
       "<div>\n",
       "<style scoped>\n",
       "    .dataframe tbody tr th:only-of-type {\n",
       "        vertical-align: middle;\n",
       "    }\n",
       "\n",
       "    .dataframe tbody tr th {\n",
       "        vertical-align: top;\n",
       "    }\n",
       "\n",
       "    .dataframe thead th {\n",
       "        text-align: right;\n",
       "    }\n",
       "</style>\n",
       "<table border=\"1\" class=\"dataframe\">\n",
       "  <thead>\n",
       "    <tr style=\"text-align: right;\">\n",
       "      <th></th>\n",
       "      <th>SalePrice</th>\n",
       "      <th>GrLivArea</th>\n",
       "    </tr>\n",
       "  </thead>\n",
       "  <tbody>\n",
       "    <tr>\n",
       "      <th>0</th>\n",
       "      <td>208500</td>\n",
       "      <td>1710</td>\n",
       "    </tr>\n",
       "    <tr>\n",
       "      <th>1</th>\n",
       "      <td>181500</td>\n",
       "      <td>1262</td>\n",
       "    </tr>\n",
       "    <tr>\n",
       "      <th>2</th>\n",
       "      <td>223500</td>\n",
       "      <td>1786</td>\n",
       "    </tr>\n",
       "    <tr>\n",
       "      <th>3</th>\n",
       "      <td>140000</td>\n",
       "      <td>1717</td>\n",
       "    </tr>\n",
       "    <tr>\n",
       "      <th>4</th>\n",
       "      <td>250000</td>\n",
       "      <td>2198</td>\n",
       "    </tr>\n",
       "  </tbody>\n",
       "</table>\n",
       "</div>"
      ],
      "text/plain": [
       "   SalePrice  GrLivArea\n",
       "0     208500       1710\n",
       "1     181500       1262\n",
       "2     223500       1786\n",
       "3     140000       1717\n",
       "4     250000       2198"
      ]
     },
     "execution_count": 25,
     "metadata": {},
     "output_type": "execute_result"
    }
   ],
   "source": [
    "import pandas as pd\n",
    "\n",
    "df = pd.read_csv('./data/regression/train.csv')\n",
    "df[['SalePrice', 'GrLivArea']].head()"
   ]
  },
  {
   "cell_type": "markdown",
   "metadata": {},
   "source": [
    "## Verkennende analyse\n"
   ]
  },
  {
   "cell_type": "code",
   "execution_count": 26,
   "metadata": {},
   "outputs": [
    {
     "data": {
      "application/vnd.plotly.v1+json": {
       "config": {
        "plotlyServerURL": "https://plot.ly"
       },
       "data": [
        {
         "coloraxis": "coloraxis",
         "hovertemplate": "x: %{x}<br>y: %{y}<br>color: %{z}<extra></extra>",
         "name": "0",
         "type": "heatmap",
         "x": [
          "Id",
          "MSSubClass",
          "LotFrontage",
          "LotArea",
          "OverallQual",
          "OverallCond",
          "YearBuilt",
          "YearRemodAdd",
          "MasVnrArea",
          "BsmtFinSF1",
          "BsmtFinSF2",
          "BsmtUnfSF",
          "TotalBsmtSF",
          "1stFlrSF",
          "2ndFlrSF",
          "LowQualFinSF",
          "GrLivArea",
          "BsmtFullBath",
          "BsmtHalfBath",
          "FullBath",
          "HalfBath",
          "BedroomAbvGr",
          "KitchenAbvGr",
          "TotRmsAbvGrd",
          "Fireplaces",
          "GarageYrBlt",
          "GarageCars",
          "GarageArea",
          "WoodDeckSF",
          "OpenPorchSF",
          "EnclosedPorch",
          "3SsnPorch",
          "ScreenPorch",
          "PoolArea",
          "MiscVal",
          "MoSold",
          "YrSold",
          "SalePrice"
         ],
         "xaxis": "x",
         "y": [
          "Id",
          "MSSubClass",
          "LotFrontage",
          "LotArea",
          "OverallQual",
          "OverallCond",
          "YearBuilt",
          "YearRemodAdd",
          "MasVnrArea",
          "BsmtFinSF1",
          "BsmtFinSF2",
          "BsmtUnfSF",
          "TotalBsmtSF",
          "1stFlrSF",
          "2ndFlrSF",
          "LowQualFinSF",
          "GrLivArea",
          "BsmtFullBath",
          "BsmtHalfBath",
          "FullBath",
          "HalfBath",
          "BedroomAbvGr",
          "KitchenAbvGr",
          "TotRmsAbvGrd",
          "Fireplaces",
          "GarageYrBlt",
          "GarageCars",
          "GarageArea",
          "WoodDeckSF",
          "OpenPorchSF",
          "EnclosedPorch",
          "3SsnPorch",
          "ScreenPorch",
          "PoolArea",
          "MiscVal",
          "MoSold",
          "YrSold",
          "SalePrice"
         ],
         "yaxis": "y",
         "z": [
          [
           1,
           0.01115647820138266,
           -0.010600688552398043,
           -0.03322551858568492,
           -0.028364753937534147,
           0.012608924775955575,
           -0.012712715387864951,
           -0.021997641857531825,
           -0.050297795171704615,
           -0.0050240490416607175,
           -0.005967671960281643,
           -0.007939703357717539,
           -0.0154145661079109,
           0.010496040954084946,
           0.005589848886159626,
           -0.044229958086591345,
           0.008272757661808138,
           0.002288555600834358,
           -0.02015474521553416,
           0.0055874529073555,
           0.0067838112842973225,
           0.03771855422321228,
           0.0029512363577296613,
           0.02723872440945831,
           -0.019771632442393293,
           0.00007239023604314056,
           0.016569677112146127,
           0.017633778453767103,
           -0.029643197156402474,
           -0.0004769113247911827,
           0.002889217865750164,
           -0.046634788867427585,
           0.0013302086301727988,
           0.057043904789252316,
           -0.006242404848302426,
           0.021172176550393457,
           0.0007117940172075226,
           -0.021916719443430967
          ],
          [
           0.01115647820138266,
           1,
           -0.3863468853449291,
           -0.13978108172014597,
           0.032627707521842034,
           -0.059315817084104695,
           0.027850136946705798,
           0.04058104478406425,
           0.022936285894197328,
           -0.06983574916710049,
           -0.06564857918852389,
           -0.14075948083501172,
           -0.23851840931511895,
           -0.25175835187837925,
           0.30788572075985926,
           0.046473755899517154,
           0.0748531796577994,
           0.003491025779044692,
           -0.0023325345518022773,
           0.13160822241028108,
           0.17735438864391687,
           -0.02343802846062706,
           0.2817210402648814,
           0.04038006478367613,
           -0.04556934027456939,
           0.08507186950664718,
           -0.040109793135783604,
           -0.09867154319256435,
           -0.012579358249219592,
           -0.006100121231942238,
           -0.012036621902094771,
           -0.04382454917560846,
           -0.026030176699806666,
           0.008282707579624416,
           -0.007683291329865976,
           -0.013584643238322348,
           -0.02140703785109821,
           -0.08428413512659509
          ],
          [
           -0.010600688552398043,
           -0.3863468853449291,
           1,
           0.4260950187718081,
           0.2516457754806124,
           -0.059213450005246894,
           0.12334946703331619,
           0.08886557249206646,
           0.19345806055826867,
           0.233633167019755,
           0.0498996766909894,
           0.13264374162493364,
           0.3920745763791721,
           0.45718100199465517,
           0.08017727062420475,
           0.038468534328959476,
           0.40279741408531955,
           0.10094856694926875,
           -0.007234304524918128,
           0.19876867789737823,
           0.05353185497960593,
           0.263169915881059,
           -0.0060688301613090875,
           0.3520959476602243,
           0.26663948256030306,
           0.0702497819166165,
           0.2856909246851005,
           0.3449967241064819,
           0.0885209332894081,
           0.15197222768060642,
           0.01070033663888244,
           0.07002922773085365,
           0.04138279067500582,
           0.2061667752760768,
           0.003367556596191435,
           0.011199954759134238,
           0.007449589209750463,
           0.35179909657067737
          ],
          [
           -0.03322551858568492,
           -0.13978108172014597,
           0.4260950187718081,
           1,
           0.10580574175496422,
           -0.005636270274099278,
           0.014227651757025093,
           0.013788427078155424,
           0.10415982154021264,
           0.21410313070557713,
           0.11116974549624871,
           -0.00261835995009543,
           0.2608331345451572,
           0.29947457850776266,
           0.05098594829349377,
           0.004778969866349555,
           0.26311616716714803,
           0.15815453106001476,
           0.04804557088829686,
           0.1260306265196436,
           0.014259468566431947,
           0.11968990815131542,
           -0.017783870504841995,
           0.190014777625409,
           0.2713640096245418,
           -0.02494741866564254,
           0.15487073975354076,
           0.1804027551511169,
           0.17169768725711246,
           0.08477380884021642,
           -0.018339733672212328,
           0.020422829586133416,
           0.04316037769525204,
           0.07767239188017444,
           0.03806769201918336,
           0.0012049882225877268,
           -0.01426140729855021,
           0.2638433538714051
          ],
          [
           -0.028364753937534147,
           0.032627707521842034,
           0.2516457754806124,
           0.10580574175496422,
           1,
           -0.09193234263907182,
           0.5723227689623621,
           0.5506839241941717,
           0.4118756672776833,
           0.23966596617889105,
           -0.05911869267068986,
           0.30815892690564284,
           0.5378084986123907,
           0.4762238290781779,
           0.29549287919970985,
           -0.030429283979605037,
           0.5930074300286512,
           0.11109778614230235,
           -0.04015015766998829,
           0.5505997093682543,
           0.2734580986427702,
           0.1016763562417855,
           -0.18388223454922156,
           0.42745234327798975,
           0.39676503795208906,
           0.5477658448351629,
           0.6006707165907149,
           0.5620217566126083,
           0.23892339224918593,
           0.3088188233594523,
           -0.11393685859568162,
           0.03037056713526452,
           0.06488636049351544,
           0.06516584360589199,
           -0.031406210500746504,
           0.07081517178517327,
           -0.027346708327825386,
           0.7909816005838053
          ],
          [
           0.012608924775955575,
           -0.059315817084104695,
           -0.059213450005246894,
           -0.005636270274099278,
           -0.09193234263907182,
           1,
           -0.37598319560698945,
           0.07374149814528905,
           -0.1281011991656896,
           -0.04623085591822496,
           0.040229169899767575,
           -0.13684056989352233,
           -0.1710975146249218,
           -0.1442027840490591,
           0.028942115965816882,
           0.025494319914213383,
           -0.07968586538833815,
           -0.05494151543295185,
           0.11782091508139253,
           -0.1941494887493024,
           -0.06076932676159483,
           0.012980060094550628,
           -0.08700085543638039,
           -0.057583166112865375,
           -0.02381997776166212,
           -0.32429673252939795,
           -0.18575751057836357,
           -0.15152137057022985,
           -0.0033336992893856225,
           -0.03258881352158505,
           0.07035618448230374,
           0.025503660024132138,
           0.05481052878611526,
           -0.0019849422681841354,
           0.0687768060572499,
           -0.003510838599939743,
           0.043949745692488544,
           -0.07785589404867797
          ],
          [
           -0.012712715387864951,
           0.027850136946705798,
           0.12334946703331619,
           0.014227651757025093,
           0.5723227689623621,
           -0.37598319560698945,
           1,
           0.5928549763436519,
           0.3157070624361963,
           0.24950319668479728,
           -0.049106831196239174,
           0.14904039195440058,
           0.3914520020660952,
           0.2819858586998021,
           0.010307659584364078,
           -0.18378434437372046,
           0.19900971367645826,
           0.1875985499971434,
           -0.03816180567123349,
           0.4682707871726737,
           0.2426559102410641,
           -0.07065121690473103,
           -0.17480024561497706,
           0.09558912829795185,
           0.14771639941245646,
           0.8256674841743408,
           0.5378500917111052,
           0.4789538198934904,
           0.22488014230399744,
           0.188685840001731,
           -0.3872677829280785,
           0.03135451306436603,
           -0.05036443453861205,
           0.004949727615942999,
           -0.03438313873672287,
           0.012398470595440986,
           -0.01361768000183213,
           0.5228973328794967
          ],
          [
           -0.021997641857531825,
           0.04058104478406425,
           0.08886557249206646,
           0.013788427078155424,
           0.5506839241941717,
           0.07374149814528905,
           0.5928549763436519,
           1,
           0.17961837073552223,
           0.12845054712828866,
           -0.06775851356598699,
           0.18113308705016903,
           0.2910655826041661,
           0.24037926760355463,
           0.14002377880486447,
           -0.06241910007833181,
           0.2873885196503327,
           0.11946987911123993,
           -0.012337032127797673,
           0.4390464838723479,
           0.1833306117185349,
           -0.040580928067749454,
           -0.14959752104274646,
           0.1917398162928069,
           0.11258131843947561,
           0.6422767797035356,
           0.42062215494321714,
           0.3715998094973092,
           0.20572592049010355,
           0.22629763268298944,
           -0.1939191470992078,
           0.045285809814976964,
           -0.038740010742610125,
           0.005829372037106204,
           -0.010286248783081431,
           0.02149000222687611,
           0.03574324712127364,
           0.5071009671113866
          ],
          [
           -0.050297795171704615,
           0.022936285894197328,
           0.19345806055826867,
           0.10415982154021264,
           0.4118756672776833,
           -0.1281011991656896,
           0.3157070624361963,
           0.17961837073552223,
           1,
           0.2647362647138685,
           -0.0723188482033582,
           0.11444206231380821,
           0.3639362217744723,
           0.3445007468899248,
           0.1745614734574279,
           -0.06907085606589286,
           0.39085663973843854,
           0.08530982868972814,
           0.026672828155103145,
           0.27683284723698837,
           0.20144394692967832,
           0.10282115127801787,
           -0.03761025181986861,
           0.2806816946085068,
           0.24906961283714313,
           0.2526907749903342,
           0.3642036400698656,
           0.37306648160023664,
           0.15971813436595433,
           0.1257027966825031,
           -0.11020383387243517,
           0.018795515294914033,
           0.06146554318732188,
           0.01172306121326672,
           -0.02981539358527878,
           -0.005964715509114298,
           -0.008201030967080006,
           0.47749304709571444
          ],
          [
           -0.0050240490416607175,
           -0.06983574916710049,
           0.233633167019755,
           0.21410313070557713,
           0.23966596617889105,
           -0.04623085591822496,
           0.24950319668479728,
           0.12845054712828866,
           0.2647362647138685,
           1,
           -0.0501174000471511,
           -0.49525146925701125,
           0.5223960519923867,
           0.4458626560920054,
           -0.13707898608005356,
           -0.06450259692146844,
           0.20817113014532704,
           0.6492117535742649,
           0.06741847791011696,
           0.058543136861595194,
           0.004262424384486936,
           -0.10735467682307034,
           -0.08100685077857439,
           0.044315623912920654,
           0.2600109202350403,
           0.1534840980267781,
           0.22405352239399068,
           0.2969703853445138,
           0.20430614523740265,
           0.11176061335675101,
           -0.10230330550073197,
           0.026450506189898953,
           0.06202062266534991,
           0.1404912862549568,
           0.003571473474954695,
           -0.015726948262154667,
           0.014358922393909302,
           0.3864198062421535
          ],
          [
           -0.005967671960281643,
           -0.06564857918852389,
           0.0498996766909894,
           0.11116974549624871,
           -0.05911869267068986,
           0.040229169899767575,
           -0.049106831196239174,
           -0.06775851356598699,
           -0.0723188482033582,
           -0.0501174000471511,
           1,
           -0.20929449241994497,
           0.10480953760636813,
           0.0971174484566702,
           -0.09926031602264425,
           0.01480699794683367,
           -0.009639891551805443,
           0.15867806078170135,
           0.07094813365590413,
           -0.07644386196518269,
           -0.032147837468965886,
           -0.015728113626581035,
           -0.04075123644840764,
           -0.03522654794752336,
           0.04692070882601213,
           -0.08801081541220088,
           -0.038263512869251545,
           -0.018226591907316552,
           0.06789832641361218,
           0.003092562209894399,
           0.036543339448210164,
           -0.029993397993921023,
           0.08887125137339073,
           0.041709054681333575,
           0.004939781228437705,
           -0.015210737972006668,
           0.03170563698487945,
           -0.011378121450215146
          ],
          [
           -0.007939703357717539,
           -0.14075948083501172,
           0.13264374162493364,
           -0.00261835995009543,
           0.30815892690564284,
           -0.13684056989352233,
           0.14904039195440058,
           0.18113308705016903,
           0.11444206231380821,
           -0.49525146925701125,
           -0.20929449241994497,
           1,
           0.4153596051815893,
           0.3179874383527259,
           0.004469092144542392,
           0.028166688132741206,
           0.240257268349935,
           -0.42290047738321335,
           -0.09580428815248283,
           0.2888860554869108,
           -0.04111753014455172,
           0.16664331698696289,
           0.030085868314000126,
           0.25064706137624926,
           0.0515748822895418,
           0.19070827345893257,
           0.2141751897502169,
           0.18330269774258412,
           -0.005316424333062066,
           0.12900541461542128,
           -0.002537854589751547,
           0.02076400569654798,
           -0.012579273444256824,
           -0.035092240793657914,
           -0.023836645134507763,
           0.03488844300908206,
           -0.04125819493876721,
           0.21447910554696928
          ],
          [
           -0.0154145661079109,
           -0.23851840931511895,
           0.3920745763791721,
           0.2608331345451572,
           0.5378084986123907,
           -0.1710975146249218,
           0.3914520020660952,
           0.2910655826041661,
           0.3639362217744723,
           0.5223960519923867,
           0.10480953760636813,
           0.4153596051815893,
           1,
           0.8195299750050339,
           -0.17451195013496046,
           -0.0332453873474563,
           0.45486820254790317,
           0.30735055373550346,
           -0.00031458181983374725,
           0.3237224136066502,
           -0.04880373863521248,
           0.05044995551267818,
           -0.06890064264201659,
           0.28557256372579454,
           0.33951932389865597,
           0.3224451736794739,
           0.43458483429168865,
           0.4866654637737961,
           0.23201860912901803,
           0.2472637462881078,
           -0.09547773670640776,
           0.03738372726300508,
           0.08448898591431157,
           0.12605313210083768,
           -0.018478922431472124,
           0.013196178616778433,
           -0.014968648018762356,
           0.6135805515591943
          ],
          [
           0.010496040954084946,
           -0.25175835187837925,
           0.45718100199465517,
           0.29947457850776266,
           0.4762238290781779,
           -0.1442027840490591,
           0.2819858586998021,
           0.24037926760355463,
           0.3445007468899248,
           0.4458626560920054,
           0.0971174484566702,
           0.3179874383527259,
           0.8195299750050339,
           1,
           -0.20264618100232087,
           -0.014240672666431285,
           0.5660239689357486,
           0.24467110424771052,
           0.001955653582048656,
           0.3806374949735071,
           -0.11991590879396136,
           0.12740074939236454,
           0.06810058817691335,
           0.40951597886683183,
           0.41053108465984556,
           0.23344909271486267,
           0.4393168079906709,
           0.4897816541041918,
           0.23545862278369778,
           0.2116712254979847,
           -0.0652917009103091,
           0.05610437448487508,
           0.08875807262015682,
           0.13152497564028254,
           -0.021095719463122223,
           0.03137156035207926,
           -0.01360377050464661,
           0.6058521846919153
          ],
          [
           0.005589848886159626,
           0.30788572075985926,
           0.08017727062420475,
           0.05098594829349377,
           0.29549287919970985,
           0.028942115965816882,
           0.010307659584364078,
           0.14002377880486447,
           0.1745614734574279,
           -0.13707898608005356,
           -0.09926031602264425,
           0.004469092144542392,
           -0.17451195013496046,
           -0.20264618100232087,
           1,
           0.06335295010932271,
           0.6875010641666033,
           -0.16949395173099896,
           -0.023854783937045255,
           0.4213779828759713,
           0.6097073002717436,
           0.5029006133459056,
           0.05930575264821624,
           0.6164226354915431,
           0.19456089224132392,
           0.0708323397173792,
           0.18392558307638002,
           0.13834695857186657,
           0.09216541758603868,
           0.2080260631813579,
           0.06198869077325203,
           -0.02435764842204794,
           0.040606447641001006,
           0.08148687804909954,
           0.016196874604388505,
           0.035164427361791005,
           -0.02869991393529755,
           0.31933380283206736
          ],
          [
           -0.044229958086591345,
           0.046473755899517154,
           0.038468534328959476,
           0.004778969866349555,
           -0.030429283979605037,
           0.025494319914213383,
           -0.18378434437372046,
           -0.06241910007833181,
           -0.06907085606589286,
           -0.06450259692146844,
           0.01480699794683367,
           0.028166688132741206,
           -0.0332453873474563,
           -0.014240672666431285,
           0.06335295010932271,
           1,
           0.13468281300660076,
           -0.047143421898259166,
           -0.005841504819311643,
           -0.0007095096206731084,
           -0.02708004931716945,
           0.10560656854090526,
           0.007521744344233734,
           0.13118477598954745,
           -0.02127214341393874,
           -0.03636323404234127,
           -0.09447952015593257,
           -0.06760141323952208,
           -0.025443647988791077,
           0.018251039053999052,
           0.06108123777122687,
           -0.004295610410300094,
           0.02679941302177244,
           0.06215737226918922,
           -0.003792870779996453,
           -0.02217396057953783,
           -0.028920879782296086,
           -0.02560613000067955
          ],
          [
           0.008272757661808138,
           0.0748531796577994,
           0.40279741408531955,
           0.26311616716714803,
           0.5930074300286512,
           -0.07968586538833815,
           0.19900971367645826,
           0.2873885196503327,
           0.39085663973843854,
           0.20817113014532704,
           -0.009639891551805443,
           0.240257268349935,
           0.45486820254790317,
           0.5660239689357486,
           0.6875010641666033,
           0.13468281300660076,
           1,
           0.03483604954490554,
           -0.0189184831706347,
           0.6300116462511148,
           0.4157716361052652,
           0.5212695109189948,
           0.10006316473775474,
           0.8254893743088425,
           0.46167913376144704,
           0.23119674063336224,
           0.4672474187951873,
           0.4689974773229655,
           0.24743282051884846,
           0.33022396171200064,
           0.009113210326003087,
           0.020643189710186576,
           0.10151039568208567,
           0.1702053360005616,
           -0.0024156395502935623,
           0.05023968081827284,
           -0.03652581962473121,
           0.7086244776126515
          ],
          [
           0.002288555600834358,
           0.003491025779044692,
           0.10094856694926875,
           0.15815453106001476,
           0.11109778614230235,
           -0.05494151543295185,
           0.1875985499971434,
           0.11946987911123993,
           0.08530982868972814,
           0.6492117535742649,
           0.15867806078170135,
           -0.42290047738321335,
           0.30735055373550346,
           0.24467110424771052,
           -0.16949395173099896,
           -0.047143421898259166,
           0.03483604954490554,
           1,
           -0.14787096054760138,
           -0.06451204863131507,
           -0.030904959142533293,
           -0.15067280920795623,
           -0.041502546431482885,
           -0.0532752361233972,
           0.1379277084271981,
           0.12455252442364974,
           0.13188122440619438,
           0.179189480420231,
           0.17531519007972224,
           0.06734146137698176,
           -0.049910649083753186,
           -0.00010609153998400853,
           0.023147725763573802,
           0.06761555618047507,
           -0.02304702486861695,
           -0.025360894315259907,
           0.06704913767140361,
           0.22712223313149427
          ],
          [
           -0.02015474521553416,
           -0.0023325345518022773,
           -0.007234304524918128,
           0.04804557088829686,
           -0.04015015766998829,
           0.11782091508139253,
           -0.03816180567123349,
           -0.012337032127797673,
           0.026672828155103145,
           0.06741847791011696,
           0.07094813365590413,
           -0.09580428815248283,
           -0.00031458181983374725,
           0.001955653582048656,
           -0.023854783937045255,
           -0.005841504819311643,
           -0.0189184831706347,
           -0.14787096054760138,
           1,
           -0.054535811983635524,
           -0.012339900052275487,
           0.046518848389950684,
           -0.03794435022720086,
           -0.023836341262220544,
           0.028975586646259963,
           -0.07746361238070294,
           -0.02089105899687853,
           -0.02453557957887923,
           0.04016122325953452,
           -0.02532375788905772,
           -0.008555333868578032,
           0.035113630886772336,
           0.03212140720908338,
           0.02002462983851695,
           -0.007366524543625446,
           0.03287270523409066,
           -0.04652388177400862,
           -0.01684415429735895
          ],
          [
           0.0055874529073555,
           0.13160822241028108,
           0.19876867789737823,
           0.1260306265196436,
           0.5505997093682543,
           -0.1941494887493024,
           0.4682707871726737,
           0.4390464838723479,
           0.27683284723698837,
           0.058543136861595194,
           -0.07644386196518269,
           0.2888860554869108,
           0.3237224136066502,
           0.3806374949735071,
           0.4213779828759713,
           -0.0007095096206731084,
           0.6300116462511148,
           -0.06451204863131507,
           -0.054535811983635524,
           1,
           0.13638058874914522,
           0.36325198302327694,
           0.1331152141960393,
           0.5547842535334836,
           0.2436705030799116,
           0.4845573867195222,
           0.469672043267628,
           0.4056562084540099,
           0.18770321383582822,
           0.25997742546824865,
           -0.11509296346134239,
           0.03535301658385297,
           -0.00810609332811188,
           0.04960382558403366,
           -0.014289844970848111,
           0.055872128991723384,
           -0.019668840691520386,
           0.5606637627484453
          ],
          [
           0.0067838112842973225,
           0.17735438864391687,
           0.05353185497960593,
           0.014259468566431947,
           0.2734580986427702,
           -0.06076932676159483,
           0.2426559102410641,
           0.1833306117185349,
           0.20144394692967832,
           0.004262424384486936,
           -0.032147837468965886,
           -0.04111753014455172,
           -0.04880373863521248,
           -0.11991590879396136,
           0.6097073002717436,
           -0.02708004931716945,
           0.4157716361052652,
           -0.030904959142533293,
           -0.012339900052275487,
           0.13638058874914522,
           1,
           0.22665148415094508,
           -0.06826254889694101,
           0.3434148575409178,
           0.20364850809521917,
           0.19678517580586272,
           0.21917815216716094,
           0.1635493640166073,
           0.10808030267536337,
           0.19974014751279254,
           -0.09531652573608992,
           -0.0049724884173161,
           0.0724258451703809,
           0.0223814980554099,
           0.0012901448492839542,
           -0.009049888212650292,
           -0.010268668868105917,
           0.28410767559478256
          ],
          [
           0.03771855422321228,
           -0.02343802846062706,
           0.263169915881059,
           0.11968990815131542,
           0.1016763562417855,
           0.012980060094550628,
           -0.07065121690473103,
           -0.040580928067749454,
           0.10282115127801787,
           -0.10735467682307034,
           -0.015728113626581035,
           0.16664331698696289,
           0.05044995551267818,
           0.12740074939236454,
           0.5029006133459056,
           0.10560656854090526,
           0.5212695109189948,
           -0.15067280920795623,
           0.046518848389950684,
           0.36325198302327694,
           0.22665148415094508,
           1,
           0.1985967577071338,
           0.676619935742649,
           0.10756968099132388,
           -0.06451843698438452,
           0.08610643768835287,
           0.06525252989881626,
           0.04685377306989394,
           0.09380957160591452,
           0.04157043451959824,
           -0.02447779636611455,
           0.044299691127134826,
           0.07070258356547471,
           0.007766971998717607,
           0.04654385993628238,
           -0.03601389283370446,
           0.16821315430073963
          ],
          [
           0.0029512363577296613,
           0.2817210402648814,
           -0.0060688301613090875,
           -0.017783870504841995,
           -0.18388223454922156,
           -0.08700085543638039,
           -0.17480024561497706,
           -0.14959752104274646,
           -0.03761025181986861,
           -0.08100685077857439,
           -0.04075123644840764,
           0.030085868314000126,
           -0.06890064264201659,
           0.06810058817691335,
           0.05930575264821624,
           0.007521744344233734,
           0.10006316473775474,
           -0.041502546431482885,
           -0.03794435022720086,
           0.1331152141960393,
           -0.06826254889694101,
           0.1985967577071338,
           1,
           0.2560454085359489,
           -0.12393623529689729,
           -0.12441140157001684,
           -0.05063389240221729,
           -0.06443304718314395,
           -0.09013027267903444,
           -0.07009060989258609,
           0.03731238503296963,
           -0.024600358690531954,
           -0.05161336606147979,
           -0.014525116015980777,
           0.062340724004379115,
           0.026588907230915452,
           0.031687206500669154,
           -0.13590737084214105
          ],
          [
           0.02723872440945831,
           0.04038006478367613,
           0.3520959476602243,
           0.190014777625409,
           0.42745234327798975,
           -0.057583166112865375,
           0.09558912829795185,
           0.1917398162928069,
           0.2806816946085068,
           0.044315623912920654,
           -0.03522654794752336,
           0.25064706137624926,
           0.28557256372579454,
           0.40951597886683183,
           0.6164226354915431,
           0.13118477598954745,
           0.8254893743088425,
           -0.0532752361233972,
           -0.023836341262220544,
           0.5547842535334836,
           0.3434148575409178,
           0.676619935742649,
           0.2560454085359489,
           1,
           0.3261144801772001,
           0.1481117155859651,
           0.3622885708147746,
           0.33782212063683786,
           0.16598388371493233,
           0.2341915878315988,
           0.004151299023856323,
           -0.006683241010939702,
           0.059382599559410935,
           0.0837573495149245,
           0.024762884163584138,
           0.036907077159844405,
           -0.03451635430218269,
           0.5337231555820284
          ],
          [
           -0.019771632442393293,
           -0.04556934027456939,
           0.26663948256030306,
           0.2713640096245418,
           0.39676503795208906,
           -0.02381997776166212,
           0.14771639941245646,
           0.11258131843947561,
           0.24906961283714313,
           0.2600109202350403,
           0.04692070882601213,
           0.0515748822895418,
           0.33951932389865597,
           0.41053108465984556,
           0.19456089224132392,
           -0.02127214341393874,
           0.46167913376144704,
           0.1379277084271981,
           0.028975586646259963,
           0.2436705030799116,
           0.20364850809521917,
           0.10756968099132388,
           -0.12393623529689729,
           0.3261144801772001,
           1,
           0.04682164840190421,
           0.3007887663013562,
           0.2691412380738719,
           0.20001879575902368,
           0.16940532713120185,
           -0.02482186853706847,
           0.011257238992774959,
           0.18453026951684842,
           0.09507352203619863,
           0.0014086054430451757,
           0.04635710249771968,
           -0.024095564980725313,
           0.46692883675152763
          ],
          [
           0.00007239023604314056,
           0.08507186950664718,
           0.0702497819166165,
           -0.02494741866564254,
           0.5477658448351629,
           -0.32429673252939795,
           0.8256674841743408,
           0.6422767797035356,
           0.2526907749903342,
           0.1534840980267781,
           -0.08801081541220088,
           0.19070827345893257,
           0.3224451736794739,
           0.23344909271486267,
           0.0708323397173792,
           -0.03636323404234127,
           0.23119674063336224,
           0.12455252442364974,
           -0.07746361238070294,
           0.4845573867195222,
           0.19678517580586272,
           -0.06451843698438452,
           -0.12441140157001684,
           0.1481117155859651,
           0.04682164840190421,
           1,
           0.5889200070047002,
           0.5645670607230577,
           0.22457699198793213,
           0.22842457877198022,
           -0.2970026030557314,
           0.023543689573665077,
           -0.07541751376190593,
           -0.01450067856370222,
           -0.032417457821261826,
           0.0053370257603695135,
           -0.0010142778712734348,
           0.4863616774878596
          ],
          [
           0.016569677112146127,
           -0.040109793135783604,
           0.2856909246851005,
           0.15487073975354076,
           0.6006707165907149,
           -0.18575751057836357,
           0.5378500917111052,
           0.42062215494321714,
           0.3642036400698656,
           0.22405352239399068,
           -0.038263512869251545,
           0.2141751897502169,
           0.43458483429168865,
           0.4393168079906709,
           0.18392558307638002,
           -0.09447952015593257,
           0.4672474187951873,
           0.13188122440619438,
           -0.02089105899687853,
           0.469672043267628,
           0.21917815216716094,
           0.08610643768835287,
           -0.05063389240221729,
           0.3622885708147746,
           0.3007887663013562,
           0.5889200070047002,
           1,
           0.882475414281462,
           0.2263421384698597,
           0.21356944558969115,
           -0.15143416002683724,
           0.035765285146453774,
           0.05049379192719834,
           0.020933531041465454,
           -0.04308012810223063,
           0.040521730128251755,
           -0.039116904112831495,
           0.6404091972583519
          ],
          [
           0.017633778453767103,
           -0.09867154319256435,
           0.3449967241064819,
           0.1804027551511169,
           0.5620217566126083,
           -0.15152137057022985,
           0.4789538198934904,
           0.3715998094973092,
           0.37306648160023664,
           0.2969703853445138,
           -0.018226591907316552,
           0.18330269774258412,
           0.4866654637737961,
           0.4897816541041918,
           0.13834695857186657,
           -0.06760141323952208,
           0.4689974773229655,
           0.179189480420231,
           -0.02453557957887923,
           0.4056562084540099,
           0.1635493640166073,
           0.06525252989881626,
           -0.06443304718314395,
           0.33782212063683786,
           0.2691412380738719,
           0.5645670607230577,
           0.882475414281462,
           1,
           0.2246663071787637,
           0.2414346721380881,
           -0.1217767195610043,
           0.03508670020815975,
           0.05141176244520852,
           0.061047271702060014,
           -0.02739991441262488,
           0.02797379982354057,
           -0.027377940418545084,
           0.6234314389183622
          ],
          [
           -0.029643197156402474,
           -0.012579358249219592,
           0.0885209332894081,
           0.17169768725711246,
           0.23892339224918593,
           -0.0033336992893856225,
           0.22488014230399744,
           0.20572592049010355,
           0.15971813436595433,
           0.20430614523740265,
           0.06789832641361218,
           -0.005316424333062066,
           0.23201860912901803,
           0.23545862278369778,
           0.09216541758603868,
           -0.025443647988791077,
           0.24743282051884846,
           0.17531519007972224,
           0.04016122325953452,
           0.18770321383582822,
           0.10808030267536337,
           0.04685377306989394,
           -0.09013027267903444,
           0.16598388371493233,
           0.20001879575902368,
           0.22457699198793213,
           0.2263421384698597,
           0.2246663071787637,
           1,
           0.058660608565887375,
           -0.1259888880376007,
           -0.03277063359357436,
           -0.07418135123983237,
           0.07337820695645396,
           -0.009551228238372468,
           0.021011044294297315,
           0.022270451009253036,
           0.32441344456812926
          ],
          [
           -0.0004769113247911827,
           -0.006100121231942238,
           0.15197222768060642,
           0.08477380884021642,
           0.3088188233594523,
           -0.03258881352158505,
           0.188685840001731,
           0.22629763268298944,
           0.1257027966825031,
           0.11176061335675101,
           0.003092562209894399,
           0.12900541461542128,
           0.2472637462881078,
           0.2116712254979847,
           0.2080260631813579,
           0.018251039053999052,
           0.33022396171200064,
           0.06734146137698176,
           -0.02532375788905772,
           0.25997742546824865,
           0.19974014751279254,
           0.09380957160591452,
           -0.07009060989258609,
           0.2341915878315988,
           0.16940532713120185,
           0.22842457877198022,
           0.21356944558969115,
           0.2414346721380881,
           0.058660608565887375,
           1,
           -0.09307931750864903,
           -0.005842499340135753,
           0.07430394385024312,
           0.060762111489925795,
           -0.018583738987649336,
           0.07125488475868938,
           -0.057619360142091326,
           0.31585622711605504
          ],
          [
           0.002889217865750164,
           -0.012036621902094771,
           0.01070033663888244,
           -0.018339733672212328,
           -0.11393685859568162,
           0.07035618448230374,
           -0.3872677829280785,
           -0.1939191470992078,
           -0.11020383387243517,
           -0.10230330550073197,
           0.036543339448210164,
           -0.002537854589751547,
           -0.09547773670640776,
           -0.0652917009103091,
           0.06198869077325203,
           0.06108123777122687,
           0.009113210326003087,
           -0.049910649083753186,
           -0.008555333868578032,
           -0.11509296346134239,
           -0.09531652573608992,
           0.04157043451959824,
           0.03731238503296963,
           0.004151299023856323,
           -0.02482186853706847,
           -0.2970026030557314,
           -0.15143416002683724,
           -0.1217767195610043,
           -0.1259888880376007,
           -0.09307931750864903,
           1,
           -0.03730528278804611,
           -0.08286424483260343,
           0.05420256229213969,
           0.018360600139447715,
           -0.028887265707142493,
           -0.009915936955524396,
           -0.1285779579259566
          ],
          [
           -0.046634788867427585,
           -0.04382454917560846,
           0.07002922773085365,
           0.020422829586133416,
           0.03037056713526452,
           0.025503660024132138,
           0.03135451306436603,
           0.045285809814976964,
           0.018795515294914033,
           0.026450506189898953,
           -0.029993397993921023,
           0.02076400569654798,
           0.03738372726300508,
           0.05610437448487508,
           -0.02435764842204794,
           -0.004295610410300094,
           0.020643189710186576,
           -0.00010609153998400853,
           0.035113630886772336,
           0.03535301658385297,
           -0.0049724884173161,
           -0.02447779636611455,
           -0.024600358690531954,
           -0.006683241010939702,
           0.011257238992774959,
           0.023543689573665077,
           0.035765285146453774,
           0.03508670020815975,
           -0.03277063359357436,
           -0.005842499340135753,
           -0.03730528278804611,
           1,
           -0.03143584703909575,
           -0.00799154887286895,
           0.00035396527793940183,
           0.02947379524994019,
           0.01864492540475066,
           0.04458366533574838
          ],
          [
           0.0013302086301727988,
           -0.026030176699806666,
           0.04138279067500582,
           0.04316037769525204,
           0.06488636049351544,
           0.05481052878611526,
           -0.05036443453861205,
           -0.038740010742610125,
           0.06146554318732188,
           0.06202062266534991,
           0.08887125137339073,
           -0.012579273444256824,
           0.08448898591431157,
           0.08875807262015682,
           0.040606447641001006,
           0.02679941302177244,
           0.10151039568208567,
           0.023147725763573802,
           0.03212140720908338,
           -0.00810609332811188,
           0.0724258451703809,
           0.044299691127134826,
           -0.05161336606147979,
           0.059382599559410935,
           0.18453026951684842,
           -0.07541751376190593,
           0.05049379192719834,
           0.05141176244520852,
           -0.07418135123983237,
           0.07430394385024312,
           -0.08286424483260343,
           -0.03143584703909575,
           1,
           0.05130739451790554,
           0.03194576077490817,
           0.023216991793307076,
           0.01069410600377114,
           0.11144657114291112
          ],
          [
           0.057043904789252316,
           0.008282707579624416,
           0.2061667752760768,
           0.07767239188017444,
           0.06516584360589199,
           -0.0019849422681841354,
           0.004949727615942999,
           0.005829372037106204,
           0.01172306121326672,
           0.1404912862549568,
           0.041709054681333575,
           -0.035092240793657914,
           0.12605313210083768,
           0.13152497564028254,
           0.08148687804909954,
           0.06215737226918922,
           0.1702053360005616,
           0.06761555618047507,
           0.02002462983851695,
           0.04960382558403366,
           0.0223814980554099,
           0.07070258356547471,
           -0.014525116015980777,
           0.0837573495149245,
           0.09507352203619863,
           -0.01450067856370222,
           0.020933531041465454,
           0.061047271702060014,
           0.07337820695645396,
           0.060762111489925795,
           0.05420256229213969,
           -0.00799154887286895,
           0.05130739451790554,
           1,
           0.02966865085402175,
           -0.033736640262791315,
           -0.0596889316752469,
           0.09240354949187318
          ],
          [
           -0.006242404848302426,
           -0.007683291329865976,
           0.003367556596191435,
           0.03806769201918336,
           -0.031406210500746504,
           0.0687768060572499,
           -0.03438313873672287,
           -0.010286248783081431,
           -0.02981539358527878,
           0.003571473474954695,
           0.004939781228437705,
           -0.023836645134507763,
           -0.018478922431472124,
           -0.021095719463122223,
           0.016196874604388505,
           -0.003792870779996453,
           -0.0024156395502935623,
           -0.02304702486861695,
           -0.007366524543625446,
           -0.014289844970848111,
           0.0012901448492839542,
           0.007766971998717607,
           0.062340724004379115,
           0.024762884163584138,
           0.0014086054430451757,
           -0.032417457821261826,
           -0.04308012810223063,
           -0.02739991441262488,
           -0.009551228238372468,
           -0.018583738987649336,
           0.018360600139447715,
           0.00035396527793940183,
           0.03194576077490817,
           0.02966865085402175,
           1,
           -0.006494550221282175,
           0.004906262452651876,
           -0.021189579640303213
          ],
          [
           0.021172176550393457,
           -0.013584643238322348,
           0.011199954759134238,
           0.0012049882225877268,
           0.07081517178517327,
           -0.003510838599939743,
           0.012398470595440986,
           0.02149000222687611,
           -0.005964715509114298,
           -0.015726948262154667,
           -0.015210737972006668,
           0.03488844300908206,
           0.013196178616778433,
           0.03137156035207926,
           0.035164427361791005,
           -0.02217396057953783,
           0.05023968081827284,
           -0.025360894315259907,
           0.03287270523409066,
           0.055872128991723384,
           -0.009049888212650292,
           0.04654385993628238,
           0.026588907230915452,
           0.036907077159844405,
           0.04635710249771968,
           0.0053370257603695135,
           0.040521730128251755,
           0.02797379982354057,
           0.021011044294297315,
           0.07125488475868938,
           -0.028887265707142493,
           0.02947379524994019,
           0.023216991793307076,
           -0.033736640262791315,
           -0.006494550221282175,
           1,
           -0.1457214126753949,
           0.046432245223819446
          ],
          [
           0.0007117940172075226,
           -0.02140703785109821,
           0.007449589209750463,
           -0.01426140729855021,
           -0.027346708327825386,
           0.043949745692488544,
           -0.01361768000183213,
           0.03574324712127364,
           -0.008201030967080006,
           0.014358922393909302,
           0.03170563698487945,
           -0.04125819493876721,
           -0.014968648018762356,
           -0.01360377050464661,
           -0.02869991393529755,
           -0.028920879782296086,
           -0.03652581962473121,
           0.06704913767140361,
           -0.04652388177400862,
           -0.019668840691520386,
           -0.010268668868105917,
           -0.03601389283370446,
           0.031687206500669154,
           -0.03451635430218269,
           -0.024095564980725313,
           -0.0010142778712734348,
           -0.039116904112831495,
           -0.027377940418545084,
           0.022270451009253036,
           -0.057619360142091326,
           -0.009915936955524396,
           0.01864492540475066,
           0.01069410600377114,
           -0.0596889316752469,
           0.004906262452651876,
           -0.1457214126753949,
           1,
           -0.028922585168736813
          ],
          [
           -0.021916719443430967,
           -0.08428413512659509,
           0.35179909657067737,
           0.2638433538714051,
           0.7909816005838053,
           -0.07785589404867797,
           0.5228973328794967,
           0.5071009671113866,
           0.47749304709571444,
           0.3864198062421535,
           -0.011378121450215146,
           0.21447910554696928,
           0.6135805515591943,
           0.6058521846919153,
           0.31933380283206736,
           -0.02560613000067955,
           0.7086244776126515,
           0.22712223313149427,
           -0.01684415429735895,
           0.5606637627484453,
           0.28410767559478256,
           0.16821315430073963,
           -0.13590737084214105,
           0.5337231555820284,
           0.46692883675152763,
           0.4863616774878596,
           0.6404091972583519,
           0.6234314389183622,
           0.32441344456812926,
           0.31585622711605504,
           -0.1285779579259566,
           0.04458366533574838,
           0.11144657114291112,
           0.09240354949187318,
           -0.021189579640303213,
           0.046432245223819446,
           -0.028922585168736813,
           1
          ]
         ]
        }
       ],
       "layout": {
        "coloraxis": {
         "colorscale": [
          [
           0,
           "#0d0887"
          ],
          [
           0.1111111111111111,
           "#46039f"
          ],
          [
           0.2222222222222222,
           "#7201a8"
          ],
          [
           0.3333333333333333,
           "#9c179e"
          ],
          [
           0.4444444444444444,
           "#bd3786"
          ],
          [
           0.5555555555555556,
           "#d8576b"
          ],
          [
           0.6666666666666666,
           "#ed7953"
          ],
          [
           0.7777777777777778,
           "#fb9f3a"
          ],
          [
           0.8888888888888888,
           "#fdca26"
          ],
          [
           1,
           "#f0f921"
          ]
         ]
        },
        "margin": {
         "t": 60
        },
        "template": {
         "data": {
          "bar": [
           {
            "error_x": {
             "color": "#2a3f5f"
            },
            "error_y": {
             "color": "#2a3f5f"
            },
            "marker": {
             "line": {
              "color": "#E5ECF6",
              "width": 0.5
             },
             "pattern": {
              "fillmode": "overlay",
              "size": 10,
              "solidity": 0.2
             }
            },
            "type": "bar"
           }
          ],
          "barpolar": [
           {
            "marker": {
             "line": {
              "color": "#E5ECF6",
              "width": 0.5
             },
             "pattern": {
              "fillmode": "overlay",
              "size": 10,
              "solidity": 0.2
             }
            },
            "type": "barpolar"
           }
          ],
          "carpet": [
           {
            "aaxis": {
             "endlinecolor": "#2a3f5f",
             "gridcolor": "white",
             "linecolor": "white",
             "minorgridcolor": "white",
             "startlinecolor": "#2a3f5f"
            },
            "baxis": {
             "endlinecolor": "#2a3f5f",
             "gridcolor": "white",
             "linecolor": "white",
             "minorgridcolor": "white",
             "startlinecolor": "#2a3f5f"
            },
            "type": "carpet"
           }
          ],
          "choropleth": [
           {
            "colorbar": {
             "outlinewidth": 0,
             "ticks": ""
            },
            "type": "choropleth"
           }
          ],
          "contour": [
           {
            "colorbar": {
             "outlinewidth": 0,
             "ticks": ""
            },
            "colorscale": [
             [
              0,
              "#0d0887"
             ],
             [
              0.1111111111111111,
              "#46039f"
             ],
             [
              0.2222222222222222,
              "#7201a8"
             ],
             [
              0.3333333333333333,
              "#9c179e"
             ],
             [
              0.4444444444444444,
              "#bd3786"
             ],
             [
              0.5555555555555556,
              "#d8576b"
             ],
             [
              0.6666666666666666,
              "#ed7953"
             ],
             [
              0.7777777777777778,
              "#fb9f3a"
             ],
             [
              0.8888888888888888,
              "#fdca26"
             ],
             [
              1,
              "#f0f921"
             ]
            ],
            "type": "contour"
           }
          ],
          "contourcarpet": [
           {
            "colorbar": {
             "outlinewidth": 0,
             "ticks": ""
            },
            "type": "contourcarpet"
           }
          ],
          "heatmap": [
           {
            "colorbar": {
             "outlinewidth": 0,
             "ticks": ""
            },
            "colorscale": [
             [
              0,
              "#0d0887"
             ],
             [
              0.1111111111111111,
              "#46039f"
             ],
             [
              0.2222222222222222,
              "#7201a8"
             ],
             [
              0.3333333333333333,
              "#9c179e"
             ],
             [
              0.4444444444444444,
              "#bd3786"
             ],
             [
              0.5555555555555556,
              "#d8576b"
             ],
             [
              0.6666666666666666,
              "#ed7953"
             ],
             [
              0.7777777777777778,
              "#fb9f3a"
             ],
             [
              0.8888888888888888,
              "#fdca26"
             ],
             [
              1,
              "#f0f921"
             ]
            ],
            "type": "heatmap"
           }
          ],
          "heatmapgl": [
           {
            "colorbar": {
             "outlinewidth": 0,
             "ticks": ""
            },
            "colorscale": [
             [
              0,
              "#0d0887"
             ],
             [
              0.1111111111111111,
              "#46039f"
             ],
             [
              0.2222222222222222,
              "#7201a8"
             ],
             [
              0.3333333333333333,
              "#9c179e"
             ],
             [
              0.4444444444444444,
              "#bd3786"
             ],
             [
              0.5555555555555556,
              "#d8576b"
             ],
             [
              0.6666666666666666,
              "#ed7953"
             ],
             [
              0.7777777777777778,
              "#fb9f3a"
             ],
             [
              0.8888888888888888,
              "#fdca26"
             ],
             [
              1,
              "#f0f921"
             ]
            ],
            "type": "heatmapgl"
           }
          ],
          "histogram": [
           {
            "marker": {
             "pattern": {
              "fillmode": "overlay",
              "size": 10,
              "solidity": 0.2
             }
            },
            "type": "histogram"
           }
          ],
          "histogram2d": [
           {
            "colorbar": {
             "outlinewidth": 0,
             "ticks": ""
            },
            "colorscale": [
             [
              0,
              "#0d0887"
             ],
             [
              0.1111111111111111,
              "#46039f"
             ],
             [
              0.2222222222222222,
              "#7201a8"
             ],
             [
              0.3333333333333333,
              "#9c179e"
             ],
             [
              0.4444444444444444,
              "#bd3786"
             ],
             [
              0.5555555555555556,
              "#d8576b"
             ],
             [
              0.6666666666666666,
              "#ed7953"
             ],
             [
              0.7777777777777778,
              "#fb9f3a"
             ],
             [
              0.8888888888888888,
              "#fdca26"
             ],
             [
              1,
              "#f0f921"
             ]
            ],
            "type": "histogram2d"
           }
          ],
          "histogram2dcontour": [
           {
            "colorbar": {
             "outlinewidth": 0,
             "ticks": ""
            },
            "colorscale": [
             [
              0,
              "#0d0887"
             ],
             [
              0.1111111111111111,
              "#46039f"
             ],
             [
              0.2222222222222222,
              "#7201a8"
             ],
             [
              0.3333333333333333,
              "#9c179e"
             ],
             [
              0.4444444444444444,
              "#bd3786"
             ],
             [
              0.5555555555555556,
              "#d8576b"
             ],
             [
              0.6666666666666666,
              "#ed7953"
             ],
             [
              0.7777777777777778,
              "#fb9f3a"
             ],
             [
              0.8888888888888888,
              "#fdca26"
             ],
             [
              1,
              "#f0f921"
             ]
            ],
            "type": "histogram2dcontour"
           }
          ],
          "mesh3d": [
           {
            "colorbar": {
             "outlinewidth": 0,
             "ticks": ""
            },
            "type": "mesh3d"
           }
          ],
          "parcoords": [
           {
            "line": {
             "colorbar": {
              "outlinewidth": 0,
              "ticks": ""
             }
            },
            "type": "parcoords"
           }
          ],
          "pie": [
           {
            "automargin": true,
            "type": "pie"
           }
          ],
          "scatter": [
           {
            "fillpattern": {
             "fillmode": "overlay",
             "size": 10,
             "solidity": 0.2
            },
            "type": "scatter"
           }
          ],
          "scatter3d": [
           {
            "line": {
             "colorbar": {
              "outlinewidth": 0,
              "ticks": ""
             }
            },
            "marker": {
             "colorbar": {
              "outlinewidth": 0,
              "ticks": ""
             }
            },
            "type": "scatter3d"
           }
          ],
          "scattercarpet": [
           {
            "marker": {
             "colorbar": {
              "outlinewidth": 0,
              "ticks": ""
             }
            },
            "type": "scattercarpet"
           }
          ],
          "scattergeo": [
           {
            "marker": {
             "colorbar": {
              "outlinewidth": 0,
              "ticks": ""
             }
            },
            "type": "scattergeo"
           }
          ],
          "scattergl": [
           {
            "marker": {
             "colorbar": {
              "outlinewidth": 0,
              "ticks": ""
             }
            },
            "type": "scattergl"
           }
          ],
          "scattermapbox": [
           {
            "marker": {
             "colorbar": {
              "outlinewidth": 0,
              "ticks": ""
             }
            },
            "type": "scattermapbox"
           }
          ],
          "scatterpolar": [
           {
            "marker": {
             "colorbar": {
              "outlinewidth": 0,
              "ticks": ""
             }
            },
            "type": "scatterpolar"
           }
          ],
          "scatterpolargl": [
           {
            "marker": {
             "colorbar": {
              "outlinewidth": 0,
              "ticks": ""
             }
            },
            "type": "scatterpolargl"
           }
          ],
          "scatterternary": [
           {
            "marker": {
             "colorbar": {
              "outlinewidth": 0,
              "ticks": ""
             }
            },
            "type": "scatterternary"
           }
          ],
          "surface": [
           {
            "colorbar": {
             "outlinewidth": 0,
             "ticks": ""
            },
            "colorscale": [
             [
              0,
              "#0d0887"
             ],
             [
              0.1111111111111111,
              "#46039f"
             ],
             [
              0.2222222222222222,
              "#7201a8"
             ],
             [
              0.3333333333333333,
              "#9c179e"
             ],
             [
              0.4444444444444444,
              "#bd3786"
             ],
             [
              0.5555555555555556,
              "#d8576b"
             ],
             [
              0.6666666666666666,
              "#ed7953"
             ],
             [
              0.7777777777777778,
              "#fb9f3a"
             ],
             [
              0.8888888888888888,
              "#fdca26"
             ],
             [
              1,
              "#f0f921"
             ]
            ],
            "type": "surface"
           }
          ],
          "table": [
           {
            "cells": {
             "fill": {
              "color": "#EBF0F8"
             },
             "line": {
              "color": "white"
             }
            },
            "header": {
             "fill": {
              "color": "#C8D4E3"
             },
             "line": {
              "color": "white"
             }
            },
            "type": "table"
           }
          ]
         },
         "layout": {
          "annotationdefaults": {
           "arrowcolor": "#2a3f5f",
           "arrowhead": 0,
           "arrowwidth": 1
          },
          "autotypenumbers": "strict",
          "coloraxis": {
           "colorbar": {
            "outlinewidth": 0,
            "ticks": ""
           }
          },
          "colorscale": {
           "diverging": [
            [
             0,
             "#8e0152"
            ],
            [
             0.1,
             "#c51b7d"
            ],
            [
             0.2,
             "#de77ae"
            ],
            [
             0.3,
             "#f1b6da"
            ],
            [
             0.4,
             "#fde0ef"
            ],
            [
             0.5,
             "#f7f7f7"
            ],
            [
             0.6,
             "#e6f5d0"
            ],
            [
             0.7,
             "#b8e186"
            ],
            [
             0.8,
             "#7fbc41"
            ],
            [
             0.9,
             "#4d9221"
            ],
            [
             1,
             "#276419"
            ]
           ],
           "sequential": [
            [
             0,
             "#0d0887"
            ],
            [
             0.1111111111111111,
             "#46039f"
            ],
            [
             0.2222222222222222,
             "#7201a8"
            ],
            [
             0.3333333333333333,
             "#9c179e"
            ],
            [
             0.4444444444444444,
             "#bd3786"
            ],
            [
             0.5555555555555556,
             "#d8576b"
            ],
            [
             0.6666666666666666,
             "#ed7953"
            ],
            [
             0.7777777777777778,
             "#fb9f3a"
            ],
            [
             0.8888888888888888,
             "#fdca26"
            ],
            [
             1,
             "#f0f921"
            ]
           ],
           "sequentialminus": [
            [
             0,
             "#0d0887"
            ],
            [
             0.1111111111111111,
             "#46039f"
            ],
            [
             0.2222222222222222,
             "#7201a8"
            ],
            [
             0.3333333333333333,
             "#9c179e"
            ],
            [
             0.4444444444444444,
             "#bd3786"
            ],
            [
             0.5555555555555556,
             "#d8576b"
            ],
            [
             0.6666666666666666,
             "#ed7953"
            ],
            [
             0.7777777777777778,
             "#fb9f3a"
            ],
            [
             0.8888888888888888,
             "#fdca26"
            ],
            [
             1,
             "#f0f921"
            ]
           ]
          },
          "colorway": [
           "#636efa",
           "#EF553B",
           "#00cc96",
           "#ab63fa",
           "#FFA15A",
           "#19d3f3",
           "#FF6692",
           "#B6E880",
           "#FF97FF",
           "#FECB52"
          ],
          "font": {
           "color": "#2a3f5f"
          },
          "geo": {
           "bgcolor": "white",
           "lakecolor": "white",
           "landcolor": "#E5ECF6",
           "showlakes": true,
           "showland": true,
           "subunitcolor": "white"
          },
          "hoverlabel": {
           "align": "left"
          },
          "hovermode": "closest",
          "mapbox": {
           "style": "light"
          },
          "paper_bgcolor": "white",
          "plot_bgcolor": "#E5ECF6",
          "polar": {
           "angularaxis": {
            "gridcolor": "white",
            "linecolor": "white",
            "ticks": ""
           },
           "bgcolor": "#E5ECF6",
           "radialaxis": {
            "gridcolor": "white",
            "linecolor": "white",
            "ticks": ""
           }
          },
          "scene": {
           "xaxis": {
            "backgroundcolor": "#E5ECF6",
            "gridcolor": "white",
            "gridwidth": 2,
            "linecolor": "white",
            "showbackground": true,
            "ticks": "",
            "zerolinecolor": "white"
           },
           "yaxis": {
            "backgroundcolor": "#E5ECF6",
            "gridcolor": "white",
            "gridwidth": 2,
            "linecolor": "white",
            "showbackground": true,
            "ticks": "",
            "zerolinecolor": "white"
           },
           "zaxis": {
            "backgroundcolor": "#E5ECF6",
            "gridcolor": "white",
            "gridwidth": 2,
            "linecolor": "white",
            "showbackground": true,
            "ticks": "",
            "zerolinecolor": "white"
           }
          },
          "shapedefaults": {
           "line": {
            "color": "#2a3f5f"
           }
          },
          "ternary": {
           "aaxis": {
            "gridcolor": "white",
            "linecolor": "white",
            "ticks": ""
           },
           "baxis": {
            "gridcolor": "white",
            "linecolor": "white",
            "ticks": ""
           },
           "bgcolor": "#E5ECF6",
           "caxis": {
            "gridcolor": "white",
            "linecolor": "white",
            "ticks": ""
           }
          },
          "title": {
           "x": 0.05
          },
          "xaxis": {
           "automargin": true,
           "gridcolor": "white",
           "linecolor": "white",
           "ticks": "",
           "title": {
            "standoff": 15
           },
           "zerolinecolor": "white",
           "zerolinewidth": 2
          },
          "yaxis": {
           "automargin": true,
           "gridcolor": "white",
           "linecolor": "white",
           "ticks": "",
           "title": {
            "standoff": 15
           },
           "zerolinecolor": "white",
           "zerolinewidth": 2
          }
         }
        },
        "xaxis": {
         "anchor": "y",
         "constrain": "domain",
         "domain": [
          0,
          1
         ],
         "scaleanchor": "y",
         "tickfont": {
          "size": 5
         }
        },
        "yaxis": {
         "anchor": "x",
         "autorange": "reversed",
         "constrain": "domain",
         "domain": [
          0,
          1
         ],
         "tickfont": {
          "size": 5
         }
        }
       }
      }
     },
     "metadata": {},
     "output_type": "display_data"
    }
   ],
   "source": [
    "import plotly.express as px\n",
    "import seaborn as sns\n",
    "\n",
    "corr = df.select_dtypes('number').corr()\n",
    "\n",
    "fig = px.imshow(corr)\n",
    "fig.update_layout(\n",
    "    yaxis={\"tickfont\": {\"size\": 5}},\n",
    "    xaxis={\"tickfont\": {\"size\": 5}})\n",
    "\n",
    "fig.show()"
   ]
  },
  {
   "cell_type": "code",
   "execution_count": 27,
   "metadata": {},
   "outputs": [
    {
     "data": {
      "text/plain": [
       "<seaborn.axisgrid.FacetGrid at 0x7fd9a961bfd0>"
      ]
     },
     "execution_count": 27,
     "metadata": {},
     "output_type": "execute_result"
    },
    {
     "data": {
      "image/png": "[encoded data removed]",
      "text/plain": [
       "<Figure size 500x500 with 1 Axes>"
      ]
     },
     "metadata": {},
     "output_type": "display_data"
    }
   ],
   "source": [
    "sns.lmplot(df, x=\"GrLivArea\", y=\"SalePrice\")"
   ]
  },
  {
   "cell_type": "markdown",
   "metadata": {},
   "source": [
    "## Trainen regressiemodellen\n"
   ]
  },
  {
   "cell_type": "code",
   "execution_count": 28,
   "metadata": {},
   "outputs": [],
   "source": [
    "import statsmodels.api as sm"
   ]
  },
  {
   "cell_type": "code",
   "execution_count": 29,
   "metadata": {},
   "outputs": [
    {
     "data": {
      "text/html": [
       "<table class=\"simpletable\">\n",
       "<caption>OLS Regression Results</caption>\n",
       "<tr>\n",
       "  <th>Dep. Variable:</th>        <td>SalePrice</td>    <th>  R-squared:         </th> <td>   0.502</td> \n",
       "</tr>\n",
       "<tr>\n",
       "  <th>Model:</th>                   <td>OLS</td>       <th>  Adj. R-squared:    </th> <td>   0.502</td> \n",
       "</tr>\n",
       "<tr>\n",
       "  <th>Method:</th>             <td>Least Squares</td>  <th>  F-statistic:       </th> <td>   1471.</td> \n",
       "</tr>\n",
       "<tr>\n",
       "  <th>Date:</th>             <td>Wed, 22 Nov 2023</td> <th>  Prob (F-statistic):</th> <td>4.52e-223</td>\n",
       "</tr>\n",
       "<tr>\n",
       "  <th>Time:</th>                 <td>15:02:11</td>     <th>  Log-Likelihood:    </th> <td> -18035.</td> \n",
       "</tr>\n",
       "<tr>\n",
       "  <th>No. Observations:</th>      <td>  1460</td>      <th>  AIC:               </th> <td>3.607e+04</td>\n",
       "</tr>\n",
       "<tr>\n",
       "  <th>Df Residuals:</th>          <td>  1458</td>      <th>  BIC:               </th> <td>3.608e+04</td>\n",
       "</tr>\n",
       "<tr>\n",
       "  <th>Df Model:</th>              <td>     1</td>      <th>                     </th>     <td> </td>    \n",
       "</tr>\n",
       "<tr>\n",
       "  <th>Covariance Type:</th>      <td>nonrobust</td>    <th>                     </th>     <td> </td>    \n",
       "</tr>\n",
       "</table>\n",
       "<table class=\"simpletable\">\n",
       "<tr>\n",
       "      <td></td>         <th>coef</th>     <th>std err</th>      <th>t</th>      <th>P>|t|</th>  <th>[0.025</th>    <th>0.975]</th>  \n",
       "</tr>\n",
       "<tr>\n",
       "  <th>const</th>     <td> 1.857e+04</td> <td> 4480.755</td> <td>    4.144</td> <td> 0.000</td> <td> 9779.612</td> <td> 2.74e+04</td>\n",
       "</tr>\n",
       "<tr>\n",
       "  <th>GrLivArea</th> <td>  107.1304</td> <td>    2.794</td> <td>   38.348</td> <td> 0.000</td> <td>  101.650</td> <td>  112.610</td>\n",
       "</tr>\n",
       "</table>\n",
       "<table class=\"simpletable\">\n",
       "<tr>\n",
       "  <th>Omnibus:</th>       <td>261.166</td> <th>  Durbin-Watson:     </th> <td>   2.025</td>\n",
       "</tr>\n",
       "<tr>\n",
       "  <th>Prob(Omnibus):</th> <td> 0.000</td>  <th>  Jarque-Bera (JB):  </th> <td>3432.287</td>\n",
       "</tr>\n",
       "<tr>\n",
       "  <th>Skew:</th>          <td> 0.410</td>  <th>  Prob(JB):          </th> <td>    0.00</td>\n",
       "</tr>\n",
       "<tr>\n",
       "  <th>Kurtosis:</th>      <td>10.467</td>  <th>  Cond. No.          </th> <td>4.90e+03</td>\n",
       "</tr>\n",
       "</table><br/><br/>Notes:<br/>[1] Standard Errors assume that the covariance matrix of the errors is correctly specified.<br/>[2] The condition number is large, 4.9e+03. This might indicate that there are<br/>strong multicollinearity or other numerical problems."
      ],
      "text/latex": [
       "\\begin{center}\n",
       "\\begin{tabular}{lclc}\n",
       "\\toprule\n",
       "\\textbf{Dep. Variable:}    &    SalePrice     & \\textbf{  R-squared:         } &     0.502   \\\\\n",
       "\\textbf{Model:}            &       OLS        & \\textbf{  Adj. R-squared:    } &     0.502   \\\\\n",
       "\\textbf{Method:}           &  Least Squares   & \\textbf{  F-statistic:       } &     1471.   \\\\\n",
       "\\textbf{Date:}             & Wed, 22 Nov 2023 & \\textbf{  Prob (F-statistic):} & 4.52e-223   \\\\\n",
       "\\textbf{Time:}             &     15:02:11     & \\textbf{  Log-Likelihood:    } &   -18035.   \\\\\n",
       "\\textbf{No. Observations:} &        1460      & \\textbf{  AIC:               } & 3.607e+04   \\\\\n",
       "\\textbf{Df Residuals:}     &        1458      & \\textbf{  BIC:               } & 3.608e+04   \\\\\n",
       "\\textbf{Df Model:}         &           1      & \\textbf{                     } &             \\\\\n",
       "\\textbf{Covariance Type:}  &    nonrobust     & \\textbf{                     } &             \\\\\n",
       "\\bottomrule\n",
       "\\end{tabular}\n",
       "\\begin{tabular}{lcccccc}\n",
       "                   & \\textbf{coef} & \\textbf{std err} & \\textbf{t} & \\textbf{P$> |$t$|$} & \\textbf{[0.025} & \\textbf{0.975]}  \\\\\n",
       "\\midrule\n",
       "\\textbf{const}     &    1.857e+04  &     4480.755     &     4.144  &         0.000        &     9779.612    &     2.74e+04     \\\\\n",
       "\\textbf{GrLivArea} &     107.1304  &        2.794     &    38.348  &         0.000        &      101.650    &      112.610     \\\\\n",
       "\\bottomrule\n",
       "\\end{tabular}\n",
       "\\begin{tabular}{lclc}\n",
       "\\textbf{Omnibus:}       & 261.166 & \\textbf{  Durbin-Watson:     } &    2.025  \\\\\n",
       "\\textbf{Prob(Omnibus):} &   0.000 & \\textbf{  Jarque-Bera (JB):  } & 3432.287  \\\\\n",
       "\\textbf{Skew:}          &   0.410 & \\textbf{  Prob(JB):          } &     0.00  \\\\\n",
       "\\textbf{Kurtosis:}      &  10.467 & \\textbf{  Cond. No.          } & 4.90e+03  \\\\\n",
       "\\bottomrule\n",
       "\\end{tabular}\n",
       "%\\caption{OLS Regression Results}\n",
       "\\end{center}\n",
       "\n",
       "Notes: \\newline\n",
       " [1] Standard Errors assume that the covariance matrix of the errors is correctly specified. \\newline\n",
       " [2] The condition number is large, 4.9e+03. This might indicate that there are \\newline\n",
       " strong multicollinearity or other numerical problems."
      ],
      "text/plain": [
       "<class 'statsmodels.iolib.summary.Summary'>\n",
       "\"\"\"\n",
       "                            OLS Regression Results                            \n",
       "==============================================================================\n",
       "Dep. Variable:              SalePrice   R-squared:                       0.502\n",
       "Model:                            OLS   Adj. R-squared:                  0.502\n",
       "Method:                 Least Squares   F-statistic:                     1471.\n",
       "Date:                Wed, 22 Nov 2023   Prob (F-statistic):          4.52e-223\n",
       "Time:                        15:02:11   Log-Likelihood:                -18035.\n",
       "No. Observations:                1460   AIC:                         3.607e+04\n",
       "Df Residuals:                    1458   BIC:                         3.608e+04\n",
       "Df Model:                           1                                         \n",
       "Covariance Type:            nonrobust                                         \n",
       "==============================================================================\n",
       "                 coef    std err          t      P>|t|      [0.025      0.975]\n",
       "------------------------------------------------------------------------------\n",
       "const       1.857e+04   4480.755      4.144      0.000    9779.612    2.74e+04\n",
       "GrLivArea    107.1304      2.794     38.348      0.000     101.650     112.610\n",
       "==============================================================================\n",
       "Omnibus:                      261.166   Durbin-Watson:                   2.025\n",
       "Prob(Omnibus):                  0.000   Jarque-Bera (JB):             3432.287\n",
       "Skew:                           0.410   Prob(JB):                         0.00\n",
       "Kurtosis:                      10.467   Cond. No.                     4.90e+03\n",
       "==============================================================================\n",
       "\n",
       "Notes:\n",
       "[1] Standard Errors assume that the covariance matrix of the errors is correctly specified.\n",
       "[2] The condition number is large, 4.9e+03. This might indicate that there are\n",
       "strong multicollinearity or other numerical problems.\n",
       "\"\"\""
      ]
     },
     "execution_count": 29,
     "metadata": {},
     "output_type": "execute_result"
    }
   ],
   "source": [
    "# Ordinary Least Squares regression\n",
    "reg = sm.OLS(df.SalePrice, sm.add_constant(df.GrLivArea)).fit()\n",
    "reg.summary()"
   ]
  },
  {
   "cell_type": "code",
   "execution_count": 30,
   "metadata": {},
   "outputs": [],
   "source": [
    "import numpy as np\n",
    "from sklearn.neighbors import KNeighborsRegressor\n",
    "from sklearn.model_selection import train_test_split"
   ]
  },
  {
   "cell_type": "markdown",
   "metadata": {},
   "source": [
    "### KNeighbors with one input variable\n"
   ]
  },
  {
   "cell_type": "code",
   "execution_count": 31,
   "metadata": {},
   "outputs": [
    {
     "name": "stdout",
     "output_type": "stream",
     "text": [
      "De regressiescore van dit model is: 0.6040086934190917\n",
      "met Y = SalePrice en X = GrLivArea\n"
     ]
    }
   ],
   "source": [
    "y = np.array(df.SalePrice)\n",
    "X = np.array(df['GrLivArea']).reshape(-1, 1)\n",
    "\n",
    "reg = KNeighborsRegressor().fit(X, y)\n",
    "\n",
    "print(f\"De regressiescore van dit model is: {reg.score(X,y)}\")\n",
    "print(\"met Y = SalePrice en X = GrLivArea\")"
   ]
  },
  {
   "cell_type": "markdown",
   "metadata": {},
   "source": [
    "### Prediction with user input\n"
   ]
  },
  {
   "cell_type": "code",
   "execution_count": 32,
   "metadata": {},
   "outputs": [
    {
     "data": {
      "text/plain": [
       "array([166205.2, 222280. ])"
      ]
     },
     "execution_count": 32,
     "metadata": {},
     "output_type": "execute_result"
    }
   ],
   "source": [
    "reg.predict([[1400], [1800]])"
   ]
  },
  {
   "cell_type": "markdown",
   "metadata": {},
   "source": [
    "### KNeighbors tested on same data as trained (overfitted)\n",
    "\n",
    "KNeirestNeighbours is een simpel algoritme dat vaak gebruikt wordt om classificatieproblemen op te lossen. Het werkt door het bereken van afstanden van het te voorspellen punt tot andere punten.\n",
    "In de praktijk kan dit bijvoorbeeld gebruikt worden om te voorspellen welke soort een bloem is op basis van de lengte van de bladeren en de dikte van de stam.\n",
    "Voor regressieproblemen zal het midden van de matchende punten gebruikt worden als voorspelling.\n",
    "Het voordeel van KNearestNeighbours is dat het een relatief simpel algoritme is en dat het snel te trainen valt, het nadeel is dat het niet erg slim is en niet in alle situaties goed werkt.\n"
   ]
  },
  {
   "cell_type": "code",
   "execution_count": 33,
   "metadata": {},
   "outputs": [
    {
     "name": "stdout",
     "output_type": "stream",
     "text": [
      "De regressiescore van dit model is: 0.9816175256270805\n",
      "met Y = SalePrice en de X parameters: ['GrLivArea', 'OverallQual', 'KitchenAbvGr']\n"
     ]
    }
   ],
   "source": [
    "# Defineer x parameters\n",
    "x_params = ['GrLivArea', 'OverallQual', 'KitchenAbvGr']\n",
    "\n",
    "# Defineer data als numpy arrays, dit kan gebruikt worden voor het trainen van het model\n",
    "y = np.array(df.SalePrice)\n",
    "X = np.array(df[x_params])\n",
    "\n",
    "# Train het model met de eerder gedefineerde data\n",
    "reg = KNeighborsRegressor(weights=\"distance\").fit(X, y)\n",
    "\n",
    "print(f\"De regressiescore van dit model is: {reg.score(X,y)}\")\n",
    "print(f\"met Y = SalePrice en de X parameters: {x_params}\")"
   ]
  },
  {
   "cell_type": "markdown",
   "metadata": {},
   "source": [
    "### KNeighbors train/test split, prove of overfitting\n"
   ]
  },
  {
   "cell_type": "code",
   "execution_count": 34,
   "metadata": {},
   "outputs": [
    {
     "name": "stdout",
     "output_type": "stream",
     "text": [
      "De regressiescore van dit model is: 0.5075977757034607\n",
      "met Y = SalePrice en de X parameters: ['GrLivArea', 'OverallQual', 'KitchenAbvGr']\n"
     ]
    }
   ],
   "source": [
    "x_params = ['GrLivArea', 'OverallQual', 'KitchenAbvGr']\n",
    "\n",
    "y = np.array(df.SalePrice)\n",
    "X = np.array(df[x_params])\n",
    "\n",
    "# Split de data in een training en een test dataset zodat later de nauwkeurigheid van het model getest kan worden\n",
    "X_train, X_test, y_train, y_test = train_test_split(\n",
    "    X, y, test_size=0.33, random_state=42)\n",
    "\n",
    "reg = KNeighborsRegressor(weights=\"distance\").fit(X_train, y_train)\n",
    "\n",
    "print(f\"De regressiescore van dit model is: {reg.score(X_test,y_test)}\")\n",
    "print(f\"met Y = SalePrice en de X parameters: {x_params}\")"
   ]
  },
  {
   "cell_type": "code",
   "execution_count": 35,
   "metadata": {},
   "outputs": [
    {
     "data": {
      "image/png": "[encoded data removed]",
      "text/plain": [
       "<Figure size 800x550 with 2 Axes>"
      ]
     },
     "metadata": {},
     "output_type": "display_data"
    },
    {
     "data": {
      "text/plain": [
       "<Axes: title={'center': 'Residuals for KNeighborsRegressor Model'}, xlabel='Predicted Value', ylabel='Residuals'>"
      ]
     },
     "execution_count": 35,
     "metadata": {},
     "output_type": "execute_result"
    }
   ],
   "source": [
    "from yellowbrick.regressor import ResidualsPlot\n",
    "\n",
    "x_params = ['GrLivArea', 'OverallQual', 'KitchenAbvGr']\n",
    "\n",
    "y = np.array(df.SalePrice)\n",
    "X = np.array(df[x_params])\n",
    "\n",
    "# Split de data in een training en een test dataset zodat later de nauwkeurigheid van het model getest kan worden\n",
    "X_train, X_test, y_train, y_test = train_test_split(\n",
    "    X, y, test_size=0.33, random_state=42)\n",
    "\n",
    "model = KNeighborsRegressor(weights=\"distance\")\n",
    "visualizer = ResidualsPlot(model)\n",
    "\n",
    "visualizer.fit(X_train, y_train)  # Fit the training data to the visualizer\n",
    "visualizer.score(X_test, y_test)  # Evaluate the model on the test data\n",
    "visualizer.show()"
   ]
  }
 ],
 "metadata": {
  "kernelspec": {
   "display_name": "base",
   "language": "python",
   "name": "python3"
  },
  "language_info": {
   "codemirror_mode": {
    "name": "ipython",
    "version": 3
   },
   "file_extension": ".py",
   "mimetype": "text/x-python",
   "name": "python",
   "nbconvert_exporter": "python",
   "pygments_lexer": "ipython3",
   "version": "3.11.5"
  }
 },
 "nbformat": 4,
 "nbformat_minor": 2
}
